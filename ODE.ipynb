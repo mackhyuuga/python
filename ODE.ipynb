{
 "cells": [
  {
   "cell_type": "code",
   "execution_count": 1,
   "id": "27a567f9",
   "metadata": {},
   "outputs": [
    {
     "data": {
      "text/html": [
       "        <script type=\"text/javascript\">\n",
       "        window.PlotlyConfig = {MathJaxConfig: 'local'};\n",
       "        if (window.MathJax) {MathJax.Hub.Config({SVG: {font: \"STIX-Web\"}});}\n",
       "        if (typeof require !== 'undefined') {\n",
       "        require.undef(\"plotly\");\n",
       "        requirejs.config({\n",
       "            paths: {\n",
       "                'plotly': ['https://cdn.plot.ly/plotly-latest.min']\n",
       "            }\n",
       "        });\n",
       "        require(['plotly'], function(Plotly) {\n",
       "            window._Plotly = Plotly;\n",
       "        });\n",
       "        }\n",
       "        </script>\n",
       "        "
      ]
     },
     "metadata": {},
     "output_type": "display_data"
    },
    {
     "data": {
      "text/html": [
       "        <script type=\"text/javascript\">\n",
       "        window.PlotlyConfig = {MathJaxConfig: 'local'};\n",
       "        if (window.MathJax) {MathJax.Hub.Config({SVG: {font: \"STIX-Web\"}});}\n",
       "        if (typeof require !== 'undefined') {\n",
       "        require.undef(\"plotly\");\n",
       "        requirejs.config({\n",
       "            paths: {\n",
       "                'plotly': ['https://cdn.plot.ly/plotly-latest.min']\n",
       "            }\n",
       "        });\n",
       "        require(['plotly'], function(Plotly) {\n",
       "            window._Plotly = Plotly;\n",
       "        });\n",
       "        }\n",
       "        </script>\n",
       "        "
      ]
     },
     "metadata": {},
     "output_type": "display_data"
    }
   ],
   "source": [
    "import numpy as np\n",
    "import pandas as pd\n",
    "from sympy import *\n",
    "import sympy as sy\n",
    "import scipy as sp\n",
    "import matplotlib.pyplot as plt\n",
    "import chart_studio.plotly as py\n",
    "import cufflinks as cf\n",
    "import seaborn as sns\n",
    "import plotly.express as px \n",
    "%matplotlib inline\n",
    "\n",
    "from plotly.offline import download_plotlyjs, init_notebook_mode, plot, iplot\n",
    "init_notebook_mode(connected=True)\n",
    "cf.go_offline()"
   ]
  },
  {
   "cell_type": "markdown",
   "id": "9ad5bf96",
   "metadata": {},
   "source": [
    "# ODE notation and its analytical solution with sympy\n"
   ]
  },
  {
   "cell_type": "code",
   "execution_count": 2,
   "id": "31a093c6",
   "metadata": {},
   "outputs": [],
   "source": [
    "x = sy.Symbol('x')\n",
    "y = sy.symbols('y t')\n",
    "f = sy.Function('f')(x)\n",
    "x = sy.Symbol('x')\n",
    "y, t = sy.symbols('y t')\n",
    "g = sy.Function('g')(y, t)\n",
    "omega = sy.Symbol('omega')"
   ]
  },
  {
   "cell_type": "code",
   "execution_count": 3,
   "id": "d84b5c18",
   "metadata": {
    "scrolled": true
   },
   "outputs": [
    {
     "data": {
      "text/latex": [
       "$\\displaystyle \\frac{d}{d x} f{\\left(x \\right)}$"
      ],
      "text/plain": [
       "Derivative(f(x), x)"
      ]
     },
     "execution_count": 3,
     "metadata": {},
     "output_type": "execute_result"
    }
   ],
   "source": [
    "f.diff(x) "
   ]
  },
  {
   "cell_type": "code",
   "execution_count": 4,
   "id": "95ac8381",
   "metadata": {
    "scrolled": false
   },
   "outputs": [
    {
     "data": {
      "text/latex": [
       "$\\displaystyle \\frac{\\partial^{2}}{\\partial y\\partial t} g{\\left(y,t \\right)}$"
      ],
      "text/plain": [
       "Derivative(g(y, t), t, y)"
      ]
     },
     "execution_count": 4,
     "metadata": {},
     "output_type": "execute_result"
    }
   ],
   "source": [
    "g.diff(y, t)"
   ]
  },
  {
   "cell_type": "code",
   "execution_count": 5,
   "id": "e7ffb339",
   "metadata": {},
   "outputs": [
    {
     "data": {
      "text/latex": [
       "$\\displaystyle - \\omega f{\\left(x \\right)} + \\frac{d^{2}}{d x^{2}} f{\\left(x \\right)} = 0$"
      ],
      "text/plain": [
       "Eq(-omega*f(x) + Derivative(f(x), (x, 2)), 0)"
      ]
     },
     "metadata": {},
     "output_type": "display_data"
    },
    {
     "data": {
      "text/latex": [
       "$\\displaystyle f{\\left(x \\right)} = C_{1} e^{- \\sqrt{\\omega} x} + C_{2} e^{\\sqrt{\\omega} x}$"
      ],
      "text/plain": [
       "Eq(f(x), C1*exp(-sqrt(omega)*x) + C2*exp(sqrt(omega)*x))"
      ]
     },
     "execution_count": 5,
     "metadata": {},
     "output_type": "execute_result"
    }
   ],
   "source": [
    "diffeq = Eq(f.diff(x,x)-omega*f,0)\n",
    "display(diffeq)\n",
    "\n",
    "dsolve(diffeq,f)"
   ]
  },
  {
   "cell_type": "markdown",
   "id": "bc947b59",
   "metadata": {},
   "source": [
    "# ODE notation and its numeric solution with SciPy\n"
   ]
  },
  {
   "cell_type": "code",
   "execution_count": null,
   "id": "a3867d4e",
   "metadata": {},
   "outputs": [],
   "source": [
    "# function\n",
    "def model(x, t):\n",
    "    k = 1\n",
    "    dxdt = k*x*2\n",
    "    return dxdt"
   ]
  },
  {
   "cell_type": "code",
   "execution_count": null,
   "id": "cb3dcd4c",
   "metadata": {},
   "outputs": [],
   "source": [
    "# initial condition\n",
    "x0 = 5 "
   ]
  },
  {
   "cell_type": "code",
   "execution_count": null,
   "id": "e277907e",
   "metadata": {},
   "outputs": [],
   "source": [
    "# time points \n",
    "t = np.linspace(0,10, 100)"
   ]
  },
  {
   "cell_type": "code",
   "execution_count": null,
   "id": "86891e7d",
   "metadata": {},
   "outputs": [],
   "source": [
    "# solve ODE\n",
    "x = sp.integrate.odeint(model, x0, t)"
   ]
  },
  {
   "cell_type": "code",
   "execution_count": null,
   "id": "a8f7655a",
   "metadata": {
    "scrolled": true
   },
   "outputs": [],
   "source": [
    "#  plot results\n",
    "plt.plot(t,x)\n",
    "plt.xlabel('t')\n",
    "plt.ylabel('x(t)')"
   ]
  },
  {
   "cell_type": "markdown",
   "id": "1fc02973",
   "metadata": {},
   "source": [
    "## Optimazation "
   ]
  },
  {
   "cell_type": "code",
   "execution_count": null,
   "id": "ca25e8f9",
   "metadata": {},
   "outputs": [],
   "source": [
    "from scipy.optimize import minimize "
   ]
  },
  {
   "cell_type": "code",
   "execution_count": 35,
   "id": "7ce41e6f",
   "metadata": {},
   "outputs": [
    {
     "data": {
      "text/plain": [
       "<matplotlib.collections.PathCollection at 0x7f80eb4c9eb0>"
      ]
     },
     "execution_count": 35,
     "metadata": {},
     "output_type": "execute_result"
    },
    {
     "data": {
      "image/png": "[encoded data removed]",
      "text/plain": [
       "<Figure size 432x288 with 1 Axes>"
      ]
     },
     "metadata": {
      "needs_background": "light"
     },
     "output_type": "display_data"
    }
   ],
   "source": [
    "x = np.linspace(0,10,10)\n",
    "y=x**2*np.sin(x)\n",
    "plt.scatter(x,y)"
   ]
  },
  {
   "cell_type": "code",
   "execution_count": 36,
   "id": "5023b20c",
   "metadata": {},
   "outputs": [],
   "source": [
    "from scipy.interpolate import interp1d"
   ]
  },
  {
   "cell_type": "code",
   "execution_count": 37,
   "id": "42f461da",
   "metadata": {},
   "outputs": [],
   "source": [
    "f = interp1d(x, y, kind= 'cubic')"
   ]
  },
  {
   "cell_type": "code",
   "execution_count": 38,
   "id": "b962b778",
   "metadata": {},
   "outputs": [],
   "source": [
    "x_dense = np.linspace(0,10,100)\n",
    "y_dense = f(x_dense)"
   ]
  },
  {
   "cell_type": "code",
   "execution_count": 39,
   "id": "3753b81f",
   "metadata": {},
   "outputs": [
    {
     "data": {
      "text/plain": [
       "[<matplotlib.lines.Line2D at 0x7f80eb4e6490>]"
      ]
     },
     "execution_count": 39,
     "metadata": {},
     "output_type": "execute_result"
    },
    {
     "data": {
      "image/png": "[encoded data removed]",
      "text/plain": [
       "<Figure size 432x288 with 1 Axes>"
      ]
     },
     "metadata": {
      "needs_background": "light"
     },
     "output_type": "display_data"
    }
   ],
   "source": [
    "plt.plot(x_dense,y_dense)"
   ]
  },
  {
   "cell_type": "code",
   "execution_count": 40,
   "id": "8d9e9273",
   "metadata": {},
   "outputs": [],
   "source": [
    "from scipy.optimize import curve_fit "
   ]
  },
  {
   "cell_type": "code",
   "execution_count": 41,
   "id": "e566b804",
   "metadata": {},
   "outputs": [
    {
     "data": {
      "text/plain": [
       "<matplotlib.collections.PathCollection at 0x7f80ea986d00>"
      ]
     },
     "execution_count": 41,
     "metadata": {},
     "output_type": "execute_result"
    },
    {
     "data": {
      "image/png": "[encoded data removed]",
      "text/plain": [
       "<Figure size 432x288 with 1 Axes>"
      ]
     },
     "metadata": {
      "needs_background": "light"
     },
     "output_type": "display_data"
    }
   ],
   "source": [
    "x_data = np.linspace(0,10,10)\n",
    "y_data = 3*x_data**2+2\n",
    "plt.scatter(x_data, y_data)"
   ]
  },
  {
   "cell_type": "code",
   "execution_count": null,
   "id": "e22aeef2",
   "metadata": {},
   "outputs": [],
   "source": [
    "def func(x,a,b):\n",
    "    return a*x**2*3+b"
   ]
  },
  {
   "cell_type": "code",
   "execution_count": null,
   "id": "806fe718",
   "metadata": {},
   "outputs": [],
   "source": [
    "popt, pcov = curve_fit(func, x_data, y_data, p0 = (1,1))\n",
    "popt"
   ]
  },
  {
   "cell_type": "code",
   "execution_count": null,
   "id": "a4209505",
   "metadata": {},
   "outputs": [],
   "source": [
    "plt.scatter(x_data, y_data)\n",
    "plt.scatter(x_data, func(x_data, popt[0], popt[1]))\n",
    "plt.show()"
   ]
  },
  {
   "cell_type": "code",
   "execution_count": null,
   "id": "dc935e19",
   "metadata": {},
   "outputs": [],
   "source": [
    "from scipy.special import legendre \n",
    "x = np.linspace(0,1,100)\n",
    "for i in range(5):\n",
    "    plt.plot(x, legendre(i)(x))\n",
    "plt.show()"
   ]
  },
  {
   "cell_type": "code",
   "execution_count": null,
   "id": "74255e03",
   "metadata": {},
   "outputs": [],
   "source": [
    "legendre(6)(x)"
   ]
  },
  {
   "cell_type": "code",
   "execution_count": null,
   "id": "7a26e7dd",
   "metadata": {},
   "outputs": [],
   "source": [
    "from scipy.misc import derivative "
   ]
  },
  {
   "cell_type": "code",
   "execution_count": null,
   "id": "7e287a2b",
   "metadata": {},
   "outputs": [],
   "source": [
    "f = lambda x: x**2 *np.sin(2*x)*np.exp(-x)\n",
    "x = np.linspace(0,1,100)\n",
    "plt.plot(x,f(x))"
   ]
  },
  {
   "cell_type": "code",
   "execution_count": null,
   "id": "05a79fe8",
   "metadata": {},
   "outputs": [],
   "source": [
    "derivative(f,x, dx = 1e-6)\n",
    "plt.plot(x, derivative(f, x, dx=1e-6))"
   ]
  },
  {
   "cell_type": "code",
   "execution_count": null,
   "id": "32b56203",
   "metadata": {},
   "outputs": [],
   "source": [
    "from scipy.integrate import quad"
   ]
  },
  {
   "cell_type": "code",
   "execution_count": null,
   "id": "cdeec3d1",
   "metadata": {},
   "outputs": [],
   "source": [
    "integrand = lambda x:x**2*np.sin(x)*np.exp(-x)\n",
    "integral, integral_error = quad(integrand, 0,1)"
   ]
  },
  {
   "cell_type": "code",
   "execution_count": null,
   "id": "bec01eb2",
   "metadata": {},
   "outputs": [],
   "source": [
    "integral_error"
   ]
  },
  {
   "cell_type": "code",
   "execution_count": null,
   "id": "1f5037ea",
   "metadata": {},
   "outputs": [],
   "source": [
    "from scipy.integrate import odeint"
   ]
  },
  {
   "cell_type": "code",
   "execution_count": null,
   "id": "13a41704",
   "metadata": {},
   "outputs": [],
   "source": [
    "def dvdt(v,t): \n",
    "    return 3*v**2 - 5\n",
    "v0 = 0"
   ]
  },
  {
   "cell_type": "code",
   "execution_count": null,
   "id": "57d11720",
   "metadata": {},
   "outputs": [],
   "source": [
    "t = np.linspace(0,1,100)\n",
    "sol = odeint(dvdt, v0, t)\n",
    "plt.plot(t, sol)"
   ]
  },
  {
   "cell_type": "code",
   "execution_count": null,
   "id": "6ea710fc",
   "metadata": {},
   "outputs": [],
   "source": [
    "A = 3*np.ones(4)"
   ]
  },
  {
   "cell_type": "code",
   "execution_count": null,
   "id": "5023eeeb",
   "metadata": {},
   "outputs": [],
   "source": [
    "A"
   ]
  },
  {
   "cell_type": "code",
   "execution_count": null,
   "id": "add840f5",
   "metadata": {},
   "outputs": [],
   "source": [
    "B = -1*np.ones(3)"
   ]
  },
  {
   "cell_type": "code",
   "execution_count": null,
   "id": "8038b066",
   "metadata": {},
   "outputs": [],
   "source": [
    "B"
   ]
  },
  {
   "cell_type": "code",
   "execution_count": null,
   "id": "9bab3b90",
   "metadata": {},
   "outputs": [],
   "source": [
    "X = np.diag(A)+np.diag(B, k =1)"
   ]
  },
  {
   "cell_type": "code",
   "execution_count": null,
   "id": "447c1780",
   "metadata": {},
   "outputs": [],
   "source": [
    "X"
   ]
  },
  {
   "cell_type": "code",
   "execution_count": 41,
   "id": "91dc7713",
   "metadata": {},
   "outputs": [
    {
     "data": {
      "text/plain": [
       "dtype('float64')"
      ]
     },
     "execution_count": 41,
     "metadata": {},
     "output_type": "execute_result"
    }
   ],
   "source": [
    "array_1 = np.random.rand(50,4)\n",
    "array_1.dtype"
   ]
  },
  {
   "cell_type": "code",
   "execution_count": 132,
   "id": "813b822e",
   "metadata": {},
   "outputs": [
    {
     "data": {
      "text/plain": [
       "<bound method DataFrame.info of            A         B         C         D\n",
       "1   0.422039  0.145760  0.626572  0.084812\n",
       "2   0.492316  0.988102  0.023159  0.332748\n",
       "3   0.500107  0.883169  0.989672  0.944695\n",
       "4   0.329047  0.150497  0.018182  0.190645\n",
       "5   0.102031  0.505081  0.443316  0.260481\n",
       "6   0.613739  0.772712  0.542712  0.333532\n",
       "7   0.179670  0.791475  0.750076  0.398805\n",
       "8   0.719176  0.689586  0.945638  0.278327\n",
       "9   0.220951  0.586309  0.085203  0.602443\n",
       "10  0.179382  0.665752  0.135798  0.386107\n",
       "11  0.106583  0.764672  0.840903  0.847447\n",
       "12  0.415053  0.666666  0.017004  0.799366\n",
       "13  0.351170  0.034714  0.189380  0.349835\n",
       "14  0.765466  0.619478  0.607550  0.165044\n",
       "15  0.370912  0.601609  0.232231  0.586850\n",
       "16  0.906838  0.668735  0.135375  0.220425\n",
       "17  0.630078  0.706558  0.440924  0.434856\n",
       "18  0.875601  0.517479  0.233572  0.966549\n",
       "19  0.003326  0.310000  0.842642  0.387286\n",
       "20  0.580805  0.525394  0.853815  0.818838\n",
       "21  0.101523  0.682653  0.157371  0.483712\n",
       "22  0.524931  0.473572  0.658647  0.264110\n",
       "23  0.080820  0.793622  0.067408  0.937797\n",
       "24  0.210433  0.973686  0.763445  0.138753\n",
       "25  0.795330  0.661673  0.645951  0.485762\n",
       "26  0.625305  0.146720  0.603811  0.046000\n",
       "27  0.508150  0.168848  0.464255  0.323009\n",
       "28  0.339227  0.206619  0.388962  0.898553\n",
       "29  0.457167  0.825937  0.952566  0.910323\n",
       "30  0.704486  0.640797  0.046583  0.212172\n",
       "31  0.113299  0.010364  0.208605  0.539611\n",
       "32  0.012498  0.805160  0.665394  0.435893\n",
       "33  0.406429  0.585155  0.078726  0.825740\n",
       "34  0.562866  0.444649  0.608058  0.978263\n",
       "35  0.110674  0.704751  0.288006  0.855535\n",
       "36  0.387787  0.401263  0.510678  0.001421\n",
       "37  0.695749  0.776752  0.539831  0.640787\n",
       "38  0.218413  0.124724  0.644569  0.320842\n",
       "39  0.863588  0.840182  0.385628  0.449064\n",
       "40  0.740342  0.260845  0.916182  0.410545\n",
       "41  0.050777  0.653614  0.047499  0.043056\n",
       "42  0.526811  0.753611  0.099600  0.193956\n",
       "43  0.106928  0.197291  0.693035  0.935499\n",
       "44  0.681208  0.600574  0.006885  0.906472\n",
       "45  0.411673  0.869420  0.947944  0.475602\n",
       "46  0.361564  0.178880  0.521133  0.601986\n",
       "47  0.612505  0.586029  0.799247  0.901695\n",
       "48  0.710489  0.660488  0.143213  0.016837\n",
       "49  0.825852  0.813030  0.126153  0.278711\n",
       "50  0.828970  0.781827  0.542933  0.342368>"
      ]
     },
     "execution_count": 132,
     "metadata": {},
     "output_type": "execute_result"
    },
    {
     "data": {
      "image/png": "[encoded data removed]",
      "text/plain": [
       "<Figure size 432x288 with 1 Axes>"
      ]
     },
     "metadata": {
      "needs_background": "light"
     },
     "output_type": "display_data"
    }
   ],
   "source": [
    "df_1 = pd.DataFrame(array_1, columns=['A', 'B', 'C', 'D'], index=list(range(1,51)))\n",
    "df_1.head()\n",
    "df_1.plot()\n",
    "df_1.info"
   ]
  },
  {
   "cell_type": "code",
   "execution_count": 42,
   "id": "0879ef12",
   "metadata": {},
   "outputs": [
    {
     "ename": "ValueError",
     "evalue": "All arguments should have the same length. The length of argument `y` is 105, whereas the length of  previously-processed arguments ['x'] is 10",
     "output_type": "error",
     "traceback": [
      "\u001b[0;31m---------------------------------------------------------------------------\u001b[0m",
      "\u001b[0;31mValueError\u001b[0m                                Traceback (most recent call last)",
      "\u001b[0;32m/tmp/ipykernel_47426/3271551403.py\u001b[0m in \u001b[0;36m<module>\u001b[0;34m\u001b[0m\n\u001b[1;32m      3\u001b[0m \u001b[0mpx\u001b[0m\u001b[0;34m.\u001b[0m\u001b[0mline\u001b[0m\u001b[0;34m(\u001b[0m\u001b[0mdf_stocks\u001b[0m\u001b[0;34m,\u001b[0m \u001b[0mx\u001b[0m\u001b[0;34m=\u001b[0m\u001b[0;34m'date'\u001b[0m\u001b[0;34m,\u001b[0m \u001b[0my\u001b[0m\u001b[0;34m=\u001b[0m\u001b[0;34m'GOOG'\u001b[0m\u001b[0;34m,\u001b[0m \u001b[0mlabels\u001b[0m\u001b[0;34m=\u001b[0m\u001b[0;34m{\u001b[0m\u001b[0;34m'x'\u001b[0m\u001b[0;34m:\u001b[0m \u001b[0;34m'Date'\u001b[0m\u001b[0;34m,\u001b[0m \u001b[0;34m'y'\u001b[0m\u001b[0;34m:\u001b[0m \u001b[0;34m'Price'\u001b[0m\u001b[0;34m}\u001b[0m\u001b[0;34m)\u001b[0m\u001b[0;34m\u001b[0m\u001b[0;34m\u001b[0m\u001b[0m\n\u001b[1;32m      4\u001b[0m \u001b[0;34m\u001b[0m\u001b[0m\n\u001b[0;32m----> 5\u001b[0;31m \u001b[0mpx\u001b[0m\u001b[0;34m.\u001b[0m\u001b[0mline\u001b[0m\u001b[0;34m(\u001b[0m\u001b[0mdf_stocks\u001b[0m\u001b[0;34m,\u001b[0m \u001b[0mx\u001b[0m\u001b[0;34m)\u001b[0m\u001b[0;34m\u001b[0m\u001b[0;34m\u001b[0m\u001b[0m\n\u001b[0m",
      "\u001b[0;32m~/anaconda3/lib/python3.9/site-packages/plotly/express/_chart_types.py\u001b[0m in \u001b[0;36mline\u001b[0;34m(data_frame, x, y, line_group, color, line_dash, hover_name, hover_data, custom_data, text, facet_row, facet_col, facet_col_wrap, facet_row_spacing, facet_col_spacing, error_x, error_x_minus, error_y, error_y_minus, animation_frame, animation_group, category_orders, labels, orientation, color_discrete_sequence, color_discrete_map, line_dash_sequence, line_dash_map, log_x, log_y, range_x, range_y, line_shape, render_mode, title, template, width, height)\u001b[0m\n\u001b[1;32m    250\u001b[0m     \u001b[0ma\u001b[0m \u001b[0mpolyline\u001b[0m \u001b[0mmark\u001b[0m \u001b[0;32min\u001b[0m \u001b[0;36m2\u001b[0m\u001b[0mD\u001b[0m \u001b[0mspace\u001b[0m\u001b[0;34m.\u001b[0m\u001b[0;34m\u001b[0m\u001b[0;34m\u001b[0m\u001b[0m\n\u001b[1;32m    251\u001b[0m     \"\"\"\n\u001b[0;32m--> 252\u001b[0;31m     \u001b[0;32mreturn\u001b[0m \u001b[0mmake_figure\u001b[0m\u001b[0;34m(\u001b[0m\u001b[0margs\u001b[0m\u001b[0;34m=\u001b[0m\u001b[0mlocals\u001b[0m\u001b[0;34m(\u001b[0m\u001b[0;34m)\u001b[0m\u001b[0;34m,\u001b[0m \u001b[0mconstructor\u001b[0m\u001b[0;34m=\u001b[0m\u001b[0mgo\u001b[0m\u001b[0;34m.\u001b[0m\u001b[0mScatter\u001b[0m\u001b[0;34m)\u001b[0m\u001b[0;34m\u001b[0m\u001b[0;34m\u001b[0m\u001b[0m\n\u001b[0m\u001b[1;32m    253\u001b[0m \u001b[0;34m\u001b[0m\u001b[0m\n\u001b[1;32m    254\u001b[0m \u001b[0;34m\u001b[0m\u001b[0m\n",
      "\u001b[0;32m~/anaconda3/lib/python3.9/site-packages/plotly/express/_core.py\u001b[0m in \u001b[0;36mmake_figure\u001b[0;34m(args, constructor, trace_patch, layout_patch)\u001b[0m\n\u001b[1;32m   1859\u001b[0m     \u001b[0mapply_default_cascade\u001b[0m\u001b[0;34m(\u001b[0m\u001b[0margs\u001b[0m\u001b[0;34m)\u001b[0m\u001b[0;34m\u001b[0m\u001b[0;34m\u001b[0m\u001b[0m\n\u001b[1;32m   1860\u001b[0m \u001b[0;34m\u001b[0m\u001b[0m\n\u001b[0;32m-> 1861\u001b[0;31m     \u001b[0margs\u001b[0m \u001b[0;34m=\u001b[0m \u001b[0mbuild_dataframe\u001b[0m\u001b[0;34m(\u001b[0m\u001b[0margs\u001b[0m\u001b[0;34m,\u001b[0m \u001b[0mconstructor\u001b[0m\u001b[0;34m)\u001b[0m\u001b[0;34m\u001b[0m\u001b[0;34m\u001b[0m\u001b[0m\n\u001b[0m\u001b[1;32m   1862\u001b[0m     \u001b[0;32mif\u001b[0m \u001b[0mconstructor\u001b[0m \u001b[0;32min\u001b[0m \u001b[0;34m[\u001b[0m\u001b[0mgo\u001b[0m\u001b[0;34m.\u001b[0m\u001b[0mTreemap\u001b[0m\u001b[0;34m,\u001b[0m \u001b[0mgo\u001b[0m\u001b[0;34m.\u001b[0m\u001b[0mSunburst\u001b[0m\u001b[0;34m]\u001b[0m \u001b[0;32mand\u001b[0m \u001b[0margs\u001b[0m\u001b[0;34m[\u001b[0m\u001b[0;34m\"path\"\u001b[0m\u001b[0;34m]\u001b[0m \u001b[0;32mis\u001b[0m \u001b[0;32mnot\u001b[0m \u001b[0;32mNone\u001b[0m\u001b[0;34m:\u001b[0m\u001b[0;34m\u001b[0m\u001b[0;34m\u001b[0m\u001b[0m\n\u001b[1;32m   1863\u001b[0m         \u001b[0margs\u001b[0m \u001b[0;34m=\u001b[0m \u001b[0mprocess_dataframe_hierarchy\u001b[0m\u001b[0;34m(\u001b[0m\u001b[0margs\u001b[0m\u001b[0;34m)\u001b[0m\u001b[0;34m\u001b[0m\u001b[0;34m\u001b[0m\u001b[0m\n",
      "\u001b[0;32m~/anaconda3/lib/python3.9/site-packages/plotly/express/_core.py\u001b[0m in \u001b[0;36mbuild_dataframe\u001b[0;34m(args, constructor)\u001b[0m\n\u001b[1;32m   1375\u001b[0m     \u001b[0;31m# now that things have been prepped, we do the systematic rewriting of `args`\u001b[0m\u001b[0;34m\u001b[0m\u001b[0;34m\u001b[0m\u001b[0m\n\u001b[1;32m   1376\u001b[0m \u001b[0;34m\u001b[0m\u001b[0m\n\u001b[0;32m-> 1377\u001b[0;31m     df_output, wide_id_vars = process_args_into_dataframe(\n\u001b[0m\u001b[1;32m   1378\u001b[0m         \u001b[0margs\u001b[0m\u001b[0;34m,\u001b[0m \u001b[0mwide_mode\u001b[0m\u001b[0;34m,\u001b[0m \u001b[0mvar_name\u001b[0m\u001b[0;34m,\u001b[0m \u001b[0mvalue_name\u001b[0m\u001b[0;34m\u001b[0m\u001b[0;34m\u001b[0m\u001b[0m\n\u001b[1;32m   1379\u001b[0m     )\n",
      "\u001b[0;32m~/anaconda3/lib/python3.9/site-packages/plotly/express/_core.py\u001b[0m in \u001b[0;36mprocess_args_into_dataframe\u001b[0;34m(args, wide_mode, var_name, value_name)\u001b[0m\n\u001b[1;32m   1219\u001b[0m \u001b[0;34m\u001b[0m\u001b[0m\n\u001b[1;32m   1220\u001b[0m                 \u001b[0;32mif\u001b[0m \u001b[0mlength\u001b[0m \u001b[0;32mand\u001b[0m \u001b[0mlen\u001b[0m\u001b[0;34m(\u001b[0m\u001b[0margument\u001b[0m\u001b[0;34m)\u001b[0m \u001b[0;34m!=\u001b[0m \u001b[0mlength\u001b[0m\u001b[0;34m:\u001b[0m\u001b[0;34m\u001b[0m\u001b[0;34m\u001b[0m\u001b[0m\n\u001b[0;32m-> 1221\u001b[0;31m                     raise ValueError(\n\u001b[0m\u001b[1;32m   1222\u001b[0m                         \u001b[0;34m\"All arguments should have the same length. \"\u001b[0m\u001b[0;34m\u001b[0m\u001b[0;34m\u001b[0m\u001b[0m\n\u001b[1;32m   1223\u001b[0m                         \u001b[0;34m\"The length of argument `%s` is %d, whereas the \"\u001b[0m\u001b[0;34m\u001b[0m\u001b[0;34m\u001b[0m\u001b[0m\n",
      "\u001b[0;31mValueError\u001b[0m: All arguments should have the same length. The length of argument `y` is 105, whereas the length of  previously-processed arguments ['x'] is 10"
     ]
    }
   ],
   "source": [
    "import plotly.graph_objects as go\n",
    "df_stocks = px.data.stocks()\n",
    "px.line(df_stocks, x='date', y='GOOG', labels={'x': 'Date', 'y': 'Price'})\n",
    "\n",
    "px.line(df_stocks, x)"
   ]
  },
  {
   "cell_type": "code",
   "execution_count": 43,
   "id": "99b5a784",
   "metadata": {},
   "outputs": [
    {
     "ename": "NameError",
     "evalue": "name 'df_1' is not defined",
     "output_type": "error",
     "traceback": [
      "\u001b[0;31m---------------------------------------------------------------------------\u001b[0m",
      "\u001b[0;31mNameError\u001b[0m                                 Traceback (most recent call last)",
      "\u001b[0;32m/tmp/ipykernel_47426/3391536463.py\u001b[0m in \u001b[0;36m<module>\u001b[0;34m\u001b[0m\n\u001b[0;32m----> 1\u001b[0;31m \u001b[0mdf_1\u001b[0m\u001b[0;34m.\u001b[0m\u001b[0mdescribe\u001b[0m\u001b[0;34m(\u001b[0m\u001b[0;34m)\u001b[0m\u001b[0;34m\u001b[0m\u001b[0;34m\u001b[0m\u001b[0m\n\u001b[0m",
      "\u001b[0;31mNameError\u001b[0m: name 'df_1' is not defined"
     ]
    }
   ],
   "source": [
    "df_1.describe()"
   ]
  },
  {
   "cell_type": "code",
   "execution_count": 75,
   "id": "a1197bca",
   "metadata": {},
   "outputs": [],
   "source": [
    "a = 10\n",
    "b = 80\n",
    "y = lambda x: a*np.sqrt(x**2+b**2) \n",
    "y2 = lambda x: a*x+a"
   ]
  },
  {
   "cell_type": "code",
   "execution_count": 79,
   "id": "92a06ada",
   "metadata": {},
   "outputs": [],
   "source": [
    "x = np.linspace(1,500,100)"
   ]
  },
  {
   "cell_type": "code",
   "execution_count": 80,
   "id": "50e2f709",
   "metadata": {},
   "outputs": [
    {
     "data": {
      "image/png": "[encoded data removed]",
      "text/plain": [
       "<Figure size 432x288 with 1 Axes>"
      ]
     },
     "metadata": {
      "needs_background": "light"
     },
     "output_type": "display_data"
    }
   ],
   "source": [
    "plt.plot(x,y(x))\n",
    "plt.plot(x,y2(x))\n",
    "plt.show()"
   ]
  },
  {
   "cell_type": "code",
   "execution_count": 14,
   "id": "7b8732ae",
   "metadata": {},
   "outputs": [
    {
     "data": {
      "text/plain": [
       "3.4"
      ]
     },
     "execution_count": 14,
     "metadata": {},
     "output_type": "execute_result"
    }
   ],
   "source": [
    "17/5"
   ]
  },
  {
   "cell_type": "code",
   "execution_count": 15,
   "id": "53e1fa64",
   "metadata": {},
   "outputs": [],
   "source": [
    "x =10 "
   ]
  },
  {
   "cell_type": "code",
   "execution_count": 21,
   "id": "130ceab3",
   "metadata": {},
   "outputs": [],
   "source": [
    "x = 'ca{}t'.format('s')"
   ]
  },
  {
   "cell_type": "code",
   "execution_count": 23,
   "id": "6d19fd3c",
   "metadata": {},
   "outputs": [],
   "source": [
    "age = 12.34928340923"
   ]
  },
  {
   "cell_type": "code",
   "execution_count": 25,
   "id": "c772e9b0",
   "metadata": {},
   "outputs": [
    {
     "name": "stdout",
     "output_type": "stream",
     "text": [
      "I'm 12 years old\n"
     ]
    }
   ],
   "source": [
    "print(\"I'm {} years old\".format(round(age)))"
   ]
  },
  {
   "cell_type": "code",
   "execution_count": 31,
   "id": "fa5a1ebf",
   "metadata": {},
   "outputs": [
    {
     "data": {
      "text/plain": [
       "4"
      ]
     },
     "execution_count": 31,
     "metadata": {},
     "output_type": "execute_result"
    }
   ],
   "source": [
    "x = (1, 2, 3, 4, 'cat')\n",
    "x[3]"
   ]
  },
  {
   "cell_type": "code",
   "execution_count": 32,
   "id": "2641938a",
   "metadata": {},
   "outputs": [],
   "source": [
    "d = {'cat': 'feline', 'dog': 4}"
   ]
  },
  {
   "cell_type": "code",
   "execution_count": 34,
   "id": "5c1100dc",
   "metadata": {},
   "outputs": [
    {
     "data": {
      "text/plain": [
       "4"
      ]
     },
     "execution_count": 34,
     "metadata": {},
     "output_type": "execute_result"
    }
   ],
   "source": [
    "d['dog']"
   ]
  },
  {
   "cell_type": "code",
   "execution_count": 35,
   "id": "fb6e57ec",
   "metadata": {},
   "outputs": [
    {
     "data": {
      "text/plain": [
       "<module 'numpy' from '/home/allison/anaconda3/lib/python3.9/site-packages/numpy/__init__.py'>"
      ]
     },
     "execution_count": 35,
     "metadata": {},
     "output_type": "execute_result"
    }
   ],
   "source": [
    "np"
   ]
  },
  {
   "cell_type": "code",
   "execution_count": 36,
   "id": "025360b1",
   "metadata": {},
   "outputs": [],
   "source": [
    "x = [1,2,3]"
   ]
  },
  {
   "cell_type": "code",
   "execution_count": 37,
   "id": "c207ff8e",
   "metadata": {},
   "outputs": [
    {
     "data": {
      "text/plain": [
       "[1, 2, 3, 1, 2, 3]"
      ]
     },
     "execution_count": 37,
     "metadata": {},
     "output_type": "execute_result"
    }
   ],
   "source": [
    "2*x"
   ]
  },
  {
   "cell_type": "code",
   "execution_count": 40,
   "id": "da2c3f45",
   "metadata": {},
   "outputs": [],
   "source": [
    "y = [56,7]"
   ]
  },
  {
   "cell_type": "code",
   "execution_count": 41,
   "id": "58185c45",
   "metadata": {},
   "outputs": [
    {
     "data": {
      "text/plain": [
       "[1, 2, 3, 56, 7]"
      ]
     },
     "execution_count": 41,
     "metadata": {},
     "output_type": "execute_result"
    }
   ],
   "source": [
    "x+y"
   ]
  },
  {
   "cell_type": "code",
   "execution_count": 44,
   "id": "d80a3347",
   "metadata": {},
   "outputs": [],
   "source": [
    "x = np.linspace(0,20,10)"
   ]
  },
  {
   "cell_type": "code",
   "execution_count": 54,
   "id": "c4f940cc",
   "metadata": {},
   "outputs": [],
   "source": [
    "x = np.arange(0, 20, 3)"
   ]
  },
  {
   "cell_type": "code",
   "execution_count": 57,
   "id": "c00f6f1f",
   "metadata": {},
   "outputs": [
    {
     "data": {
      "text/plain": [
       "array([ 0.,  3.,  6.,  9., 12., 15., 18.])"
      ]
     },
     "execution_count": 57,
     "metadata": {},
     "output_type": "execute_result"
    }
   ],
   "source": [
    "np.sqrt(x**2)"
   ]
  },
  {
   "cell_type": "code",
   "execution_count": 76,
   "id": "4389c537",
   "metadata": {},
   "outputs": [],
   "source": [
    "x = np.linspace(0,1,10)"
   ]
  },
  {
   "cell_type": "code",
   "execution_count": 66,
   "id": "aadf82e8",
   "metadata": {},
   "outputs": [
    {
     "data": {
      "text/plain": [
       "array([0.        , 0.01010101, 0.02020202, 0.03030303, 0.04040404,\n",
       "       0.05050505, 0.06060606, 0.07070707, 0.08080808, 0.09090909,\n",
       "       0.1010101 , 0.11111111, 0.12121212, 0.13131313, 0.14141414,\n",
       "       0.15151515, 0.16161616, 0.17171717, 0.18181818, 0.19191919,\n",
       "       0.2020202 , 0.21212121, 0.22222222, 0.23232323, 0.24242424,\n",
       "       0.25252525, 0.26262626, 0.27272727, 0.28282828, 0.29292929,\n",
       "       0.3030303 , 0.31313131, 0.32323232, 0.33333333, 0.34343434,\n",
       "       0.35353535, 0.36363636, 0.37373737, 0.38383838, 0.39393939,\n",
       "       0.4040404 , 0.41414141, 0.42424242, 0.43434343, 0.44444444,\n",
       "       0.45454545, 0.46464646, 0.47474747, 0.48484848, 0.49494949,\n",
       "       0.50505051, 0.51515152, 0.52525253, 0.53535354, 0.54545455,\n",
       "       0.55555556, 0.56565657, 0.57575758, 0.58585859, 0.5959596 ,\n",
       "       0.60606061, 0.61616162, 0.62626263, 0.63636364, 0.64646465,\n",
       "       0.65656566, 0.66666667, 0.67676768, 0.68686869, 0.6969697 ,\n",
       "       0.70707071, 0.71717172, 0.72727273, 0.73737374, 0.74747475,\n",
       "       0.75757576, 0.76767677, 0.77777778, 0.78787879, 0.7979798 ,\n",
       "       0.80808081, 0.81818182, 0.82828283, 0.83838384, 0.84848485,\n",
       "       0.85858586, 0.86868687, 0.87878788, 0.88888889, 0.8989899 ,\n",
       "       0.90909091, 0.91919192, 0.92929293, 0.93939394, 0.94949495,\n",
       "       0.95959596, 0.96969697, 0.97979798, 0.98989899, 1.        ])"
      ]
     },
     "execution_count": 66,
     "metadata": {},
     "output_type": "execute_result"
    }
   ],
   "source": [
    "x"
   ]
  },
  {
   "cell_type": "code",
   "execution_count": 78,
   "id": "0274204c",
   "metadata": {},
   "outputs": [
    {
     "data": {
      "image/png": "[encoded data removed]",
      "text/plain": [
       "<Figure size 432x288 with 1 Axes>"
      ]
     },
     "metadata": {
      "needs_background": "light"
     },
     "output_type": "display_data"
    }
   ],
   "source": [
    "plt.plot(x,x**2)\n",
    "plt.plot(x,x**3)\n",
    "plt.plot(x,x**4)\n",
    "plt.plot(x,x**5)\n",
    "plt.show()"
   ]
  },
  {
   "cell_type": "code",
   "execution_count": 85,
   "id": "558a035b",
   "metadata": {},
   "outputs": [
    {
     "data": {
      "text/plain": [
       "[<matplotlib.lines.Line2D at 0x7f41b77c21f0>]"
      ]
     },
     "execution_count": 85,
     "metadata": {},
     "output_type": "execute_result"
    },
    {
     "data": {
      "image/png": "[encoded data removed]",
      "text/plain": [
       "<Figure size 432x288 with 1 Axes>"
      ]
     },
     "metadata": {
      "needs_background": "light"
     },
     "output_type": "display_data"
    }
   ],
   "source": [
    "plt.plot(x,x**2,linestyle = 'dashed')"
   ]
  },
  {
   "cell_type": "code",
   "execution_count": 100,
   "id": "9878f739",
   "metadata": {},
   "outputs": [],
   "source": [
    "list = []\n",
    "for i in range(21):\n",
    "    list.append(i**8)"
   ]
  },
  {
   "cell_type": "code",
   "execution_count": 102,
   "id": "f4d457e1",
   "metadata": {},
   "outputs": [
    {
     "data": {
      "text/plain": [
       "array([0. , 0.1, 0.2, 0.3, 0.4, 0.5, 0.6, 0.7, 0.8, 0.9])"
      ]
     },
     "execution_count": 102,
     "metadata": {},
     "output_type": "execute_result"
    }
   ],
   "source": [
    "np.arange(0,1,0.1)"
   ]
  },
  {
   "cell_type": "code",
   "execution_count": 113,
   "id": "cfc76616",
   "metadata": {},
   "outputs": [],
   "source": [
    "lis = np.arange(0,1,0.1)"
   ]
  },
  {
   "cell_type": "code",
   "execution_count": 114,
   "id": "2be90227",
   "metadata": {},
   "outputs": [
    {
     "name": "stdout",
     "output_type": "stream",
     "text": [
      "0.0\n",
      "0.1\n",
      "0.2\n",
      "0.30000000000000004\n",
      "0.4\n",
      "0.5\n",
      "0.6000000000000001\n",
      "0.7000000000000001\n",
      "0.8\n",
      "0.9\n"
     ]
    }
   ],
   "source": [
    "for i, item in enumerate(lis):\n",
    "    print(item)"
   ]
  },
  {
   "cell_type": "code",
   "execution_count": 118,
   "id": "153cef40",
   "metadata": {},
   "outputs": [],
   "source": [
    "lista = [i**3 for i in range(21)]"
   ]
  },
  {
   "cell_type": "code",
   "execution_count": 119,
   "id": "82d40bf1",
   "metadata": {},
   "outputs": [
    {
     "data": {
      "text/plain": [
       "[0,\n",
       " 1,\n",
       " 8,\n",
       " 27,\n",
       " 64,\n",
       " 125,\n",
       " 216,\n",
       " 343,\n",
       " 512,\n",
       " 729,\n",
       " 1000,\n",
       " 1331,\n",
       " 1728,\n",
       " 2197,\n",
       " 2744,\n",
       " 3375,\n",
       " 4096,\n",
       " 4913,\n",
       " 5832,\n",
       " 6859,\n",
       " 8000]"
      ]
     },
     "execution_count": 119,
     "metadata": {},
     "output_type": "execute_result"
    }
   ],
   "source": [
    "lista"
   ]
  },
  {
   "cell_type": "code",
   "execution_count": 120,
   "id": "682ea3ac",
   "metadata": {},
   "outputs": [
    {
     "name": "stdout",
     "output_type": "stream",
     "text": [
      "i=0 j=0\n",
      "i=0 j=1\n",
      "i=0 j=2\n",
      "i=0 j=3\n",
      "i=0 j=4\n",
      "i=1 j=0\n",
      "i=1 j=1\n",
      "i=1 j=2\n",
      "i=1 j=3\n",
      "i=1 j=4\n",
      "i=2 j=0\n",
      "i=2 j=1\n",
      "i=2 j=2\n",
      "i=2 j=3\n",
      "i=2 j=4\n",
      "i=3 j=0\n",
      "i=3 j=1\n",
      "i=3 j=2\n",
      "i=3 j=3\n",
      "i=3 j=4\n",
      "i=4 j=0\n",
      "i=4 j=1\n",
      "i=4 j=2\n",
      "i=4 j=3\n",
      "i=4 j=4\n"
     ]
    }
   ],
   "source": [
    "for i in range(5):\n",
    "    for j in range(5):\n",
    "        print('i={} j={}'.format(i,j))"
   ]
  },
  {
   "cell_type": "code",
   "execution_count": 121,
   "id": "8e29308d",
   "metadata": {},
   "outputs": [],
   "source": [
    "a = True \n",
    "b = False "
   ]
  },
  {
   "cell_type": "code",
   "execution_count": 129,
   "id": "00b21715",
   "metadata": {},
   "outputs": [
    {
     "name": "stdout",
     "output_type": "stream",
     "text": [
      "yes\n"
     ]
    }
   ],
   "source": [
    "if a or b:\n",
    "    print('yes')"
   ]
  },
  {
   "cell_type": "code",
   "execution_count": 130,
   "id": "81d8ba34",
   "metadata": {},
   "outputs": [
    {
     "data": {
      "text/plain": [
       "True"
      ]
     },
     "execution_count": 130,
     "metadata": {},
     "output_type": "execute_result"
    }
   ],
   "source": [
    "'a' in 'cat'"
   ]
  },
  {
   "cell_type": "code",
   "execution_count": 29,
   "id": "deead47e",
   "metadata": {},
   "outputs": [],
   "source": [
    "m=np.array([[0,1],[-1,0]])"
   ]
  },
  {
   "cell_type": "code",
   "execution_count": 30,
   "id": "a1cfb487",
   "metadata": {},
   "outputs": [
    {
     "data": {
      "text/plain": [
       "array([[ 0,  1],\n",
       "       [-1,  0]])"
      ]
     },
     "execution_count": 30,
     "metadata": {},
     "output_type": "execute_result"
    }
   ],
   "source": [
    "m"
   ]
  },
  {
   "cell_type": "code",
   "execution_count": 34,
   "id": "329d2f94",
   "metadata": {},
   "outputs": [
    {
     "data": {
      "text/plain": [
       "array([[1, 0],\n",
       "       [0, 1]])"
      ]
     },
     "execution_count": 34,
     "metadata": {},
     "output_type": "execute_result"
    }
   ],
   "source": [
    "np.dot(np.dot(np.dot(m,m),m),m)"
   ]
  },
  {
   "cell_type": "code",
   "execution_count": null,
   "id": "602cc2ae",
   "metadata": {},
   "outputs": [],
   "source": []
  }
 ],
 "metadata": {
  "kernelspec": {
   "display_name": "Python 3 (ipykernel)",
   "language": "python",
   "name": "python3"
  },
  "language_info": {
   "codemirror_mode": {
    "name": "ipython",
    "version": 3
   },
   "file_extension": ".py",
   "mimetype": "text/x-python",
   "name": "python",
   "nbconvert_exporter": "python",
   "pygments_lexer": "ipython3",
   "version": "3.9.7"
  }
 },
 "nbformat": 4,
 "nbformat_minor": 5
}
