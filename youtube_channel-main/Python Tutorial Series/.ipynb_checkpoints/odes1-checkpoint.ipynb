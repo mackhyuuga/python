{
 "cells": [
  {
   "cell_type": "code",
   "execution_count": 1,
   "metadata": {},
   "outputs": [],
   "source": [
    "import numpy as np\n",
    "import matplotlib.pyplot as plt\n",
    "import scipy as sp\n",
    "from scipy.integrate import odeint\n",
    "from scipy.integrate import solve_ivp"
   ]
  },
  {
   "cell_type": "markdown",
   "metadata": {},
   "source": [
    "# First Order ODEs\n",
    "\n",
    "Air friction while falling\n",
    "\n",
    "$$ \\frac{dv}{dt} - \\alpha v^2 + \\beta = 0 \\hspace{10mm} v(0) = 0$$\n",
    "\n",
    "The first thing we need to do is write it in the form\n",
    "\n",
    "$$\\frac{dv}{dt} = f(t,v)$$\n",
    "\n",
    "In other words, \"derivative of v equals something that depends v and time\". This is easy in this example:\n",
    "\n",
    "$$\\frac{dv}{dt} = \\alpha v^2 - \\beta$$\n",
    "\n",
    "and note that there is no dependence on time in this particular example. We need to write this differential equation in **python form**"
   ]
  },
  {
   "cell_type": "code",
   "execution_count": 2,
   "metadata": {},
   "outputs": [],
   "source": [
    "def dvdt(t, v):\n",
    "    return 3*v**2 - 5\n",
    "v0 = 0"
   ]
  },
  {
   "cell_type": "markdown",
   "metadata": {},
   "source": [
    "Solve differential equation. There are two main solvers in scipy\n",
    "\n",
    "* `odeint`: Pretty classic, uses a particular solve called lsoda from the FORTRAN library odepack\n",
    "* `solve_ivp`: More customizable, can choose from a list of possible solvers"
   ]
  },
  {
   "cell_type": "code",
   "execution_count": 3,
   "metadata": {},
   "outputs": [],
   "source": [
    "t = np.linspace(0, 1, 100)\n",
    "sol_m1 = odeint(dvdt, y0=v0, t=t, tfirst=True)\n",
    "sol_m2 = solve_ivp(dvdt, t_span=(0,max(t)), y0=[v0], t_eval=t)"
   ]
  },
  {
   "cell_type": "markdown",
   "metadata": {},
   "source": [
    "Look at the solution. It will become obvious why it is returned in this form once we deal with systems of ODEs (what these solvers are really meant for)"
   ]
  },
  {
   "cell_type": "code",
   "execution_count": 8,
   "metadata": {},
   "outputs": [],
   "source": [
    "#sol_m1"
   ]
  },
  {
   "cell_type": "code",
   "execution_count": 9,
   "metadata": {},
   "outputs": [],
   "source": [
    "#sol_m2"
   ]
  },
  {
   "cell_type": "code",
   "execution_count": 10,
   "metadata": {},
   "outputs": [],
   "source": [
    "v_sol_m1 = sol_m1.T[0]\n",
    "v_sol_m2 = sol_m2.y[0]"
   ]
  },
  {
   "cell_type": "markdown",
   "metadata": {},
   "source": [
    "Plot"
   ]
  },
  {
   "cell_type": "code",
   "execution_count": 11,
   "metadata": {},
   "outputs": [
    {
     "data": {
      "image/png": "[encoded data removed]",
      "text/plain": [
       "<Figure size 432x288 with 1 Axes>"
      ]
     },
     "metadata": {
      "needs_background": "light"
     },
     "output_type": "display_data"
    }
   ],
   "source": [
    "plt.plot(t, v_sol_m1)\n",
    "plt.plot(t, v_sol_m2, '--')\n",
    "plt.ylabel('$v(t)$', fontsize=22)\n",
    "plt.xlabel('$t$', fontsize=22)\n",
    "plt.show()"
   ]
  },
  {
   "cell_type": "markdown",
   "metadata": {},
   "source": [
    "# Coupled first order ODEs\n",
    "\n",
    "$$ y_1' = y_1 + y_2^2 + 3x \\hspace{10mm} y_1(0)=0$$\n",
    "$$ y_2' = 3y_1 + y_2^3 - \\cos(x) \\hspace{10mm} y_2(0)=0$$\n",
    "\n",
    "Letting $S=(y_1, y_2)$ we need to write a function that returns $dS/dx = (dy_1/dx, dy_2/dx)$. The function $dS/dx$ can take in $S=(y_1, y_2)$ and $x$. This is like before, but in vector format\n",
    "\n",
    "$$ \\vec{S} = \\begin{bmatrix} y_1 \\\\ y_2 \\end{bmatrix} \\hspace{10mm} \\implies  \\hspace{10mm} \\frac{d\\vec{S}}{dx} = \\vec{f}(x, \\vec{S}) = \\vec{f}(x, y_1, y_2) =  \\begin{bmatrix} y_1' \\\\ y_2' \\end{bmatrix}  = \\begin{bmatrix}  y_1 + y_2^2 + 3x\\\\ 3y_1 + y_2^3 - \\cos(x) \\end{bmatrix}$$"
   ]
  },
  {
   "cell_type": "code",
   "execution_count": 17,
   "metadata": {},
   "outputs": [],
   "source": [
    "def dSdx(x, S):\n",
    "    y1, y2 = S\n",
    "    return [y1 + y2**2  + 3*x,\n",
    "           3*y1 + y2**3 - np.cos(x)]\n",
    "y1_0 = 0\n",
    "y2_0 = 0\n",
    "S_0 = (y1_0, y2_0)"
   ]
  },
  {
   "cell_type": "markdown",
   "metadata": {},
   "source": [
    "Solve this ODE"
   ]
  },
  {
   "cell_type": "code",
   "execution_count": 18,
   "metadata": {},
   "outputs": [],
   "source": [
    "x = np.linspace(0, 1, 100)\n",
    "sol = odeint(dSdx, y0=S_0, t=x, tfirst=True)"
   ]
  },
  {
   "cell_type": "markdown",
   "metadata": {},
   "source": [
    "Get $y_1$ and $y_2$ from the solution"
   ]
  },
  {
   "cell_type": "code",
   "execution_count": 19,
   "metadata": {},
   "outputs": [],
   "source": [
    "y1_sol = sol.T[0]\n",
    "y2_sol = sol.T[1]"
   ]
  },
  {
   "cell_type": "markdown",
   "metadata": {},
   "source": [
    "And plot"
   ]
  },
  {
   "cell_type": "code",
   "execution_count": 20,
   "metadata": {},
   "outputs": [
    {
     "data": {
      "text/plain": [
       "[<matplotlib.lines.Line2D at 0x227a6795c10>]"
      ]
     },
     "execution_count": 20,
     "metadata": {},
     "output_type": "execute_result"
    },
    {
     "data": {
      "image/png": "[encoded data removed]",
      "text/plain": [
       "<Figure size 432x288 with 1 Axes>"
      ]
     },
     "metadata": {
      "needs_background": "light"
     },
     "output_type": "display_data"
    }
   ],
   "source": [
    "plt.plot(x, y1_sol)\n",
    "plt.plot(x, y2_sol)"
   ]
  },
  {
   "cell_type": "markdown",
   "metadata": {},
   "source": [
    "# Second Order ODEs"
   ]
  },
  {
   "cell_type": "markdown",
   "metadata": {},
   "source": [
    "**Python does not have functions to directly solve second order ODEs**. \n",
    "* But **any second order ODE can be converted into two first order ODEs**.\n",
    "\n",
    "Consider \n",
    "\n",
    "$$\\ddot{x} = -\\dot{x}^2 + \\sin(x)$$\n",
    "\n",
    "We can convert this into two first order ODEs as follows:\n",
    "\n",
    "* Take $x$ (this is what we're trying to solve for). Then define $\\dot{x}=v$ so that $v$ becomes a new variable.\n",
    "* Note that $\\dot{x}=v$ is one differential equation\n",
    "* Since $\\dot{v} = \\ddot{x} = -\\dot{x}^2 + \\sin(x) = -v^2 + \\sin(x)$ we get another differential equation\n",
    "\n",
    "Our two equations:\n",
    "\n",
    "$$\\dot{x} = v$$\n",
    "$$\\dot{v} = -v^2 + \\sin(x)$$\n",
    "\n",
    "These are two coupled first order equations. They require an initial condition ($x_0$ and $v_0$)"
   ]
  },
  {
   "cell_type": "code",
   "execution_count": 28,
   "metadata": {},
   "outputs": [],
   "source": [
    "def dSdx(x, S):\n",
    "    x, v = S\n",
    "    return [v,\n",
    "           -v**2 + np.sin(x)]\n",
    "x_0 = 0\n",
    "v_0 = 5\n",
    "S_0 = (x_0, v_0)"
   ]
  },
  {
   "cell_type": "code",
   "execution_count": 29,
   "metadata": {},
   "outputs": [],
   "source": [
    "t = np.linspace(0, 1, 100)\n",
    "sol = odeint(dSdx, y0=S_0, t=t, tfirst=True)"
   ]
  },
  {
   "cell_type": "code",
   "execution_count": 30,
   "metadata": {},
   "outputs": [],
   "source": [
    "x_sol = sol.T[0]\n",
    "v_sol = sol.T[1]"
   ]
  },
  {
   "cell_type": "code",
   "execution_count": 31,
   "metadata": {},
   "outputs": [
    {
     "data": {
      "text/plain": [
       "[<matplotlib.lines.Line2D at 0x227a7811a30>]"
      ]
     },
     "execution_count": 31,
     "metadata": {},
     "output_type": "execute_result"
    },
    {
     "data": {
      "image/png": "[encoded data removed]",
      "text/plain": [
       "<Figure size 432x288 with 1 Axes>"
      ]
     },
     "metadata": {
      "needs_background": "light"
     },
     "output_type": "display_data"
    }
   ],
   "source": [
    "plt.plot(t, x_sol)\n",
    "plt.plot(t, v_sol)"
   ]
  },
  {
   "cell_type": "markdown",
   "metadata": {},
   "source": [
    "This process can be repeated for third order (required defining two new variables) fourth order (requires defining three new variables) and so on..."
   ]
  },
  {
   "cell_type": "markdown",
   "metadata": {},
   "source": [
    "**Example:** Two coupled third order equations\n",
    "\n",
    "$$\\dddot{x_2}= -\\ddot{x_1}^3 + \\dot{x_2} + x_1 + \\sin(t)$$\n",
    "$$\\dddot{x_1}= -2\\dot{x_2}^2 + x_2$$"
   ]
  },
  {
   "cell_type": "markdown",
   "metadata": {},
   "source": [
    "Define \n",
    "* $v_1 = \\dot{x_1}$\n",
    "* $v_2 = \\dot{x_2}$\n",
    "* $a_1 = \\ddot{x_1} = \\dot{v_1}$\n",
    "* $a_2 = \\ddot{x_2} = \\dot{v_2}$\n",
    "\n",
    "These make up four differential equations. Then noting that $\\dot{a_1} = \\dddot{x_1}$ and $\\dot{a_2} = \\dddot{x_2}$ we get\n",
    "\n",
    "* $\\dot{a_2} = -a_1^3 + v_2 + x_1 + \\sin(t)$\n",
    "* $\\dot{a_1} = -2v_2^2 + x_2$\n",
    "\n",
    "Then\n",
    "\n",
    "$$\\vec{S} = \\begin{bmatrix} x_1\\\\ v_1 \\\\ a_1 \\\\ x_2 \\\\ v_2 \\\\ a_2 \\end{bmatrix} \\hspace{10mm} \\implies \\hspace{10mm} \\frac{d\\vec{S}}{dt} = \\begin{bmatrix} \\dot{x_1}\\\\ \\dot{v_1} \\\\ \\dot{a_1} \\\\ \\dot{x_2} \\\\ \\dot{v_2} \\\\ \\dot{a_2} \\end{bmatrix} =  \\begin{bmatrix} v_1\\\\ a_1 \\\\ -2v_2^2 + x_2 \\\\ v_2 \\\\ a_2 \\\\ -a_1^3 + v_2 + x_1 + \\sin(t) \\end{bmatrix}$$"
   ]
  },
  {
   "cell_type": "code",
   "execution_count": 43,
   "metadata": {},
   "outputs": [],
   "source": [
    "def dSdt(t, S):\n",
    "    x1, v1, a1, x2, v2, a2 = S\n",
    "    return [v1,\n",
    "            a1,\n",
    "            -2*v2**2 + x2,\n",
    "            v2,\n",
    "            a2,\n",
    "            -a1**3 + v2 + v1 + np.sin(t)]\n",
    "x1_0 = 0\n",
    "v1_0 = 0\n",
    "a1_0 = 0\n",
    "x2_0 = 0\n",
    "v2_0 = 0\n",
    "a2_0 = 0\n",
    "v_0 = 0\n",
    "S_0 = (x1_0, v1_0, a1_0, x1_0, v1_0, a1_0)"
   ]
  },
  {
   "cell_type": "code",
   "execution_count": 46,
   "metadata": {},
   "outputs": [],
   "source": [
    "t = np.linspace(0, 1, 100)\n",
    "sol = odeint(dSdt, y0=S_0, t=t, tfirst=True)"
   ]
  },
  {
   "cell_type": "code",
   "execution_count": 47,
   "metadata": {},
   "outputs": [
    {
     "data": {
      "text/plain": [
       "[<matplotlib.lines.Line2D at 0x227a6612df0>]"
      ]
     },
     "execution_count": 47,
     "metadata": {},
     "output_type": "execute_result"
    },
    {
     "data": {
      "image/png": "[encoded data removed]",
      "text/plain": [
       "<Figure size 432x288 with 1 Axes>"
      ]
     },
     "metadata": {
      "needs_background": "light"
     },
     "output_type": "display_data"
    }
   ],
   "source": [
    "plt.plot(t,sol.T[0])"
   ]
  }
 ],
 "metadata": {
  "kernelspec": {
   "display_name": "Python 3",
   "language": "python",
   "name": "python3"
  },
  "language_info": {
   "codemirror_mode": {
    "name": "ipython",
    "version": 3
   },
   "file_extension": ".py",
   "mimetype": "text/x-python",
   "name": "python",
   "nbconvert_exporter": "python",
   "pygments_lexer": "ipython3",
   "version": "3.8.5"
  }
 },
 "nbformat": 4,
 "nbformat_minor": 4
}
