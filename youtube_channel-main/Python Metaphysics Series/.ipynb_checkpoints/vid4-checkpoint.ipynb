{
 "cells": [
  {
   "cell_type": "code",
   "execution_count": 1,
   "metadata": {},
   "outputs": [],
   "source": [
    "import numpy as np\n",
    "import sympy as smp\n",
    "from scipy.integrate import odeint\n",
    "import matplotlib.pyplot as plt\n",
    "from matplotlib import animation\n",
    "from mpl_toolkits.mplot3d import Axes3D\n",
    "from matplotlib.animation import PillowWriter"
   ]
  },
  {
   "cell_type": "markdown",
   "metadata": {},
   "source": [
    "Position confined to some 1D path: $x=x(\\theta)$ and $y=y(\\theta)$ A few examples\n",
    "\n",
    "* Parabola: $x = \\theta$ and $y=\\theta^2$\n",
    "* Simple Pendulum: $x = \\cos(\\theta)$ and $y=\\sin(\\theta)$\n",
    "* Tautochrone: $x = \\sin(2\\theta) + 2\\theta$ and $y=1-\\cos(2 \\theta)$\n",
    "* Many more ...\n",
    "    \n",
    "\n",
    "Kinetic Energy: $ T = \\frac{1}{2}m (\\dot{x}^2 + \\dot{y}^2) $\n",
    "\n",
    "Potential Energy: $ V = mgy $\n",
    "\n",
    "The Lagrangian: $L = T- V $\n",
    "\n",
    "Lagranges Equation: $\\frac{dL}{d\\theta} - \\frac{d}{dt} \\frac{dL}{d\\dot{\\theta}} = 0$"
   ]
  },
  {
   "cell_type": "markdown",
   "metadata": {},
   "source": [
    "Define variables"
   ]
  },
  {
   "cell_type": "code",
   "execution_count": 2,
   "metadata": {},
   "outputs": [],
   "source": [
    "t, m, g = smp.symbols('t m g')\n",
    "the = smp.symbols(r'\\theta', cls=smp.Function)\n",
    "the = the(t)\n",
    "the_d = smp.diff(the, t)\n",
    "the_dd = smp.diff(the_d, t)"
   ]
  },
  {
   "cell_type": "code",
   "execution_count": 3,
   "metadata": {},
   "outputs": [
    {
     "data": {
      "text/latex": [
       "$\\displaystyle \\frac{d^{2}}{d t^{2}} \\theta{\\left(t \\right)}$"
      ],
      "text/plain": [
       "Derivative(\\theta(t), (t, 2))"
      ]
     },
     "execution_count": 3,
     "metadata": {},
     "output_type": "execute_result"
    }
   ],
   "source": [
    "the_dd"
   ]
  },
  {
   "cell_type": "markdown",
   "metadata": {},
   "source": [
    "Make sure $x$ and $y$ are functions of $\\theta$"
   ]
  },
  {
   "cell_type": "code",
   "execution_count": 4,
   "metadata": {},
   "outputs": [],
   "source": [
    "x, y = smp.symbols('x y', cls=smp.Function)\n",
    "x = x(the)\n",
    "y = y(the)"
   ]
  },
  {
   "cell_type": "markdown",
   "metadata": {},
   "source": [
    "Define $x$ and $y$"
   ]
  },
  {
   "cell_type": "code",
   "execution_count": 5,
   "metadata": {},
   "outputs": [],
   "source": [
    "path='taut'\n",
    "if path=='taut':\n",
    "    x = smp.sin(2*the) + 2*the\n",
    "    y = 1 - smp.cos(2*the)\n",
    "    x_f = smp.lambdify(the, x)\n",
    "    y_f = smp.lambdify(the, y)\n",
    "if path=='parab':\n",
    "    x = the\n",
    "    y = the**2\n",
    "    x_f = smp.lambdify(the, x)\n",
    "    y_f = smp.lambdify(the, y)"
   ]
  },
  {
   "cell_type": "markdown",
   "metadata": {},
   "source": [
    "Define $T$, $V$, and $L$"
   ]
  },
  {
   "cell_type": "code",
   "execution_count": 6,
   "metadata": {},
   "outputs": [],
   "source": [
    "T = 1/2 * m * (smp.diff(x,t)**2 + smp.diff(y,t)**2)\n",
    "V = m*g*y\n",
    "L = T-V"
   ]
  },
  {
   "cell_type": "code",
   "execution_count": 7,
   "metadata": {},
   "outputs": [
    {
     "data": {
      "text/latex": [
       "$\\displaystyle - g m \\left(1 - \\cos{\\left(2 \\theta{\\left(t \\right)} \\right)}\\right) + 0.5 m \\left(\\left(2 \\cos{\\left(2 \\theta{\\left(t \\right)} \\right)} \\frac{d}{d t} \\theta{\\left(t \\right)} + 2 \\frac{d}{d t} \\theta{\\left(t \\right)}\\right)^{2} + 4 \\sin^{2}{\\left(2 \\theta{\\left(t \\right)} \\right)} \\left(\\frac{d}{d t} \\theta{\\left(t \\right)}\\right)^{2}\\right)$"
      ],
      "text/plain": [
       "-g*m*(1 - cos(2*\\theta(t))) + 0.5*m*((2*cos(2*\\theta(t))*Derivative(\\theta(t), t) + 2*Derivative(\\theta(t), t))**2 + 4*sin(2*\\theta(t))**2*Derivative(\\theta(t), t)**2)"
      ]
     },
     "execution_count": 7,
     "metadata": {},
     "output_type": "execute_result"
    }
   ],
   "source": [
    "L"
   ]
  },
  {
   "cell_type": "markdown",
   "metadata": {},
   "source": [
    "Compute $\\frac{dL}{d\\theta} - \\frac{d}{dt} \\frac{dL}{d\\dot{\\theta}}$ (which is equal to zero:Lagranges equation)"
   ]
  },
  {
   "cell_type": "code",
   "execution_count": 8,
   "metadata": {},
   "outputs": [],
   "source": [
    "LE = smp.diff(L, the) - smp.diff(smp.diff(L, the_d), t)\n",
    "LE = LE.simplify()"
   ]
  },
  {
   "cell_type": "code",
   "execution_count": 9,
   "metadata": {},
   "outputs": [
    {
     "data": {
      "text/latex": [
       "$\\displaystyle m \\left(- 2.0 g \\sin{\\left(2 \\theta{\\left(t \\right)} \\right)} + 8.0 \\sin{\\left(2 \\theta{\\left(t \\right)} \\right)} \\left(\\frac{d}{d t} \\theta{\\left(t \\right)}\\right)^{2} - 8.0 \\cos{\\left(2 \\theta{\\left(t \\right)} \\right)} \\frac{d^{2}}{d t^{2}} \\theta{\\left(t \\right)} - 8.0 \\frac{d^{2}}{d t^{2}} \\theta{\\left(t \\right)}\\right)$"
      ],
      "text/plain": [
       "m*(-2.0*g*sin(2*\\theta(t)) + 8.0*sin(2*\\theta(t))*Derivative(\\theta(t), t)**2 - 8.0*cos(2*\\theta(t))*Derivative(\\theta(t), (t, 2)) - 8.0*Derivative(\\theta(t), (t, 2)))"
      ]
     },
     "execution_count": 9,
     "metadata": {},
     "output_type": "execute_result"
    }
   ],
   "source": [
    "LE"
   ]
  },
  {
   "cell_type": "markdown",
   "metadata": {},
   "source": [
    "Solve for $d^2 \\theta / dt^2 $ so we can solve it with an ODE solver. Our system of equations will then be\n",
    "\n",
    "$$ \\frac{d \\theta}{dt} = \\omega$$\n",
    "$$\\frac{d \\omega}{dt} = \\frac{d^2 \\theta}{dt^2} =  \\text{whatever is returned} $$"
   ]
  },
  {
   "cell_type": "code",
   "execution_count": 10,
   "metadata": {},
   "outputs": [],
   "source": [
    "deriv_2 =smp.solve(LE, the_dd)[0]\n",
    "deriv_1 = the_d"
   ]
  },
  {
   "cell_type": "code",
   "execution_count": 11,
   "metadata": {},
   "outputs": [
    {
     "data": {
      "text/latex": [
       "$\\displaystyle 0.25 \\left(- g + 4.0 \\left(\\frac{d}{d t} \\theta{\\left(t \\right)}\\right)^{2}\\right) \\tan{\\left(\\theta{\\left(t \\right)} \\right)}$"
      ],
      "text/plain": [
       "0.25*(-g + 4.0*Derivative(\\theta(t), t)**2)*tan(\\theta(t))"
      ]
     },
     "execution_count": 11,
     "metadata": {},
     "output_type": "execute_result"
    }
   ],
   "source": [
    "deriv_2"
   ]
  },
  {
   "cell_type": "markdown",
   "metadata": {},
   "source": [
    "Convert this into a numpy expression:"
   ]
  },
  {
   "cell_type": "code",
   "execution_count": 12,
   "metadata": {},
   "outputs": [],
   "source": [
    "deriv2_f = smp.lambdify((g, the, the_d), deriv_2)\n",
    "deriv1_f = smp.lambdify(the_d, the_d)"
   ]
  },
  {
   "cell_type": "markdown",
   "metadata": {},
   "source": [
    "$S = (\\theta, \\omega) $"
   ]
  },
  {
   "cell_type": "markdown",
   "metadata": {},
   "source": [
    "Create ODE"
   ]
  },
  {
   "cell_type": "code",
   "execution_count": 13,
   "metadata": {},
   "outputs": [],
   "source": [
    "def dSdt(S, t):\n",
    "    return [\n",
    "        deriv1_f(S[1]), #dtheta/dt\n",
    "        deriv2_f(g, S[0], S[1]) #domega/dt\n",
    "    ]"
   ]
  },
  {
   "cell_type": "markdown",
   "metadata": {},
   "source": [
    "Solve"
   ]
  },
  {
   "cell_type": "code",
   "execution_count": 14,
   "metadata": {},
   "outputs": [],
   "source": [
    "t = np.linspace(0, 20, 1000)\n",
    "g = 9.81\n",
    "ans1 = odeint(dSdt, y0=[np.pi/4, 0], t=t)\n",
    "ans2 = odeint(dSdt, y0=[np.pi/5, 0], t=t)"
   ]
  },
  {
   "cell_type": "markdown",
   "metadata": {},
   "source": [
    "Plot"
   ]
  },
  {
   "cell_type": "code",
   "execution_count": 15,
   "metadata": {},
   "outputs": [
    {
     "data": {
      "text/plain": [
       "[<matplotlib.lines.Line2D at 0x1fdef50f520>]"
      ]
     },
     "execution_count": 15,
     "metadata": {},
     "output_type": "execute_result"
    },
    {
     "data": {
      "image/png": "[encoded data removed]",
      "text/plain": [
       "<Figure size 432x288 with 1 Axes>"
      ]
     },
     "metadata": {
      "needs_background": "light"
     },
     "output_type": "display_data"
    }
   ],
   "source": [
    "plt.plot(t,ans1.T[0])\n",
    "plt.plot(t,ans2.T[0])"
   ]
  },
  {
   "cell_type": "code",
   "execution_count": 16,
   "metadata": {},
   "outputs": [],
   "source": [
    "def get_xy(theta):\n",
    "    return x_f(theta), y_f(theta)"
   ]
  },
  {
   "cell_type": "code",
   "execution_count": 17,
   "metadata": {},
   "outputs": [],
   "source": [
    "x1, y1 = get_xy(ans1.T[0])\n",
    "x2, y2 = get_xy(ans2.T[0])"
   ]
  },
  {
   "cell_type": "code",
   "execution_count": 19,
   "metadata": {},
   "outputs": [
    {
     "data": {
      "image/png": "[encoded data removed]",
      "text/plain": [
       "<Figure size 432x288 with 1 Axes>"
      ]
     },
     "metadata": {
      "needs_background": "light"
     },
     "output_type": "display_data"
    }
   ],
   "source": [
    "def animate(i):\n",
    "    ln1.set_data([x1[i]], [y1[i]])\n",
    "    ln2.set_data([x2[i]], [y2[i]])\n",
    "    \n",
    "fig, ax = plt.subplots(1,1)\n",
    "ax.grid()\n",
    "ln1, = plt.plot([], [], 'ro')\n",
    "ln2, = plt.plot([], [], 'ro')\n",
    "ax.set_ylim(-1, 4)\n",
    "ax.set_xlim(-4,4)\n",
    "ani = animation.FuncAnimation(fig, animate, frames=1000, interval=50)\n",
    "ani.save('pen.gif',writer='pillow',fps=50)"
   ]
  },
  {
   "cell_type": "code",
   "execution_count": null,
   "metadata": {},
   "outputs": [],
   "source": []
  },
  {
   "cell_type": "code",
   "execution_count": null,
   "metadata": {},
   "outputs": [],
   "source": []
  }
 ],
 "metadata": {
  "kernelspec": {
   "display_name": "Python 3",
   "language": "python",
   "name": "python3"
  },
  "language_info": {
   "codemirror_mode": {
    "name": "ipython",
    "version": 3
   },
   "file_extension": ".py",
   "mimetype": "text/x-python",
   "name": "python",
   "nbconvert_exporter": "python",
   "pygments_lexer": "ipython3",
   "version": "3.8.5"
  }
 },
 "nbformat": 4,
 "nbformat_minor": 4
}
