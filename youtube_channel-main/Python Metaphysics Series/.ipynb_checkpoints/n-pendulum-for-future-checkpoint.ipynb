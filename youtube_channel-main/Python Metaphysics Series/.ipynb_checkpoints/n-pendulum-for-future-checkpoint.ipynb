{
 "cells": [
  {
   "cell_type": "code",
   "execution_count": 95,
   "metadata": {},
   "outputs": [],
   "source": [
    "import numpy as np\n",
    "import sympy as smp\n",
    "from scipy.integrate import odeint\n",
    "import matplotlib.pyplot as plt\n",
    "from matplotlib import animation\n",
    "from mpl_toolkits.mplot3d import Axes3D\n",
    "from matplotlib.animation import PillowWriter"
   ]
  },
  {
   "cell_type": "markdown",
   "metadata": {},
   "source": [
    "Horizontal position\n",
    "* $x_1 = L_1 \\sin(\\theta_1)$\n",
    "* $x_2 = L_1 \\sin(\\theta_1) + L_2 \\sin(\\theta_2)$\n",
    "* ...\n",
    "* $x_n = \\sum L_i \\sin(\\theta_i)$\n",
    "\n",
    "Vertical position\n",
    "* $y_1 = -L_1 \\cos(\\theta_1)$\n",
    "* $y_2 = -L_1 \\cos(\\theta_1)-L_2 \\cos(\\theta_2)$\n",
    "*\n",
    "* $y_n = -\\sum L_i \\cos(\\theta_i)$"
   ]
  },
  {
   "cell_type": "markdown",
   "metadata": {},
   "source": [
    "Lagrangian"
   ]
  },
  {
   "cell_type": "markdown",
   "metadata": {},
   "source": [
    "$$\\mathcal{L} = \\sum_i \\left( \\frac{1}{2} m_i (\\dot{x}_i^2+\\dot{y}_i^2)- m_i g y_i \\right)$$"
   ]
  },
  {
   "cell_type": "code",
   "execution_count": 196,
   "metadata": {},
   "outputs": [],
   "source": [
    "N = 4"
   ]
  },
  {
   "cell_type": "code",
   "execution_count": 197,
   "metadata": {},
   "outputs": [],
   "source": [
    "t, g = smp.symbols('t g')\n",
    "ms = smp.symbols(f'm0:{N}')\n",
    "Ls = smp.symbols(f'L0:{N}')\n",
    "thetas = smp.symbols(f'theta0:{N}', cls=smp.Function)"
   ]
  },
  {
   "cell_type": "code",
   "execution_count": 198,
   "metadata": {},
   "outputs": [],
   "source": [
    "thetas = [theta(t) for theta in thetas]\n",
    "thetas_d = [smp.diff(theta) for theta in thetas]\n",
    "thetas_dd = [smp.diff(theta_d) for theta_d in thetas_d]"
   ]
  },
  {
   "cell_type": "code",
   "execution_count": 199,
   "metadata": {},
   "outputs": [
    {
     "data": {
      "text/latex": [
       "$\\displaystyle \\frac{d^{2}}{d t^{2}} \\theta_{0}{\\left(t \\right)}$"
      ],
      "text/plain": [
       "Derivative(theta0(t), (t, 2))"
      ]
     },
     "execution_count": 199,
     "metadata": {},
     "output_type": "execute_result"
    }
   ],
   "source": [
    "thetas_dd[0]"
   ]
  },
  {
   "cell_type": "code",
   "execution_count": 200,
   "metadata": {},
   "outputs": [],
   "source": [
    "xs = smp.symbols(f'x0:{N}', cls=smp.Function)\n",
    "ys = smp.symbols(f'y0:{N}', cls=smp.Function)"
   ]
  },
  {
   "cell_type": "code",
   "execution_count": 201,
   "metadata": {},
   "outputs": [],
   "source": [
    "def get_xn_yn():\n",
    "    xs = []\n",
    "    ys = []\n",
    "    xn = Ls[0]*smp.cos(thetas[0])\n",
    "    yn = -Ls[0]*smp.sin(thetas[0])\n",
    "    xs.append(xn)\n",
    "    ys.append(yn)\n",
    "    for i in range(1,N):\n",
    "        xn = xn + Ls[i]*smp.cos(thetas[i])\n",
    "        yn = yn - Ls[i]*smp.sin(thetas[i])\n",
    "        xs.append(xn)\n",
    "        ys.append(yn)\n",
    "    return xs, ys"
   ]
  },
  {
   "cell_type": "code",
   "execution_count": 202,
   "metadata": {},
   "outputs": [],
   "source": [
    "xs, ys = get_xn_yn()"
   ]
  },
  {
   "cell_type": "code",
   "execution_count": 203,
   "metadata": {},
   "outputs": [],
   "source": [
    "T = sum([1/2 * m * (smp.diff(x, t)**2 + smp.diff(y, t)**2) for (m,x,y) in zip(ms, xs, ys)])\n",
    "V = sum([m*g*y for (m,y) in zip(ms, ys)])\n",
    "L=T-V"
   ]
  },
  {
   "cell_type": "code",
   "execution_count": 204,
   "metadata": {},
   "outputs": [],
   "source": [
    "LEs = [smp.diff(L, the) - smp.diff(smp.diff(L, the_d), t) for (the, the_d) in zip(thetas, thetas_d)]\n",
    "LEs = [LE.expand() for LE in LEs]"
   ]
  },
  {
   "cell_type": "code",
   "execution_count": 206,
   "metadata": {},
   "outputs": [],
   "source": [
    "sols = smp.solve(LEs, thetas_dd,\n",
    "                simplify=False, rational=False)"
   ]
  },
  {
   "cell_type": "code",
   "execution_count": 207,
   "metadata": {},
   "outputs": [],
   "source": [
    "dzdts_f = [smp.lambdify((t, g, *ms, *Ls, *thetas, *thetas_d), sols[theta_dd]) for theta_dd in thetas_dd]\n",
    "dthedts_f = [smp.lambdify(theta_d, theta_d) for theta_d in thetas_d]"
   ]
  },
  {
   "cell_type": "code",
   "execution_count": 208,
   "metadata": {},
   "outputs": [],
   "source": [
    "ms_n = np.ones(N)\n",
    "Ls_n = np.ones(N)\n",
    "thetas_n = np.random.randn(N)\n",
    "thetas_d_n = np.random.randn(N)"
   ]
  },
  {
   "cell_type": "code",
   "execution_count": 209,
   "metadata": {},
   "outputs": [
    {
     "data": {
      "text/plain": [
       "0.5090041733115632"
      ]
     },
     "execution_count": 209,
     "metadata": {},
     "output_type": "execute_result"
    }
   ],
   "source": [
    "dzdts_f[3](2, 9.81, *ms_n, *Ls_n, *thetas_n, *thetas_d_n)"
   ]
  },
  {
   "cell_type": "code",
   "execution_count": 210,
   "metadata": {},
   "outputs": [],
   "source": [
    "def dSdt(S, t, g, ms, Ls):\n",
    "    thetas_n = S[0:int(len(S)/2)]\n",
    "    thetas_d_n = S[int(len(S)/2):]\n",
    "    list1 = [dthedt_f(theta_d_n) for (dthedt_f, theta_d_n) in zip(dthedts_f, thetas_d_n)]\n",
    "    list2 = [dzdt_f(t, g, *ms, *Ls, *thetas_n, *thetas_d_n) for dzdt_f in dzdts_f]\n",
    "    return  list1+list2"
   ]
  },
  {
   "cell_type": "code",
   "execution_count": 211,
   "metadata": {},
   "outputs": [
    {
     "data": {
      "text/plain": [
       "[-0.44111988761168197,\n",
       " -0.597544774665395,\n",
       " -0.5159373607183861,\n",
       " -0.4180016502212529,\n",
       " 4.913516336255006,\n",
       " 9.8807116391125,\n",
       " -1.3148238830255332,\n",
       " 0.5090041733115632]"
      ]
     },
     "execution_count": 211,
     "metadata": {},
     "output_type": "execute_result"
    }
   ],
   "source": [
    "dSdt(list(thetas_n)+list(thetas_d_n), 2, 9.81, ms_n, Ls_n)"
   ]
  },
  {
   "cell_type": "code",
   "execution_count": 213,
   "metadata": {},
   "outputs": [],
   "source": [
    "t = np.linspace(0, 20, 100)\n",
    "g = 9.81\n",
    "ms = [3,2,1,1]\n",
    "Ls = [5,1,1,1]\n",
    "ans = odeint(dSdt, y0=np.random.randn(2*N), t=t, args=(g, ms, Ls))"
   ]
  },
  {
   "cell_type": "code",
   "execution_count": null,
   "metadata": {},
   "outputs": [],
   "source": []
  }
 ],
 "metadata": {
  "kernelspec": {
   "display_name": "Python 3",
   "language": "python",
   "name": "python3"
  },
  "language_info": {
   "codemirror_mode": {
    "name": "ipython",
    "version": 3
   },
   "file_extension": ".py",
   "mimetype": "text/x-python",
   "name": "python",
   "nbconvert_exporter": "python",
   "pygments_lexer": "ipython3",
   "version": "3.8.5"
  }
 },
 "nbformat": 4,
 "nbformat_minor": 4
}
