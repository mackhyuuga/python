{
 "cells": [
  {
   "cell_type": "code",
   "execution_count": 137,
   "metadata": {},
   "outputs": [],
   "source": [
    "import numpy as np\n",
    "import sympy as smp\n",
    "from sympy.solvers.solveset import linsolve\n",
    "from scipy.integrate import odeint\n",
    "import matplotlib.pyplot as plt\n",
    "from matplotlib import animation\n",
    "from matplotlib.animation import PillowWriter"
   ]
  },
  {
   "cell_type": "markdown",
   "metadata": {},
   "source": [
    "Define all necessary variables:\n",
    "\n",
    "* Time $t$\n",
    "* Mass of pendulums $m$\n",
    "* Gravitational acceleration $g$\n",
    "* Spring constants $k$\n",
    "\n",
    "Then define the 4 free variables $\\theta_1$, $r_1$, $\\theta_2$, $r_2$\n",
    "\n",
    "1. Make them functions of time\n",
    "2. Define first derivatives\n",
    "3. Define second derivatives"
   ]
  },
  {
   "cell_type": "code",
   "execution_count": 158,
   "metadata": {},
   "outputs": [],
   "source": [
    "t, m, g, k = smp.symbols('t m g k')\n",
    "the1, the2, r1, r2 = smp.symbols(r'\\theta_1 \\theta_2 r_1 r_2', cls=smp.Function)\n",
    "the1 = the1(t)\n",
    "the2 = the2(t)\n",
    "r1 = r1(t)\n",
    "r2 = r2(t)\n",
    "# First derivatives\n",
    "the1_d = smp.diff(the1, t)\n",
    "the2_d = smp.diff(the2, t)\n",
    "r1_d = smp.diff(r1, t)\n",
    "r2_d = smp.diff(r2, t)\n",
    "# Second derivatives\n",
    "the1_dd = smp.diff(smp.diff(the1, t), t)\n",
    "the2_dd = smp.diff(smp.diff(the2, t), t)\n",
    "r1_dd = smp.diff(smp.diff(r1, t), t)\n",
    "r2_dd = smp.diff(smp.diff(r2, t), t)"
   ]
  },
  {
   "cell_type": "markdown",
   "metadata": {},
   "source": [
    "Define cartesian coordinates of each bob\n",
    "\n",
    "* Bob 1: $(x_1, y_1)$\n",
    "* Bob 2: $(x_2, y_2)$\n",
    "\n",
    "Note these are functions of $\\theta_1$, $r_1$, $\\theta_2$, $r_2$"
   ]
  },
  {
   "cell_type": "code",
   "execution_count": 159,
   "metadata": {},
   "outputs": [],
   "source": [
    "x1, y1, x2, y2 = smp.symbols('x_1 y_1 x_2 y_2', cls=smp.Function)\n",
    "x1 = x1(the1, r1)\n",
    "y1 = y1(the1, r1)\n",
    "x2 = x2(the1, r1, the2, r2)\n",
    "y2 = y2(the1, r1, the2, r2)"
   ]
  },
  {
   "cell_type": "code",
   "execution_count": 160,
   "metadata": {},
   "outputs": [],
   "source": [
    "x1 = (1+r1)*smp.cos(the1)\n",
    "x2 = (1+r1)*smp.cos(the1) + (1+r2)*smp.cos(the2)\n",
    "y1 = -(1+r1)*smp.sin(the1)\n",
    "y2 = -(1+r1)*smp.sin(the1) - (1+r2)*smp.sin(the2)\n",
    "x1_f = smp.lambdify((the1, r1), x1)\n",
    "x2_f = smp.lambdify((the1, r1, the2, r2), x2)\n",
    "y1_f = smp.lambdify((the1, r1), y1)\n",
    "y2_f = smp.lambdify((the1, r1, the2, r2), y2)"
   ]
  },
  {
   "cell_type": "markdown",
   "metadata": {},
   "source": [
    "Define the Lagrangian\n",
    "\n",
    "$$ L = T - V $$\n",
    "\n",
    "where \n",
    "\n",
    "* T = $\\frac{1}{2}m(\\dot{x}_1^2 + \\dot{y}_1^2) + \\frac{1}{2}m(\\dot{x}_2^2 + \\dot{y}_2^2)$\n",
    "* V = $mgy_1 + mgy_2 + \\frac{1}{2}kr_1^2 + \\frac{1}{2}kr_2^2 $"
   ]
  },
  {
   "cell_type": "code",
   "execution_count": 162,
   "metadata": {},
   "outputs": [],
   "source": [
    "T = 1/2 * m * (smp.diff(x1,t)**2 + smp.diff(y1,t)**2) + \\\n",
    "    1/2 * m * (smp.diff(x2,t)**2 + smp.diff(y2,t)**2)\n",
    "V = m*g*y1 + m*g*y2 + 1/2 * k *r1**2 + 1/2 * k *r2**2\n",
    "L = T-V"
   ]
  },
  {
   "cell_type": "markdown",
   "metadata": {},
   "source": [
    "Compute Lagrange's equations\n",
    "\n",
    "$\\frac{dL}{dz} - \\frac{d}{dt} \\frac{dL}{d\\dot{z}} = 0$\n",
    "\n",
    "where $z$ is each of $\\theta_1$, $r_1$, $\\theta_2$, $r_2$"
   ]
  },
  {
   "cell_type": "code",
   "execution_count": 163,
   "metadata": {},
   "outputs": [],
   "source": [
    "LE1 = smp.diff(L, the1) - smp.diff(smp.diff(L, smp.diff(the1, t)), t)\n",
    "LE1 = LE1.simplify()"
   ]
  },
  {
   "cell_type": "code",
   "execution_count": 164,
   "metadata": {},
   "outputs": [],
   "source": [
    "LE2 = smp.diff(L, the2) - smp.diff(smp.diff(L, smp.diff(the2, t)), t)\n",
    "LE2 = LE2.simplify()"
   ]
  },
  {
   "cell_type": "code",
   "execution_count": 165,
   "metadata": {},
   "outputs": [],
   "source": [
    "LE3 = smp.diff(L, r1) - smp.diff(smp.diff(L, smp.diff(r1, t)), t)\n",
    "LE3 = LE3.simplify()"
   ]
  },
  {
   "cell_type": "code",
   "execution_count": 166,
   "metadata": {},
   "outputs": [],
   "source": [
    "LE4 = smp.diff(L, r2) - smp.diff(smp.diff(L, smp.diff(r2, t)), t)\n",
    "LE4 = LE4.simplify()"
   ]
  },
  {
   "cell_type": "markdown",
   "metadata": {},
   "source": [
    "If we solve for $d^2 z / d t^2$ where $z$ is each of $\\theta_1$, $r_1$, $\\theta_2$, $r_2$ then we can get two equation for each free variable. Defining $v_z$ as $dz/dt$ we get\n",
    "\n",
    "* $dz/dt = v_z$\n",
    "* $dv_z/dt = \\text{whatever we solved for}$\n",
    "\n",
    "This turns our system of second order ODES into systems 1D differential equations.\n",
    "\n",
    "**Example** $\\frac{d^2 y}{dt^2} + 2\\frac{dy}{dt} + y + 3 = 0$ (define $v = dy/dt$) gets turned into the system of 2 first order DE's (i) $dy/dt = v$ and  (ii) $dv/dt =  - 3 - y - 2v$\n",
    "\n",
    "Specifically, define \n",
    "\n",
    "* $\\omega_1 \\equiv d\\theta_1/dt$\n",
    "* $\\omega_2 \\equiv d\\theta_2/dt$\n",
    "* $v_1 \\equiv dr_1/dt$\n",
    "* $v_2 \\equiv dr_2/dt$"
   ]
  },
  {
   "cell_type": "code",
   "execution_count": 169,
   "metadata": {},
   "outputs": [],
   "source": [
    "sols = smp.solve([LE1, LE2, LE3, LE4], (the1_dd, the2_dd, r1_dd, r2_dd),\n",
    "          simplify=False, rational=False)"
   ]
  },
  {
   "cell_type": "markdown",
   "metadata": {},
   "source": [
    "Create numpy functions that we can use with numerical methods"
   ]
  },
  {
   "cell_type": "code",
   "execution_count": 170,
   "metadata": {},
   "outputs": [],
   "source": [
    "#theta1\n",
    "dw1dt_f = smp.lambdify((m, k, g, the1, the2, r1, r2,\n",
    "                        the1_d, the2_d, r1_d, r2_d), sols[the1_dd])\n",
    "dthe1dt_f = smp.lambdify(the1_d, the1_d)\n",
    "\n",
    "#theta2\n",
    "dw2dt_f = smp.lambdify((m, k, g, the1, the2, r1, r2,\n",
    "                       the1_d, the2_d, r1_d, r2_d), sols[the2_dd])\n",
    "dthe2dt_f = smp.lambdify(the2_d, the2_d)\n",
    "\n",
    "#r1\n",
    "dv1dt_f = smp.lambdify((m, k, g, the1, the2, r1, r2,\n",
    "                        the1_d, the2_d, r1_d, r2_d), sols[r1_dd])\n",
    "dr1dt_f = smp.lambdify(r1_d, r1_d)\n",
    "\n",
    "#r2\n",
    "dv2dt_f = smp.lambdify((m, k, g, the1, the2, r1, r2,\n",
    "                        the1_d, the2_d, r1_d, r2_d), sols[r2_dd])\n",
    "dr2dt_f = smp.lambdify(r2_d, r2_d)"
   ]
  },
  {
   "cell_type": "markdown",
   "metadata": {},
   "source": [
    "Define our system of ODES where $S = (\\theta_1, \\omega_1, \\theta_2, \\omega_2, r_1, v_1, r_2, v_2)$"
   ]
  },
  {
   "cell_type": "code",
   "execution_count": 171,
   "metadata": {},
   "outputs": [],
   "source": [
    "def dSdt(S, t):\n",
    "    the1, w1, the2, w2, r1, v1, r2, v2 = S\n",
    "    return [\n",
    "        dthe1dt_f(w1), #dtheta1/dt\n",
    "        dw1dt_f(m,k,g,the1,the2,r1,r2,w1,w2,v1,v2), #domega1/dt\n",
    "        dthe2dt_f(w2), #dtheta1/dt\n",
    "        dw2dt_f(m,k,g,the1,the2,r1,r2,w1,w2,v1,v2), #domega2/dt\n",
    "        dr1dt_f(v1), #dr1/dt\n",
    "        dv1dt_f(m,k,g,the1,the2,r1,r2,w1,w2,v1,v2), #dv1/dt\n",
    "        dr2dt_f(v2), #dr2/dt\n",
    "        dv2dt_f(m,k,g,the1,the2,r1,r2,w1,w2,v1,v2) #dv2/dt\n",
    "    ]"
   ]
  },
  {
   "cell_type": "markdown",
   "metadata": {},
   "source": [
    "Define times, constants, solve ODE"
   ]
  },
  {
   "cell_type": "code",
   "execution_count": 188,
   "metadata": {},
   "outputs": [],
   "source": [
    "t = np.linspace(0, 20, 1000)\n",
    "g = 9.81\n",
    "m=1\n",
    "k=10\n",
    "ans = odeint(dSdt, y0=[np.pi/2, 0, (3/2)*np.pi/2, 0, 0, 5, 0, 5], t=t)"
   ]
  },
  {
   "cell_type": "markdown",
   "metadata": {},
   "source": [
    "Plot $\\theta_1$ as function of time"
   ]
  },
  {
   "cell_type": "code",
   "execution_count": 189,
   "metadata": {},
   "outputs": [
    {
     "data": {
      "text/plain": [
       "[<matplotlib.lines.Line2D at 0x1a84a1e90a0>]"
      ]
     },
     "execution_count": 189,
     "metadata": {},
     "output_type": "execute_result"
    },
    {
     "data": {
      "image/png": "[encoded data removed]",
      "text/plain": [
       "<Figure size 432x288 with 1 Axes>"
      ]
     },
     "metadata": {
      "needs_background": "light"
     },
     "output_type": "display_data"
    }
   ],
   "source": [
    "plt.plot(t, ans.T[0])"
   ]
  },
  {
   "cell_type": "markdown",
   "metadata": {},
   "source": [
    "Get locations of $x_1$, $y_1$, $x_2$, $y_2$ given $\\theta_1$, $r_1$, $\\theta_2$, $r_2$"
   ]
  },
  {
   "cell_type": "code",
   "execution_count": 190,
   "metadata": {},
   "outputs": [],
   "source": [
    "def get_x1y1x2y2(theta1, theta2, r1, r2):\n",
    "    return (x1_f(theta1, r1), y1_f(theta1, r1),\n",
    "            x2_f(theta1, r1, theta2, r2),\n",
    "            y2_f(theta1, r1, theta2, r2))"
   ]
  },
  {
   "cell_type": "markdown",
   "metadata": {},
   "source": [
    "Get $x$s and $y$s as function of time"
   ]
  },
  {
   "cell_type": "code",
   "execution_count": 191,
   "metadata": {},
   "outputs": [],
   "source": [
    "x1, y1, x2, y2 = get_x1y1x2y2(ans.T[0], ans.T[2], ans.T[4], ans.T[6])"
   ]
  },
  {
   "cell_type": "markdown",
   "metadata": {},
   "source": [
    "Plot ys"
   ]
  },
  {
   "cell_type": "code",
   "execution_count": 192,
   "metadata": {},
   "outputs": [
    {
     "data": {
      "text/plain": [
       "[<matplotlib.lines.Line2D at 0x1a84a2c36a0>]"
      ]
     },
     "execution_count": 192,
     "metadata": {},
     "output_type": "execute_result"
    },
    {
     "data": {
      "image/png": "[encoded data removed]",
      "text/plain": [
       "<Figure size 432x288 with 1 Axes>"
      ]
     },
     "metadata": {
      "needs_background": "light"
     },
     "output_type": "display_data"
    }
   ],
   "source": [
    "plt.plot(y1)"
   ]
  },
  {
   "cell_type": "markdown",
   "metadata": {},
   "source": [
    "Make animation "
   ]
  },
  {
   "cell_type": "code",
   "execution_count": 194,
   "metadata": {},
   "outputs": [
    {
     "data": {
      "image/png": "[encoded data removed]",
      "text/plain": [
       "<Figure size 576x576 with 1 Axes>"
      ]
     },
     "metadata": {
      "needs_background": "light"
     },
     "output_type": "display_data"
    }
   ],
   "source": [
    "def animate(i):\n",
    "    ln1.set_data([0, x1[i], x2[i]], [0, y1[i], y2[i]])\n",
    "    \n",
    "fig, ax = plt.subplots(1,1, figsize=(8,8))\n",
    "ax.grid()\n",
    "ln1, = plt.plot([], [], 'ro--', lw=3, markersize=8)\n",
    "ax.set_ylim(-10, 10)\n",
    "ax.set_xlim(-10,10)\n",
    "ani = animation.FuncAnimation(fig, animate, frames=1000, interval=50)\n",
    "ani.save('pen.gif',writer='pillow',fps=50)"
   ]
  }
 ],
 "metadata": {
  "kernelspec": {
   "display_name": "Python 3",
   "language": "python",
   "name": "python3"
  },
  "language_info": {
   "codemirror_mode": {
    "name": "ipython",
    "version": 3
   },
   "file_extension": ".py",
   "mimetype": "text/x-python",
   "name": "python",
   "nbconvert_exporter": "python",
   "pygments_lexer": "ipython3",
   "version": "3.8.5"
  }
 },
 "nbformat": 4,
 "nbformat_minor": 4
}
