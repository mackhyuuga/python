{
 "cells": [
  {
   "cell_type": "code",
   "execution_count": 7,
   "metadata": {},
   "outputs": [],
   "source": [
    "import numpy as np\n",
    "import sympy as smp\n",
    "from sympy import Matrix\n",
    "from sympy.physics.quantum import TensorProduct\n",
    "from sympy.matrices import matrix_multiply_elementwise"
   ]
  },
  {
   "cell_type": "markdown",
   "metadata": {},
   "source": [
    "# The Spin Matrices"
   ]
  },
  {
   "cell_type": "markdown",
   "metadata": {},
   "source": [
    "A quantum **state** is given by $|\\psi> = \\sum c_a |\\psi>_a$ where $|\\psi>_a$ are the eigenvectors of some operator $\\hat{A}$ which represents the observable $A$. This means that $$\\hat{A}|\\psi>_a = a|\\psi>_a$$\n",
    "* The probability of measuring the eigenvalue $a$ is given by $|c_a|^2$. If $|\\psi> = |\\psi>_a$ (already in an eigenvector state) then the probability of measuring $a$ is 1. \n",
    "\n",
    "* A particle with spin 1/2 can either be spin up or spin down along some axis, so we can represent the the operator  $\\hat{S}_z$ and its corresponding eigenvalues as\n",
    "\n",
    "$$\\hat{S}_z = \\frac{1}{2}\\begin{bmatrix} 1&0\\\\0&-1 \\end{bmatrix} \\hspace{10mm} |\\psi>_{z,1/2} = \\begin{bmatrix} 1\\\\0 \\end{bmatrix} \\hspace{10mm} |\\psi>_{z,-1/2} = \\begin{bmatrix} 0\\\\1 \\end{bmatrix}$$\n",
    "\n",
    "* In this basis, the spin matrix $\\hat{S}_x$ has the following form with the following eigenvectors (**we MAKE it in this form so that a state with definite z spin has 50% chance being spin up in $x$ and 50% chance of being pin down in $x$ after being in a $z$ eigenstate**)\n",
    "\n",
    "$$\\hat{S}_x = \\frac{1}{2}\\begin{bmatrix} 0&1\\\\1&0 \\end{bmatrix} \\hspace{10mm} |\\psi>_{x,+1/2} = \\frac{1}{\\sqrt{2}}\\begin{bmatrix} 1\\\\1 \\end{bmatrix} \\hspace{10mm} |\\psi>_{x,-1/2} = \\frac{1}{\\sqrt{2}}\\begin{bmatrix} 1\\\\-1 \\end{bmatrix}$$\n",
    "\n",
    "* This follows directly as a result of the Stern-Gerlach experiment. They had a beam of $|\\psi>_{z,1/2}$ particles and found they had a 50% chance of being spin up in $x$ and 50% chance of being spin down in $x$."
   ]
  },
  {
   "cell_type": "markdown",
   "metadata": {},
   "source": [
    "## Spin 1/2 Matrices\n",
    "\n",
    "$$S_x = \\frac{1}{2}\\begin{bmatrix} 0&1\\\\1&0 \\end{bmatrix} \\hspace{10mm} S_y = \\frac{1}{2}\\begin{bmatrix} 0&-i\\\\i&0 \\end{bmatrix} \\hspace{10mm}S_z = \\frac{1}{2}\\begin{bmatrix} 1&0\\\\0&-1 \\end{bmatrix} \\hspace{10mm} S^2 = S_x^2 + S_y^2 + S_z^2$$"
   ]
  },
  {
   "cell_type": "code",
   "execution_count": 8,
   "metadata": {},
   "outputs": [],
   "source": [
    "Sxa = smp.Rational(1, 2)* smp.Matrix([[0, 1],\n",
    "                                     [1, 0]])\n",
    "Sya = smp.Rational(1, 2)* smp.Matrix([[0, -smp.I],\n",
    "                                      [smp.I, 0]])\n",
    "Sza = smp.Rational(1, 2)* smp.Matrix([[1, 0],\n",
    "                                      [0, -1]])\n",
    "S2a = Sxa@Sxa + Sya@Sya + Sza@Sza"
   ]
  },
  {
   "cell_type": "markdown",
   "metadata": {},
   "source": [
    "## Spin 1 Matrices\n",
    "\n",
    "$$S_x = \\frac{1}{\\sqrt{2}}\\begin{bmatrix} 0&1&0\\\\1&0&1\\\\0&1&0 \\end{bmatrix} \\hspace{10mm} S_y = \\frac{1}{\\sqrt{2}}\\begin{bmatrix} 0&-i&0\\\\i&0&-i\\\\0&i&0 \\end{bmatrix} \\hspace{10mm}S_z = \\begin{bmatrix} 1&0&0\\\\0&0&0\\\\0&0&-1 \\end{bmatrix} \\hspace{10mm} S^2 = S_x^2 + S_y^2 + S_z^2$$"
   ]
  },
  {
   "cell_type": "code",
   "execution_count": 9,
   "metadata": {},
   "outputs": [],
   "source": [
    "Sxb = 1/smp.sqrt(2) * smp.Matrix([[0, 1, 0],\n",
    "                                  [1, 0, 1],\n",
    "                                  [0, 1, 0]])\n",
    "Syb = 1/smp.sqrt(2) * smp.Matrix([[0, -smp.I, 0],\n",
    "                                  [smp.I, 0, -smp.I],\n",
    "                                  [0, smp.I, 0]])\n",
    "Szb = smp.Matrix([[1, 0, 0],\n",
    "                  [0, 0, 0],\n",
    "                  [0, 0, -1]])\n",
    "\n",
    "S2b = Sxb@Sxb + Syb@Syb + Szb@Szb"
   ]
  },
  {
   "cell_type": "markdown",
   "metadata": {},
   "source": [
    "## What do these matrices mean?\n",
    "\n",
    "These matrices are expressed in the basis of $S_z$ eigenvectors. This means that $S_z$ is written in a form such that $\\left<1, 0\\right>$ and $\\left<0,1\\right>$ are eigenvectors ($s=1/2$) or $\\left<1,0,0\\right>$ and $\\left<0,1,0\\right>$ and $\\left<0,0,1\\right>$ are eigenvectors ($s=1$)\n",
    "\n",
    "\n",
    "* spin 1/2 have eigenvectors $\\left<1, 0\\right>$ ($m=1/2$)  and $\\left<0,1\\right>$ ($m=-1/2$)\n",
    "* spin 1 have eigenvectors $\\left<1, 0, 0\\right>$ ($m=1$) and $\\left<0, 1, 0\\right>$ ($m=0$) and $\\left<0, 0, 1\\right>$ ($m=-1$)"
   ]
  },
  {
   "cell_type": "code",
   "execution_count": 10,
   "metadata": {},
   "outputs": [
    {
     "data": {
      "text/latex": [
       "$\\displaystyle \\left[\\begin{matrix}\\frac{1}{2}\\\\0\\end{matrix}\\right]$"
      ],
      "text/plain": [
       "Matrix([\n",
       "[1/2],\n",
       "[  0]])"
      ]
     },
     "execution_count": 10,
     "metadata": {},
     "output_type": "execute_result"
    }
   ],
   "source": [
    "Sza@smp.Matrix([1,0])"
   ]
  },
  {
   "cell_type": "code",
   "execution_count": 11,
   "metadata": {},
   "outputs": [
    {
     "data": {
      "text/latex": [
       "$\\displaystyle \\left[\\begin{matrix}0\\\\0\\\\-1\\end{matrix}\\right]$"
      ],
      "text/plain": [
       "Matrix([\n",
       "[ 0],\n",
       "[ 0],\n",
       "[-1]])"
      ]
     },
     "execution_count": 11,
     "metadata": {},
     "output_type": "execute_result"
    }
   ],
   "source": [
    "Szb@smp.Matrix([0,0,1])"
   ]
  },
  {
   "cell_type": "markdown",
   "metadata": {},
   "source": [
    "Furthermore, since $S^2$ commutes with $S_z$, they share common eigenvectors \n",
    "* makes sense because spin 1/2, for example, should be in an eigenstate with $s=1/2$"
   ]
  },
  {
   "cell_type": "code",
   "execution_count": 12,
   "metadata": {},
   "outputs": [
    {
     "data": {
      "text/latex": [
       "$\\displaystyle \\left[\\begin{matrix}0 & 0 & 0\\\\0 & 0 & 0\\\\0 & 0 & 0\\end{matrix}\\right]$"
      ],
      "text/plain": [
       "Matrix([\n",
       "[0, 0, 0],\n",
       "[0, 0, 0],\n",
       "[0, 0, 0]])"
      ]
     },
     "execution_count": 12,
     "metadata": {},
     "output_type": "execute_result"
    }
   ],
   "source": [
    "S2b@Szb-Szb@S2b"
   ]
  },
  {
   "cell_type": "code",
   "execution_count": 13,
   "metadata": {},
   "outputs": [
    {
     "data": {
      "text/latex": [
       "$\\displaystyle \\left[\\begin{matrix}0\\\\\\frac{3}{4}\\end{matrix}\\right]$"
      ],
      "text/plain": [
       "Matrix([\n",
       "[  0],\n",
       "[3/4]])"
      ]
     },
     "execution_count": 13,
     "metadata": {},
     "output_type": "execute_result"
    }
   ],
   "source": [
    "S2a@smp.Matrix([0,1])"
   ]
  },
  {
   "cell_type": "markdown",
   "metadata": {},
   "source": [
    "# Addition of Spins"
   ]
  },
  {
   "cell_type": "markdown",
   "metadata": {},
   "source": [
    "Now if we put a spin 1 and spin 1/2 particle together, we need a vector that takes into account all possible states\n",
    "\n",
    "$$\\begin{bmatrix}\n",
    "\\left<1,0,0\\right> \\text{and} \\left<1,0\\right>\\\\\n",
    "\\left<0,1,0\\right> \\text{and} \\left<1,0\\right>\\\\\n",
    "\\left<0,0,1\\right> \\text{and} \\left<1,0\\right>\\\\\n",
    "\\left<1,0,0\\right> \\text{and} \\left<0,1\\right>\\\\\n",
    "\\left<0,1,0\\right> \\text{and} \\left<0,1\\right>\\\\\n",
    "\\left<0,0,1\\right> \\text{and} \\left<0,1\\right>\\\\\n",
    "\\end{bmatrix} \\hspace{20mm} \\text{so} \\hspace{5mm} \\begin{bmatrix}\n",
    "0\\\\\n",
    "0\\\\\n",
    "1\\\\\n",
    "0\\\\\n",
    "0\\\\\n",
    "0\\\\\n",
    "\\end{bmatrix} \\hspace{5mm}\n",
    "\\text{refers to} \\hspace{5mm}\n",
    "\\left<0,0,1\\right> \\text{and} \\left<1,0\\right> $$"
   ]
  },
  {
   "cell_type": "markdown",
   "metadata": {},
   "source": [
    "What matrix will then give us $S_z$ for the spin-1 particle then? Can check that\n",
    "\n",
    "$$\\begin{bmatrix} S_z& [0]_{3x3}\\\\ [0]_{3x3} & S_z \\end{bmatrix} = \\begin{bmatrix} 1&0&0&0&0&0\\\\ 0&0&0&0&0&0\\\\ 0&0&-1&0&0&0\\\\ 0&0&0&1&0&0\\\\ 0&0&0&0&0&0\\\\ 0&0&0&0&0&-1\\\\\\end{bmatrix}$$\n",
    "\n",
    "gives the right values"
   ]
  },
  {
   "cell_type": "code",
   "execution_count": 14,
   "metadata": {},
   "outputs": [
    {
     "data": {
      "text/latex": [
       "$\\displaystyle \\left[\\begin{matrix}1 & 0 & 0 & 0 & 0 & 0\\\\0 & 0 & 0 & 0 & 0 & 0\\\\0 & 0 & -1 & 0 & 0 & 0\\\\0 & 0 & 0 & 1 & 0 & 0\\\\0 & 0 & 0 & 0 & 0 & 0\\\\0 & 0 & 0 & 0 & 0 & -1\\end{matrix}\\right]$"
      ],
      "text/plain": [
       "Matrix([\n",
       "[1, 0,  0, 0, 0,  0],\n",
       "[0, 0,  0, 0, 0,  0],\n",
       "[0, 0, -1, 0, 0,  0],\n",
       "[0, 0,  0, 1, 0,  0],\n",
       "[0, 0,  0, 0, 0,  0],\n",
       "[0, 0,  0, 0, 0, -1]])"
      ]
     },
     "execution_count": 14,
     "metadata": {},
     "output_type": "execute_result"
    }
   ],
   "source": [
    "TensorProduct(smp.eye(2), Szb)"
   ]
  },
  {
   "cell_type": "code",
   "execution_count": 15,
   "metadata": {},
   "outputs": [
    {
     "data": {
      "text/latex": [
       "$\\displaystyle \\left[\\begin{matrix}0\\\\0\\\\0\\\\0\\\\0\\\\-1\\end{matrix}\\right]$"
      ],
      "text/plain": [
       "Matrix([\n",
       "[ 0],\n",
       "[ 0],\n",
       "[ 0],\n",
       "[ 0],\n",
       "[ 0],\n",
       "[-1]])"
      ]
     },
     "execution_count": 15,
     "metadata": {},
     "output_type": "execute_result"
    }
   ],
   "source": [
    "TensorProduct(smp.eye(2), Szb)@smp.Matrix([0,0,0,0,0,1])"
   ]
  },
  {
   "cell_type": "markdown",
   "metadata": {},
   "source": [
    "But what about $S_z$ for the spin 1/2 particle? Can check that\n",
    "\n",
    "$$\\frac{1}{2}\\begin{bmatrix} 1I_{3x3}&0I_{3x3}\\\\0I_{3x3}&-1I_{3x3} \\end{bmatrix} =  \\frac{1}{2}\\begin{bmatrix} 1&0&0&0&0&0\\\\ 0&1&0&0&0&0\\\\ 0&0&1&0&0&0\\\\ 0&0&0&-1&0&0\\\\ 0&0&0&0&-1&0\\\\ 0&0&0&0&0&-1\\\\\\end{bmatrix} $$\n",
    "\n",
    "gives the right values"
   ]
  },
  {
   "cell_type": "code",
   "execution_count": 16,
   "metadata": {},
   "outputs": [
    {
     "data": {
      "text/latex": [
       "$\\displaystyle \\left[\\begin{matrix}\\frac{1}{2} & 0 & 0 & 0 & 0 & 0\\\\0 & \\frac{1}{2} & 0 & 0 & 0 & 0\\\\0 & 0 & \\frac{1}{2} & 0 & 0 & 0\\\\0 & 0 & 0 & - \\frac{1}{2} & 0 & 0\\\\0 & 0 & 0 & 0 & - \\frac{1}{2} & 0\\\\0 & 0 & 0 & 0 & 0 & - \\frac{1}{2}\\end{matrix}\\right]$"
      ],
      "text/plain": [
       "Matrix([\n",
       "[1/2,   0,   0,    0,    0,    0],\n",
       "[  0, 1/2,   0,    0,    0,    0],\n",
       "[  0,   0, 1/2,    0,    0,    0],\n",
       "[  0,   0,   0, -1/2,    0,    0],\n",
       "[  0,   0,   0,    0, -1/2,    0],\n",
       "[  0,   0,   0,    0,    0, -1/2]])"
      ]
     },
     "execution_count": 16,
     "metadata": {},
     "output_type": "execute_result"
    }
   ],
   "source": [
    "TensorProduct(Sza, smp.eye(3))"
   ]
  },
  {
   "cell_type": "code",
   "execution_count": 17,
   "metadata": {},
   "outputs": [
    {
     "data": {
      "text/latex": [
       "$\\displaystyle \\left[\\begin{matrix}0\\\\0\\\\0\\\\- \\frac{1}{2}\\\\0\\\\0\\end{matrix}\\right]$"
      ],
      "text/plain": [
       "Matrix([\n",
       "[   0],\n",
       "[   0],\n",
       "[   0],\n",
       "[-1/2],\n",
       "[   0],\n",
       "[   0]])"
      ]
     },
     "execution_count": 17,
     "metadata": {},
     "output_type": "execute_result"
    }
   ],
   "source": [
    "TensorProduct(Sza, smp.eye(3))@smp.Matrix([0,0,0,1,0,0])"
   ]
  },
  {
   "cell_type": "markdown",
   "metadata": {},
   "source": [
    "In order to get the sum of the z-components, we need to add both matrices"
   ]
  },
  {
   "cell_type": "code",
   "execution_count": 18,
   "metadata": {},
   "outputs": [
    {
     "data": {
      "text/latex": [
       "$\\displaystyle \\left[\\begin{matrix}0\\\\\\frac{1}{2}\\\\0\\\\0\\\\0\\\\0\\end{matrix}\\right]$"
      ],
      "text/plain": [
       "Matrix([\n",
       "[  0],\n",
       "[1/2],\n",
       "[  0],\n",
       "[  0],\n",
       "[  0],\n",
       "[  0]])"
      ]
     },
     "execution_count": 18,
     "metadata": {},
     "output_type": "execute_result"
    }
   ],
   "source": [
    "(TensorProduct(Sza, smp.eye(3)) + TensorProduct(smp.eye(2), Szb))@(smp.Matrix([0,1,0,0,0,0]))"
   ]
  },
  {
   "cell_type": "markdown",
   "metadata": {},
   "source": [
    "So we can create these matrices for the **total** $S_x$, $S_y$, and $S_z$"
   ]
  },
  {
   "cell_type": "code",
   "execution_count": 19,
   "metadata": {},
   "outputs": [],
   "source": [
    "Sx_2 = TensorProduct(smp.eye(2), Sxb) + TensorProduct(Sxa ,smp.eye(3))\n",
    "Sy_2 = TensorProduct(smp.eye(2), Syb) + TensorProduct(Sya, smp.eye(3))\n",
    "Sz_2 = TensorProduct(smp.eye(2), Szb) + TensorProduct(Sza, smp.eye(3))\n",
    "S2_2 = Sx_2@Sx_2 + Sy_2@Sy_2 +Sz_2@Sz_2"
   ]
  },
  {
   "cell_type": "markdown",
   "metadata": {},
   "source": [
    "Like before, the total spin $S^2$ and $S_z$ matrices commute, meaning they share a common eigenspace:"
   ]
  },
  {
   "cell_type": "code",
   "execution_count": 20,
   "metadata": {},
   "outputs": [
    {
     "data": {
      "text/latex": [
       "$\\displaystyle \\left[\\begin{matrix}0 & 0 & 0 & 0 & 0 & 0\\\\0 & 0 & 0 & 0 & 0 & 0\\\\0 & 0 & 0 & 0 & 0 & 0\\\\0 & 0 & 0 & 0 & 0 & 0\\\\0 & 0 & 0 & 0 & 0 & 0\\\\0 & 0 & 0 & 0 & 0 & 0\\end{matrix}\\right]$"
      ],
      "text/plain": [
       "Matrix([\n",
       "[0, 0, 0, 0, 0, 0],\n",
       "[0, 0, 0, 0, 0, 0],\n",
       "[0, 0, 0, 0, 0, 0],\n",
       "[0, 0, 0, 0, 0, 0],\n",
       "[0, 0, 0, 0, 0, 0],\n",
       "[0, 0, 0, 0, 0, 0]])"
      ]
     },
     "execution_count": 20,
     "metadata": {},
     "output_type": "execute_result"
    }
   ],
   "source": [
    "S2_2@Sz_2 - Sz_2@S2_2"
   ]
  },
  {
   "cell_type": "markdown",
   "metadata": {},
   "source": [
    "So we can get the eigenvectors $\\psi_{S^2}$ for total $S^2$. The sympy solver finds these eigenvectors such that also happen to be eigenvectors of $S_z$ as well (this is a coincidence). Furthermore, they will be written in terms of the basis representing the z-spin of each of the two particles:\n",
    "\n",
    "$$\\begin{bmatrix}\n",
    "\\left<1,0,0\\right> \\text{and} \\left<1,0\\right>\\\\\n",
    "\\left<0,1,0\\right> \\text{and} \\left<1,0\\right>\\\\\n",
    "\\left<0,0,1\\right> \\text{and} \\left<1,0\\right>\\\\\n",
    "\\left<1,0,0\\right> \\text{and} \\left<0,1\\right>\\\\\n",
    "\\left<0,1,0\\right> \\text{and} \\left<0,1\\right>\\\\\n",
    "\\left<0,0,1\\right> \\text{and} \\left<0,1\\right>\\\\\n",
    "\\end{bmatrix}$$\n",
    "\n",
    "**This is precisely what the Clebsh-Gordan Coefficients give us**."
   ]
  },
  {
   "cell_type": "markdown",
   "metadata": {},
   "source": [
    "Get the eigenvectors $\\psi_{S^2}$ of $S^2$ and $S_z$"
   ]
  },
  {
   "cell_type": "code",
   "execution_count": 38,
   "metadata": {},
   "outputs": [
    {
     "data": {
      "text/plain": [
       "(array([-7.5+0.j, -1.5+0.j,  7.5+0.j,  1.5+0.j,  2.5+0.j, -2.5+0.j]),\n",
       " array([[-0.        ,  0.        ,  0.        ,  0.        ,  1.        ,\n",
       "          0.        ],\n",
       "        [-0.        ,  0.        , -0.81649658, -0.57735027,  0.        ,\n",
       "          0.        ],\n",
       "        [-0.57735027, -0.81649658,  0.        ,  0.        ,  0.        ,\n",
       "          0.        ],\n",
       "        [-0.        ,  0.        , -0.57735027,  0.81649658,  0.        ,\n",
       "          0.        ],\n",
       "        [-0.81649658,  0.57735027,  0.        ,  0.        ,  0.        ,\n",
       "          0.        ],\n",
       "        [-0.        ,  0.        ,  0.        ,  0.        ,  0.        ,\n",
       "         -1.        ]]))"
      ]
     },
     "execution_count": 38,
     "metadata": {},
     "output_type": "execute_result"
    }
   ],
   "source": [
    "from scipy import linalg\n",
    "linalg.eig(np.array(S2_2).astype(np.float64), np.array(Sz_2).astype(np.float64))"
   ]
  },
  {
   "cell_type": "markdown",
   "metadata": {},
   "source": [
    "Can show these are the same as the eigenvectors sympy obtains for $S^2$, so we get a simultaenous eigenbasis."
   ]
  },
  {
   "cell_type": "code",
   "execution_count": 21,
   "metadata": {},
   "outputs": [
    {
     "data": {
      "text/plain": [
       "[(3/4,\n",
       "  2,\n",
       "  [Matrix([\n",
       "   [         0],\n",
       "   [-sqrt(2)/2],\n",
       "   [         0],\n",
       "   [         1],\n",
       "   [         0],\n",
       "   [         0]]),\n",
       "   Matrix([\n",
       "   [       0],\n",
       "   [       0],\n",
       "   [-sqrt(2)],\n",
       "   [       0],\n",
       "   [       1],\n",
       "   [       0]])]),\n",
       " (15/4,\n",
       "  4,\n",
       "  [Matrix([\n",
       "   [1],\n",
       "   [0],\n",
       "   [0],\n",
       "   [0],\n",
       "   [0],\n",
       "   [0]]),\n",
       "   Matrix([\n",
       "   [      0],\n",
       "   [sqrt(2)],\n",
       "   [      0],\n",
       "   [      1],\n",
       "   [      0],\n",
       "   [      0]]),\n",
       "   Matrix([\n",
       "   [        0],\n",
       "   [        0],\n",
       "   [sqrt(2)/2],\n",
       "   [        0],\n",
       "   [        1],\n",
       "   [        0]]),\n",
       "   Matrix([\n",
       "   [0],\n",
       "   [0],\n",
       "   [0],\n",
       "   [0],\n",
       "   [0],\n",
       "   [1]])])]"
      ]
     },
     "execution_count": 21,
     "metadata": {},
     "output_type": "execute_result"
    }
   ],
   "source": [
    "info = S2_2.eigenvects(simplify=True)\n",
    "info"
   ]
  },
  {
   "cell_type": "markdown",
   "metadata": {},
   "source": [
    "We can get the eigenvalues seperately, and noting that $S^2 \\psi_{S^2} = s(s+1) \\psi_{S^2}$ where $s$ is the total spin, we can extract the total spin $s$. \n",
    "\n",
    "* Eigenvalue $E=s(s+1) \\implies s= \\left(-1 + \\sqrt{1+4E}\\right)/2$"
   ]
  },
  {
   "cell_type": "code",
   "execution_count": 30,
   "metadata": {},
   "outputs": [
    {
     "data": {
      "text/latex": [
       "$\\displaystyle \\left[\\begin{matrix}0.5 & 0.5 & 1.5 & 1.5 & 1.5 & 1.5\\end{matrix}\\right]$"
      ],
      "text/plain": [
       "Matrix([[0.5, 0.5, 1.5, 1.5, 1.5, 1.5]])"
      ]
     },
     "execution_count": 30,
     "metadata": {},
     "output_type": "execute_result"
    }
   ],
   "source": [
    "eig_vals = np.array(S2_2.eigenvals(multiple=True), dtype=float)\n",
    "tot_spins = smp.Matrix((-1+np.sqrt(1+4*eig_vals))/2)\n",
    "tot_spins.T"
   ]
  },
  {
   "cell_type": "markdown",
   "metadata": {},
   "source": [
    "We can check that for this particular solver that all the eigenvectors $\\psi_{S^2}$ of $S^2$ are also eigenvectors for $S_z$. Since $S_z \\psi_{S^2} = s_z \\psi_{S^2}$ and the $\\psi$s are normalized we get\n",
    "\n",
    "$$s_z = \\psi_{S^2}^{^\\dagger} S_z \\psi_{S^2} $$"
   ]
  },
  {
   "cell_type": "code",
   "execution_count": 32,
   "metadata": {},
   "outputs": [
    {
     "data": {
      "text/latex": [
       "$\\displaystyle \\left[\\begin{matrix}\\frac{1}{2} & - \\frac{1}{2} & \\frac{3}{2} & \\frac{1}{2} & - \\frac{1}{2} & - \\frac{3}{2}\\end{matrix}\\right]$"
      ],
      "text/plain": [
       "Matrix([[1/2, -1/2, 3/2, 1/2, -1/2, -3/2]])"
      ]
     },
     "execution_count": 32,
     "metadata": {},
     "output_type": "execute_result"
    }
   ],
   "source": [
    "# First normalize eigenvectors\n",
    "eig_vecs = [vec/vec.norm() for le in info for vec in le[2]]\n",
    "#Then compute z spins\n",
    "z_spins = smp.Matrix([eig_vecs[i].T@Sz_2@eig_vecs[i] for i in range(len(eig_vecs))]).T\n",
    "z_spins"
   ]
  },
  {
   "cell_type": "markdown",
   "metadata": {},
   "source": [
    "The vector is \n",
    "\n",
    "$$\\begin{bmatrix}\n",
    "\\left<1,0,0\\right> \\text{and} \\left<1,0\\right>\\\\\n",
    "\\left<0,1,0\\right> \\text{and} \\left<1,0\\right>\\\\\n",
    "\\left<0,0,1\\right> \\text{and} \\left<1,0\\right>\\\\\n",
    "\\left<1,0,0\\right> \\text{and} \\left<0,1\\right>\\\\\n",
    "\\left<0,1,0\\right> \\text{and} \\left<0,1\\right>\\\\\n",
    "\\left<0,0,1\\right> \\text{and} \\left<0,1\\right>\\\\\n",
    "\\end{bmatrix}$$"
   ]
  },
  {
   "cell_type": "code",
   "execution_count": 33,
   "metadata": {},
   "outputs": [
    {
     "data": {
      "text/latex": [
       "$\\displaystyle \\left[\\begin{matrix}0.5 & 0.5 & 1.5 & 1.5 & 1.5 & 1.5\\end{matrix}\\right]$"
      ],
      "text/plain": [
       "Matrix([[0.5, 0.5, 1.5, 1.5, 1.5, 1.5]])"
      ]
     },
     "execution_count": 33,
     "metadata": {},
     "output_type": "execute_result"
    }
   ],
   "source": [
    "tot_spins.T"
   ]
  },
  {
   "cell_type": "code",
   "execution_count": 34,
   "metadata": {},
   "outputs": [
    {
     "data": {
      "text/latex": [
       "$\\displaystyle \\left[\\begin{matrix}\\frac{1}{2} & - \\frac{1}{2} & \\frac{3}{2} & \\frac{1}{2} & - \\frac{1}{2} & - \\frac{3}{2}\\end{matrix}\\right]$"
      ],
      "text/plain": [
       "Matrix([[1/2, -1/2, 3/2, 1/2, -1/2, -3/2]])"
      ]
     },
     "execution_count": 34,
     "metadata": {},
     "output_type": "execute_result"
    }
   ],
   "source": [
    "z_spins"
   ]
  },
  {
   "cell_type": "code",
   "execution_count": 36,
   "metadata": {},
   "outputs": [
    {
     "data": {
      "text/latex": [
       "$\\displaystyle \\left[\\begin{matrix}0 & 0 & - \\frac{\\sqrt{6}}{3} & 0 & \\frac{\\sqrt{3}}{3} & 0\\end{matrix}\\right]$"
      ],
      "text/plain": [
       "Matrix([[0, 0, -sqrt(6)/3, 0, sqrt(3)/3, 0]])"
      ]
     },
     "execution_count": 36,
     "metadata": {},
     "output_type": "execute_result"
    }
   ],
   "source": [
    "eig_vecs[1].T"
   ]
  },
  {
   "cell_type": "markdown",
   "metadata": {},
   "source": [
    "Or in Griffith's notation\n",
    "\n",
    "$$|1/2,-1/2> = -\\sqrt{\\frac{2}{3}}|1,-1>|1/2,1/2> + \\sqrt{\\frac{1}{3}}|1,0>|1/2,-1/2>$$"
   ]
  }
 ],
 "metadata": {
  "kernelspec": {
   "display_name": "Python 3",
   "language": "python",
   "name": "python3"
  },
  "language_info": {
   "codemirror_mode": {
    "name": "ipython",
    "version": 3
   },
   "file_extension": ".py",
   "mimetype": "text/x-python",
   "name": "python",
   "nbconvert_exporter": "python",
   "pygments_lexer": "ipython3",
   "version": "3.8.5"
  }
 },
 "nbformat": 4,
 "nbformat_minor": 4
}
