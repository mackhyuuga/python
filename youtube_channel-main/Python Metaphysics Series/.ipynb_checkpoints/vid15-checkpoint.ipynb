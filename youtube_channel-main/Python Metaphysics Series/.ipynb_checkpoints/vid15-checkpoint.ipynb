{
 "cells": [
  {
   "cell_type": "code",
   "execution_count": 1,
   "metadata": {},
   "outputs": [],
   "source": [
    "import numpy as np\n",
    "import sympy as smp\n",
    "from scipy.integrate import odeint\n",
    "import matplotlib.pyplot as plt\n",
    "from matplotlib import animation\n",
    "from mpl_toolkits.mplot3d import Axes3D\n",
    "from matplotlib.animation import PillowWriter"
   ]
  },
  {
   "cell_type": "markdown",
   "metadata": {},
   "source": [
    "The driven double pendulum with masses $m_1=1$ and $m_2=m$ and arm-lengths $L_1$ and $L_2$ has it upper arm connector to a motor that displaces the base with at $\\cos(\\omega t)$ where $\\omega$ is the driving frequency."
   ]
  },
  {
   "cell_type": "markdown",
   "metadata": {},
   "source": [
    "and thus\n",
    "\n",
    "* $x_1 = \\cos(\\omega t) + L_1 \\sin(\\theta_1)$\n",
    "* $x_2 = \\cos(\\omega t) + L_1 \\sin(\\theta_1) + L_2 \\sin(\\theta_2)$\n",
    "* $y_1 = -L_1 \\cos(\\theta_1)$\n",
    "* $y_2 = -L_1 \\cos(\\theta_1)-L_2 \\cos(\\theta_2)$"
   ]
  },
  {
   "cell_type": "markdown",
   "metadata": {},
   "source": [
    "Define required variables for sympy"
   ]
  },
  {
   "cell_type": "code",
   "execution_count": 300,
   "metadata": {},
   "outputs": [],
   "source": [
    "t, m, g, L1, L2, L3, w, w1, w2, C, alph = smp.symbols(r't m g L_1, L_2 L_3 \\omega, \\omega_1, \\omega_2 C \\alpha')"
   ]
  },
  {
   "cell_type": "markdown",
   "metadata": {},
   "source": [
    "Define $\\theta_1(t)$ and $\\theta_2(t)$ and declare them functions of time. Also get their first and second derivatives."
   ]
  },
  {
   "cell_type": "code",
   "execution_count": 301,
   "metadata": {},
   "outputs": [],
   "source": [
    "the1, the2, =  smp.symbols(r'\\theta_1, \\theta_2 ', cls=smp.Function)\n",
    "\n",
    "the1 = the1(t)\n",
    "the1_d = smp.diff(the1, t)\n",
    "the1_dd = smp.diff(the1_d, t)\n",
    "\n",
    "the2 = the2(t)\n",
    "the2_d = smp.diff(the2, t)\n",
    "the2_dd = smp.diff(smp.diff(the2, t), t)"
   ]
  },
  {
   "cell_type": "markdown",
   "metadata": {},
   "source": [
    "Declare $x_1(\\theta_1)$, $y_1(\\theta_1)$ and $x_2(\\theta_1, \\theta_2)$, $y_2(\\theta_1, \\theta_2)$"
   ]
  },
  {
   "cell_type": "code",
   "execution_count": 302,
   "metadata": {},
   "outputs": [],
   "source": [
    "x1, y1, x2, y2, x3, y3 = smp.symbols('x_1, y_1, x_2, y_2 x_3 y_3', cls=smp.Function)\n",
    "x1= x1(t, the1)\n",
    "y1= y1(t, the1)\n",
    "x2= x2(t, the1, the2)\n",
    "y2= y2(t, the1, the2)"
   ]
  },
  {
   "cell_type": "markdown",
   "metadata": {},
   "source": [
    "Put in the specific functional form of $x_1$, $y_1$, $x_2$, $y_2$"
   ]
  },
  {
   "cell_type": "code",
   "execution_count": 303,
   "metadata": {},
   "outputs": [],
   "source": [
    "x1 = smp.cos(w*t)+L1*smp.sin(the1)\n",
    "y1 = -L1*smp.cos(the1)\n",
    "x2 = smp.cos(w*t)+L1*smp.sin(the1) + L2*smp.sin(the2)\n",
    "y2 = -L1*smp.cos(the1) -L2*smp.cos(the2)\n",
    "\n",
    "\n",
    "# Tautochrone\n",
    "x1 = smp.cos(w*t)+smp.sin(2*the1) + 2*the1\n",
    "y1 = -smp.cos(2*the1)\n",
    "x2 = smp.cos(w*t)+smp.sin(2*the1) + 2*the1 + smp.sin(2*the2) + 2*the2\n",
    "y2 = -smp.cos(2*the1)-smp.cos(2*the2)"
   ]
  },
  {
   "cell_type": "markdown",
   "metadata": {},
   "source": [
    "Define numerical functions for $v_{x1}$, $v_{y1}$, $v_{x2}$, $v_{y1}$"
   ]
  },
  {
   "cell_type": "code",
   "execution_count": 304,
   "metadata": {},
   "outputs": [],
   "source": [
    "x1d_f = smp.lambdify((t,w,L1,L2,the1,the2,the1_d,the2_d), smp.diff(x1, t))\n",
    "x2d_f = smp.lambdify((t,w,L1,L2,the1,the2,the1_d,the2_d), smp.diff(x2, t))\n",
    "y1d_f = smp.lambdify((t,w,L1,L2,the1,the2,the1_d,the2_d), smp.diff(y1, t))\n",
    "y2d_f = smp.lambdify((t,w,L1,L2,the1,the2,the1_d,the2_d), smp.diff(y2, t))"
   ]
  },
  {
   "cell_type": "markdown",
   "metadata": {},
   "source": [
    "Define kinetic energy $T$, potential energy $V$, and Lagrangian $L=T-V$"
   ]
  },
  {
   "cell_type": "code",
   "execution_count": 305,
   "metadata": {},
   "outputs": [],
   "source": [
    "T = 1/2 * (smp.diff(x1, t)**2 + smp.diff(y1, t)**2) + \\\n",
    "    1/2 * m  *(smp.diff(x2, t)**2 + + smp.diff(y2, t)**2)\n",
    "V = g*y1 + m*g*y2\n",
    "L = T-V"
   ]
  },
  {
   "cell_type": "markdown",
   "metadata": {},
   "source": [
    "Solve Lagranges Equations"
   ]
  },
  {
   "cell_type": "code",
   "execution_count": 306,
   "metadata": {},
   "outputs": [],
   "source": [
    "LE1 = smp.diff(L, the1) - smp.diff(smp.diff(L, the1_d), t)\n",
    "LE1 = LE1.simplify()\n",
    "\n",
    "LE2 = smp.diff(L, the2) - smp.diff(smp.diff(L, the2_d), t)\n",
    "LE2 = LE2.simplify()"
   ]
  },
  {
   "cell_type": "code",
   "execution_count": 307,
   "metadata": {},
   "outputs": [
    {
     "data": {
      "text/latex": [
       "$\\displaystyle 2.0 \\omega^{2} m \\cos{\\left(\\omega t \\right)} + \\omega^{2} m \\cos{\\left(\\omega t - 2 \\theta_{1}{\\left(t \\right)} \\right)} + \\omega^{2} m \\cos{\\left(\\omega t + 2 \\theta_{1}{\\left(t \\right)} \\right)} + 2.0 \\omega^{2} \\cos{\\left(\\omega t \\right)} + \\omega^{2} \\cos{\\left(\\omega t - 2 \\theta_{1}{\\left(t \\right)} \\right)} + \\omega^{2} \\cos{\\left(\\omega t + 2 \\theta_{1}{\\left(t \\right)} \\right)} - 2.0 g m \\sin{\\left(2 \\theta_{1}{\\left(t \\right)} \\right)} - 2.0 g \\sin{\\left(2 \\theta_{1}{\\left(t \\right)} \\right)} - 8.0 m \\sin{\\left(2 \\theta_{1}{\\left(t \\right)} - 2 \\theta_{2}{\\left(t \\right)} \\right)} \\left(\\frac{d}{d t} \\theta_{2}{\\left(t \\right)}\\right)^{2} + 8.0 m \\sin{\\left(2 \\theta_{1}{\\left(t \\right)} \\right)} \\left(\\frac{d}{d t} \\theta_{1}{\\left(t \\right)}\\right)^{2} + 8.0 m \\sin{\\left(2 \\theta_{2}{\\left(t \\right)} \\right)} \\left(\\frac{d}{d t} \\theta_{2}{\\left(t \\right)}\\right)^{2} - 4.0 m \\cos{\\left(2 \\theta_{1}{\\left(t \\right)} - 2 \\theta_{2}{\\left(t \\right)} \\right)} \\frac{d^{2}}{d t^{2}} \\theta_{2}{\\left(t \\right)} - 8.0 m \\cos{\\left(2 \\theta_{1}{\\left(t \\right)} \\right)} \\frac{d^{2}}{d t^{2}} \\theta_{1}{\\left(t \\right)} - 4.0 m \\cos{\\left(2 \\theta_{1}{\\left(t \\right)} \\right)} \\frac{d^{2}}{d t^{2}} \\theta_{2}{\\left(t \\right)} - 4.0 m \\cos{\\left(2 \\theta_{2}{\\left(t \\right)} \\right)} \\frac{d^{2}}{d t^{2}} \\theta_{2}{\\left(t \\right)} - 8.0 m \\frac{d^{2}}{d t^{2}} \\theta_{1}{\\left(t \\right)} - 4.0 m \\frac{d^{2}}{d t^{2}} \\theta_{2}{\\left(t \\right)} + 8.0 \\sin{\\left(2 \\theta_{1}{\\left(t \\right)} \\right)} \\left(\\frac{d}{d t} \\theta_{1}{\\left(t \\right)}\\right)^{2} - 8.0 \\cos{\\left(2 \\theta_{1}{\\left(t \\right)} \\right)} \\frac{d^{2}}{d t^{2}} \\theta_{1}{\\left(t \\right)} - 8.0 \\frac{d^{2}}{d t^{2}} \\theta_{1}{\\left(t \\right)}$"
      ],
      "text/plain": [
       "2.0*\\omega**2*m*cos(\\omega*t) + \\omega**2*m*cos(\\omega*t - 2*\\theta_1(t)) + \\omega**2*m*cos(\\omega*t + 2*\\theta_1(t)) + 2.0*\\omega**2*cos(\\omega*t) + \\omega**2*cos(\\omega*t - 2*\\theta_1(t)) + \\omega**2*cos(\\omega*t + 2*\\theta_1(t)) - 2.0*g*m*sin(2*\\theta_1(t)) - 2.0*g*sin(2*\\theta_1(t)) - 8.0*m*sin(2*\\theta_1(t) - 2*\\theta_2(t))*Derivative(\\theta_2(t), t)**2 + 8.0*m*sin(2*\\theta_1(t))*Derivative(\\theta_1(t), t)**2 + 8.0*m*sin(2*\\theta_2(t))*Derivative(\\theta_2(t), t)**2 - 4.0*m*cos(2*\\theta_1(t) - 2*\\theta_2(t))*Derivative(\\theta_2(t), (t, 2)) - 8.0*m*cos(2*\\theta_1(t))*Derivative(\\theta_1(t), (t, 2)) - 4.0*m*cos(2*\\theta_1(t))*Derivative(\\theta_2(t), (t, 2)) - 4.0*m*cos(2*\\theta_2(t))*Derivative(\\theta_2(t), (t, 2)) - 8.0*m*Derivative(\\theta_1(t), (t, 2)) - 4.0*m*Derivative(\\theta_2(t), (t, 2)) + 8.0*sin(2*\\theta_1(t))*Derivative(\\theta_1(t), t)**2 - 8.0*cos(2*\\theta_1(t))*Derivative(\\theta_1(t), (t, 2)) - 8.0*Derivative(\\theta_1(t), (t, 2))"
      ]
     },
     "execution_count": 307,
     "metadata": {},
     "output_type": "execute_result"
    }
   ],
   "source": [
    "LE1"
   ]
  },
  {
   "cell_type": "code",
   "execution_count": 308,
   "metadata": {},
   "outputs": [
    {
     "data": {
      "text/latex": [
       "$\\displaystyle m \\left(2.0 \\omega^{2} \\cos{\\left(\\omega t \\right)} + \\omega^{2} \\cos{\\left(\\omega t - 2 \\theta_{2}{\\left(t \\right)} \\right)} + \\omega^{2} \\cos{\\left(\\omega t + 2 \\theta_{2}{\\left(t \\right)} \\right)} - 2.0 g \\sin{\\left(2 \\theta_{2}{\\left(t \\right)} \\right)} + 8.0 \\sin{\\left(2 \\theta_{1}{\\left(t \\right)} - 2 \\theta_{2}{\\left(t \\right)} \\right)} \\left(\\frac{d}{d t} \\theta_{1}{\\left(t \\right)}\\right)^{2} + 8.0 \\sin{\\left(2 \\theta_{1}{\\left(t \\right)} \\right)} \\left(\\frac{d}{d t} \\theta_{1}{\\left(t \\right)}\\right)^{2} + 8.0 \\sin{\\left(2 \\theta_{2}{\\left(t \\right)} \\right)} \\left(\\frac{d}{d t} \\theta_{2}{\\left(t \\right)}\\right)^{2} - 4.0 \\cos{\\left(2 \\theta_{1}{\\left(t \\right)} - 2 \\theta_{2}{\\left(t \\right)} \\right)} \\frac{d^{2}}{d t^{2}} \\theta_{1}{\\left(t \\right)} - 4.0 \\cos{\\left(2 \\theta_{1}{\\left(t \\right)} \\right)} \\frac{d^{2}}{d t^{2}} \\theta_{1}{\\left(t \\right)} - 4.0 \\cos{\\left(2 \\theta_{2}{\\left(t \\right)} \\right)} \\frac{d^{2}}{d t^{2}} \\theta_{1}{\\left(t \\right)} - 8.0 \\cos{\\left(2 \\theta_{2}{\\left(t \\right)} \\right)} \\frac{d^{2}}{d t^{2}} \\theta_{2}{\\left(t \\right)} - 4.0 \\frac{d^{2}}{d t^{2}} \\theta_{1}{\\left(t \\right)} - 8.0 \\frac{d^{2}}{d t^{2}} \\theta_{2}{\\left(t \\right)}\\right)$"
      ],
      "text/plain": [
       "m*(2.0*\\omega**2*cos(\\omega*t) + \\omega**2*cos(\\omega*t - 2*\\theta_2(t)) + \\omega**2*cos(\\omega*t + 2*\\theta_2(t)) - 2.0*g*sin(2*\\theta_2(t)) + 8.0*sin(2*\\theta_1(t) - 2*\\theta_2(t))*Derivative(\\theta_1(t), t)**2 + 8.0*sin(2*\\theta_1(t))*Derivative(\\theta_1(t), t)**2 + 8.0*sin(2*\\theta_2(t))*Derivative(\\theta_2(t), t)**2 - 4.0*cos(2*\\theta_1(t) - 2*\\theta_2(t))*Derivative(\\theta_1(t), (t, 2)) - 4.0*cos(2*\\theta_1(t))*Derivative(\\theta_1(t), (t, 2)) - 4.0*cos(2*\\theta_2(t))*Derivative(\\theta_1(t), (t, 2)) - 8.0*cos(2*\\theta_2(t))*Derivative(\\theta_2(t), (t, 2)) - 4.0*Derivative(\\theta_1(t), (t, 2)) - 8.0*Derivative(\\theta_2(t), (t, 2)))"
      ]
     },
     "execution_count": 308,
     "metadata": {},
     "output_type": "execute_result"
    }
   ],
   "source": [
    "LE2"
   ]
  },
  {
   "cell_type": "markdown",
   "metadata": {},
   "source": [
    "Since these are both equal to zero and linear in terms of $\\partial_t^2 \\theta_1$ and $\\partial_t^2 \\theta_2$, we can solve for everything in terms of $\\partial_t^2 \\theta_1$ and $\\partial_t^2 \\theta_2$ (this gives us two coupled second order ODEs)"
   ]
  },
  {
   "cell_type": "code",
   "execution_count": 309,
   "metadata": {},
   "outputs": [
    {
     "data": {
      "text/latex": [
       "$\\displaystyle \\frac{\\left(- 8.0 \\cos{\\left(2 \\theta_{2}{\\left(t \\right)} \\right)} - 8.0\\right) \\left(- 2.0 \\omega^{2} m \\cos{\\left(\\omega t \\right)} - \\omega^{2} m \\cos{\\left(\\omega t - 2 \\theta_{1}{\\left(t \\right)} \\right)} - \\omega^{2} m \\cos{\\left(\\omega t + 2 \\theta_{1}{\\left(t \\right)} \\right)} - 2.0 \\omega^{2} \\cos{\\left(\\omega t \\right)} - \\omega^{2} \\cos{\\left(\\omega t - 2 \\theta_{1}{\\left(t \\right)} \\right)} - \\omega^{2} \\cos{\\left(\\omega t + 2 \\theta_{1}{\\left(t \\right)} \\right)} + 2.0 g m \\sin{\\left(2 \\theta_{1}{\\left(t \\right)} \\right)} + 2.0 g \\sin{\\left(2 \\theta_{1}{\\left(t \\right)} \\right)} + 8.0 m \\sin{\\left(2 \\theta_{1}{\\left(t \\right)} - 2 \\theta_{2}{\\left(t \\right)} \\right)} \\left(\\frac{d}{d t} \\theta_{2}{\\left(t \\right)}\\right)^{2} - 8.0 m \\sin{\\left(2 \\theta_{1}{\\left(t \\right)} \\right)} \\left(\\frac{d}{d t} \\theta_{1}{\\left(t \\right)}\\right)^{2} - 8.0 m \\sin{\\left(2 \\theta_{2}{\\left(t \\right)} \\right)} \\left(\\frac{d}{d t} \\theta_{2}{\\left(t \\right)}\\right)^{2} - 8.0 \\sin{\\left(2 \\theta_{1}{\\left(t \\right)} \\right)} \\left(\\frac{d}{d t} \\theta_{1}{\\left(t \\right)}\\right)^{2}\\right)}{\\left(- 8.0 \\cos{\\left(2 \\theta_{2}{\\left(t \\right)} \\right)} - 8.0\\right) \\left(- 8.0 m \\cos{\\left(2 \\theta_{1}{\\left(t \\right)} \\right)} - 8.0 m - 8.0 \\cos{\\left(2 \\theta_{1}{\\left(t \\right)} \\right)} - 8.0\\right) - \\left(- 4.0 m \\cos{\\left(2 \\theta_{1}{\\left(t \\right)} - 2 \\theta_{2}{\\left(t \\right)} \\right)} - 4.0 m \\cos{\\left(2 \\theta_{1}{\\left(t \\right)} \\right)} - 4.0 m \\cos{\\left(2 \\theta_{2}{\\left(t \\right)} \\right)} - 4.0 m\\right) \\left(- 4.0 \\cos{\\left(2 \\theta_{1}{\\left(t \\right)} - 2 \\theta_{2}{\\left(t \\right)} \\right)} - 4.0 \\cos{\\left(2 \\theta_{1}{\\left(t \\right)} \\right)} - 4.0 \\cos{\\left(2 \\theta_{2}{\\left(t \\right)} \\right)} - 4.0\\right)} + \\frac{\\left(4.0 m \\cos{\\left(2 \\theta_{1}{\\left(t \\right)} - 2 \\theta_{2}{\\left(t \\right)} \\right)} + 4.0 m \\cos{\\left(2 \\theta_{1}{\\left(t \\right)} \\right)} + 4.0 m \\cos{\\left(2 \\theta_{2}{\\left(t \\right)} \\right)} + 4.0 m\\right) \\left(- 2.0 \\omega^{2} \\cos{\\left(\\omega t \\right)} - \\omega^{2} \\cos{\\left(\\omega t - 2 \\theta_{2}{\\left(t \\right)} \\right)} - \\omega^{2} \\cos{\\left(\\omega t + 2 \\theta_{2}{\\left(t \\right)} \\right)} + 2.0 g \\sin{\\left(2 \\theta_{2}{\\left(t \\right)} \\right)} - 8.0 \\sin{\\left(2 \\theta_{1}{\\left(t \\right)} - 2 \\theta_{2}{\\left(t \\right)} \\right)} \\left(\\frac{d}{d t} \\theta_{1}{\\left(t \\right)}\\right)^{2} - 8.0 \\sin{\\left(2 \\theta_{1}{\\left(t \\right)} \\right)} \\left(\\frac{d}{d t} \\theta_{1}{\\left(t \\right)}\\right)^{2} - 8.0 \\sin{\\left(2 \\theta_{2}{\\left(t \\right)} \\right)} \\left(\\frac{d}{d t} \\theta_{2}{\\left(t \\right)}\\right)^{2}\\right)}{\\left(- 8.0 \\cos{\\left(2 \\theta_{2}{\\left(t \\right)} \\right)} - 8.0\\right) \\left(- 8.0 m \\cos{\\left(2 \\theta_{1}{\\left(t \\right)} \\right)} - 8.0 m - 8.0 \\cos{\\left(2 \\theta_{1}{\\left(t \\right)} \\right)} - 8.0\\right) - \\left(- 4.0 m \\cos{\\left(2 \\theta_{1}{\\left(t \\right)} - 2 \\theta_{2}{\\left(t \\right)} \\right)} - 4.0 m \\cos{\\left(2 \\theta_{1}{\\left(t \\right)} \\right)} - 4.0 m \\cos{\\left(2 \\theta_{2}{\\left(t \\right)} \\right)} - 4.0 m\\right) \\left(- 4.0 \\cos{\\left(2 \\theta_{1}{\\left(t \\right)} - 2 \\theta_{2}{\\left(t \\right)} \\right)} - 4.0 \\cos{\\left(2 \\theta_{1}{\\left(t \\right)} \\right)} - 4.0 \\cos{\\left(2 \\theta_{2}{\\left(t \\right)} \\right)} - 4.0\\right)}$"
      ],
      "text/plain": [
       "(-8.0*cos(2*\\theta_2(t)) - 8.0)*(-2.0*\\omega**2*m*cos(\\omega*t) - \\omega**2*m*cos(\\omega*t - 2*\\theta_1(t)) - \\omega**2*m*cos(\\omega*t + 2*\\theta_1(t)) - 2.0*\\omega**2*cos(\\omega*t) - \\omega**2*cos(\\omega*t - 2*\\theta_1(t)) - \\omega**2*cos(\\omega*t + 2*\\theta_1(t)) + 2.0*g*m*sin(2*\\theta_1(t)) + 2.0*g*sin(2*\\theta_1(t)) + 8.0*m*sin(2*\\theta_1(t) - 2*\\theta_2(t))*Derivative(\\theta_2(t), t)**2 - 8.0*m*sin(2*\\theta_1(t))*Derivative(\\theta_1(t), t)**2 - 8.0*m*sin(2*\\theta_2(t))*Derivative(\\theta_2(t), t)**2 - 8.0*sin(2*\\theta_1(t))*Derivative(\\theta_1(t), t)**2)/((-8.0*cos(2*\\theta_2(t)) - 8.0)*(-8.0*m*cos(2*\\theta_1(t)) - 8.0*m - 8.0*cos(2*\\theta_1(t)) - 8.0) - (-4.0*m*cos(2*\\theta_1(t) - 2*\\theta_2(t)) - 4.0*m*cos(2*\\theta_1(t)) - 4.0*m*cos(2*\\theta_2(t)) - 4.0*m)*(-4.0*cos(2*\\theta_1(t) - 2*\\theta_2(t)) - 4.0*cos(2*\\theta_1(t)) - 4.0*cos(2*\\theta_2(t)) - 4.0)) + (4.0*m*cos(2*\\theta_1(t) - 2*\\theta_2(t)) + 4.0*m*cos(2*\\theta_1(t)) + 4.0*m*cos(2*\\theta_2(t)) + 4.0*m)*(-2.0*\\omega**2*cos(\\omega*t) - \\omega**2*cos(\\omega*t - 2*\\theta_2(t)) - \\omega**2*cos(\\omega*t + 2*\\theta_2(t)) + 2.0*g*sin(2*\\theta_2(t)) - 8.0*sin(2*\\theta_1(t) - 2*\\theta_2(t))*Derivative(\\theta_1(t), t)**2 - 8.0*sin(2*\\theta_1(t))*Derivative(\\theta_1(t), t)**2 - 8.0*sin(2*\\theta_2(t))*Derivative(\\theta_2(t), t)**2)/((-8.0*cos(2*\\theta_2(t)) - 8.0)*(-8.0*m*cos(2*\\theta_1(t)) - 8.0*m - 8.0*cos(2*\\theta_1(t)) - 8.0) - (-4.0*m*cos(2*\\theta_1(t) - 2*\\theta_2(t)) - 4.0*m*cos(2*\\theta_1(t)) - 4.0*m*cos(2*\\theta_2(t)) - 4.0*m)*(-4.0*cos(2*\\theta_1(t) - 2*\\theta_2(t)) - 4.0*cos(2*\\theta_1(t)) - 4.0*cos(2*\\theta_2(t)) - 4.0))"
      ]
     },
     "execution_count": 309,
     "metadata": {},
     "output_type": "execute_result"
    }
   ],
   "source": [
    "sols = smp.solve([LE1, LE2], (the1_dd, the2_dd),\n",
    "                simplify=False, rational=False)\n",
    "\n",
    "sols[the1_dd] #d^2 / dt^2 theta_1"
   ]
  },
  {
   "cell_type": "markdown",
   "metadata": {},
   "source": [
    "Can we find driving frequencies that result in resonance. For simplicity:\n",
    "\n",
    "* Assume small angle approximation for $\\theta_1$ and $\\theta_2$\n",
    "* Assume $\\theta_1$ and $\\theta_2$ have solutions $\\theta_1(t) = C\\cos(\\omega_1 t)$ and $\\theta_2(t) = C \\alpha \\cos(\\omega_1 t)$"
   ]
  },
  {
   "cell_type": "code",
   "execution_count": 275,
   "metadata": {},
   "outputs": [],
   "source": [
    "a = LE1.subs([(smp.sin(the1-the2), the1-the2),\n",
    "         (smp.cos(the1-the2), 1),\n",
    "         (smp.cos(the1), 1),\n",
    "         (smp.sin(the1), the1),\n",
    "         (the1, C*smp.cos(w1*t)),\n",
    "         (the2, C*alph*smp.cos(w1*t)),\n",
    "         (m, 1),\n",
    "         (L2, L1),\n",
    "         (w, w1)\n",
    "         ]).doit().simplify() # .subs(alph-1, 0)"
   ]
  },
  {
   "cell_type": "code",
   "execution_count": 276,
   "metadata": {},
   "outputs": [
    {
     "data": {
      "text/latex": [
       "$\\displaystyle 1.0 L_{1} \\left(C L_{1} \\alpha \\omega_1^{2} + 2 C L_{1} \\omega_1^{2} - 2 C g + 2 \\omega_1^{2}\\right) \\cos{\\left(\\omega_1 t \\right)}$"
      ],
      "text/plain": [
       "1.0*L_1*(C*L_1*\\alpha*\\omega_1**2 + 2*C*L_1*\\omega_1**2 - 2*C*g + 2*\\omega_1**2)*cos(\\omega_1*t)"
      ]
     },
     "execution_count": 276,
     "metadata": {},
     "output_type": "execute_result"
    }
   ],
   "source": [
    "a"
   ]
  },
  {
   "cell_type": "code",
   "execution_count": 277,
   "metadata": {},
   "outputs": [],
   "source": [
    "b = LE2.subs([(smp.sin(the1-the2), the1-the2),\n",
    "         (smp.cos(the1-the2), 1),\n",
    "         (smp.cos(the1), 1),\n",
    "         (smp.cos(the2), 1),\n",
    "         (smp.sin(the1), the1),\n",
    "         (smp.sin(the2), the2), \n",
    "         (the1, C*smp.cos(w1*t)),\n",
    "         (the2, C*alph*smp.cos(w1*t)),\n",
    "         (m, 1),\n",
    "         (L2, L1),\n",
    "         (w, w1)\n",
    "         ]).doit().simplify() # .subs(alph-1, 0)"
   ]
  },
  {
   "cell_type": "code",
   "execution_count": 278,
   "metadata": {},
   "outputs": [
    {
     "data": {
      "text/latex": [
       "$\\displaystyle 1.0 L_{1} \\left(C L_{1} \\alpha \\omega_1^{2} + C L_{1} \\omega_1^{2} - C \\alpha g + \\omega_1^{2}\\right) \\cos{\\left(\\omega_1 t \\right)}$"
      ],
      "text/plain": [
       "1.0*L_1*(C*L_1*\\alpha*\\omega_1**2 + C*L_1*\\omega_1**2 - C*\\alpha*g + \\omega_1**2)*cos(\\omega_1*t)"
      ]
     },
     "execution_count": 278,
     "metadata": {},
     "output_type": "execute_result"
    }
   ],
   "source": [
    "b"
   ]
  },
  {
   "cell_type": "code",
   "execution_count": 279,
   "metadata": {},
   "outputs": [],
   "source": [
    "yeet = smp.solve([a/smp.cos(w1*t), b/smp.cos(w1*t)], (w1, alph),\n",
    "                simplify=False, rational=False)"
   ]
  },
  {
   "cell_type": "code",
   "execution_count": 280,
   "metadata": {},
   "outputs": [
    {
     "data": {
      "text/latex": [
       "$\\displaystyle \\sqrt{- \\frac{C g \\left(-2 - \\frac{\\sqrt{2 C^{2} L_{1}^{2} + 2 C L_{1} + 1}}{C L_{1}} - \\frac{1}{C L_{1}}\\right)}{C L_{1} + 1}}$"
      ],
      "text/plain": [
       "sqrt(-C*g*(-2 - sqrt(2*C**2*L_1**2 + 2*C*L_1 + 1)/(C*L_1) - 1/(C*L_1))/(C*L_1 + 1))"
      ]
     },
     "execution_count": 280,
     "metadata": {},
     "output_type": "execute_result"
    }
   ],
   "source": [
    "yeet[1][0]"
   ]
  },
  {
   "cell_type": "markdown",
   "metadata": {},
   "source": [
    "# Switch to Numerical"
   ]
  },
  {
   "cell_type": "markdown",
   "metadata": {},
   "source": [
    "Define the equations\n",
    "\n",
    "* $\\frac{d^2 \\theta}{dt^2} = \\frac{d \\omega}{dt} = \\text{solution to above}$\n",
    "* $\\frac{d \\theta}{dt} = \\omega$\n",
    "\n",
    "for each of $\\theta \\in (\\theta_1, \\theta_2)$"
   ]
  },
  {
   "cell_type": "code",
   "execution_count": 310,
   "metadata": {},
   "outputs": [],
   "source": [
    "dw1dt_f = smp.lambdify((t, m, g, w, L1, L2, the1, the2, the1_d, the2_d), sols[the1_dd])\n",
    "dthe1dt_f = smp.lambdify(the1_d, the1_d)\n",
    "\n",
    "dw2dt_f = smp.lambdify((t, m, g, w, L1, L2, the1, the2, the1_d, the2_d), sols[the2_dd])\n",
    "dthe2dt_f = smp.lambdify(the2_d, the2_d)"
   ]
  },
  {
   "cell_type": "markdown",
   "metadata": {},
   "source": [
    "Define the ODE system for python"
   ]
  },
  {
   "cell_type": "code",
   "execution_count": 311,
   "metadata": {},
   "outputs": [],
   "source": [
    "def dSdt(S, t):\n",
    "    the1, w1, the2, w2 = S\n",
    "    return [\n",
    "        dthe1dt_f(w1),\n",
    "        dw1dt_f(t, m, g, w, L1, L2, the1, the2, w1, w2),\n",
    "        dthe2dt_f(w2),\n",
    "        dw2dt_f(t, m, g, w, L1, L2, the1, the2, w1, w2),\n",
    "    ]"
   ]
  },
  {
   "cell_type": "markdown",
   "metadata": {},
   "source": [
    "Some numerical values to get a solution"
   ]
  },
  {
   "cell_type": "code",
   "execution_count": 312,
   "metadata": {},
   "outputs": [],
   "source": [
    "t = np.linspace(0, 20, 1000)\n",
    "g = 9.81\n",
    "m=1\n",
    "L1 = 20\n",
    "L2 = 20\n",
    "w = np.sqrt(g/L1)\n",
    "ans = odeint(dSdt, y0=[0, 0, 0, 0], t=t)"
   ]
  },
  {
   "cell_type": "markdown",
   "metadata": {},
   "source": [
    "Plot $\\theta_1(t)$"
   ]
  },
  {
   "cell_type": "code",
   "execution_count": 313,
   "metadata": {},
   "outputs": [
    {
     "data": {
      "text/plain": [
       "[<matplotlib.lines.Line2D at 0x2180135a850>]"
      ]
     },
     "execution_count": 313,
     "metadata": {},
     "output_type": "execute_result"
    },
    {
     "data": {
      "image/png": "[encoded data removed]",
      "text/plain": [
       "<Figure size 432x288 with 1 Axes>"
      ]
     },
     "metadata": {
      "needs_background": "light"
     },
     "output_type": "display_data"
    }
   ],
   "source": [
    "plt.plot(ans.T[0])"
   ]
  },
  {
   "cell_type": "markdown",
   "metadata": {},
   "source": [
    "Function that computes the average kinetic energy (assuming $m=1$) of the system given by\n",
    "\n",
    "$$E(\\omega) = \\text{Mean}(v_{x1}^2 + v_{y1}^2 + v_{x2}^2 + v_{y2}^2) $$\n",
    "\n",
    "where the $v$'s are computed by solving the ODE for a number of time points for a specific value of $\\omega$"
   ]
  },
  {
   "cell_type": "code",
   "execution_count": 324,
   "metadata": {},
   "outputs": [],
   "source": [
    "def get_energy(w):\n",
    "    w = w\n",
    "    t = np.linspace(0, 100, 2000)\n",
    "    ans = odeint(dSdt, y0=[0.1, 0.1, 0, 0], t=t)\n",
    "    vx1 = x1d_f(t,w,L1,L2,ans.T[0],ans.T[2],ans.T[1],ans.T[3])\n",
    "    vx2 = x2d_f(t,w,L1,L2,ans.T[0],ans.T[2],ans.T[1],ans.T[3])\n",
    "    vy1 = y1d_f(t,w,L1,L2,ans.T[0],ans.T[2],ans.T[1],ans.T[3])\n",
    "    vy2 = y2d_f(t,w,L1,L2,ans.T[0],ans.T[2],ans.T[1],ans.T[3])\n",
    "    E = np.mean(vx1**2+vx2**2+vy1**2+vy2**2)\n",
    "    return E"
   ]
  },
  {
   "cell_type": "markdown",
   "metadata": {},
   "source": [
    "Get $\\omega$'s and $E(\\omega)$"
   ]
  },
  {
   "cell_type": "code",
   "execution_count": 330,
   "metadata": {},
   "outputs": [],
   "source": [
    "ws = np.linspace(0.9, 2.1, 100)\n",
    "Es = np.vectorize(get_energy)(ws) "
   ]
  },
  {
   "cell_type": "markdown",
   "metadata": {},
   "source": [
    "Plot the kinetic energy of the system for different values of $\\omega$"
   ]
  },
  {
   "cell_type": "code",
   "execution_count": 331,
   "metadata": {},
   "outputs": [
    {
     "data": {
      "image/png": "[encoded data removed]",
      "text/plain": [
       "<Figure size 432x288 with 1 Axes>"
      ]
     },
     "metadata": {
      "needs_background": "light"
     },
     "output_type": "display_data"
    }
   ],
   "source": [
    "plt.plot(ws, Es)\n",
    "#plt.axvline(np.sqrt(g*(2+np.sqrt(2))/L1), c='k', ls='--')\n",
    "#plt.axvline(np.sqrt(g*(2-np.sqrt(2))/L1), c='k', ls='--')\n",
    "# Tautochrone\n",
    "plt.axvline(np.sqrt(np.pi*g**(-1/2)), c='k', ls='--')\n",
    "plt.grid()"
   ]
  },
  {
   "cell_type": "markdown",
   "metadata": {},
   "source": [
    "Solve the ODE for a particular value of $\\omega$ so we can ge the solution. Also define a function that takes in $\\theta_1(t), \\theta_2(t)$ and returns the corresponding $x$ and $y$ values of the origin, first bob, and second bob."
   ]
  },
  {
   "cell_type": "code",
   "execution_count": 318,
   "metadata": {},
   "outputs": [],
   "source": [
    "t = np.linspace(0, 200, 20000)\n",
    "g = 9.81\n",
    "m=1\n",
    "L1 = 20\n",
    "L2 = 20\n",
    "w = ws[np.argmax(Es)]\n",
    "w = 1\n",
    "ans = odeint(dSdt, y0=[0.1, 0.1, 0, 0], t=t)\n",
    "\n",
    "def get_x0y0x1y1x2y2(t, the1, the2, L1, L2):\n",
    "    return (np.cos(w*t),\n",
    "            0*t,\n",
    "            np.cos(w*t) + L1*np.sin(the1),\n",
    "            -L1*np.cos(the1),\n",
    "            np.cos(w*t) + L1*np.sin(the1) + L2*np.sin(the2),\n",
    "            -L1*np.cos(the1) - L2*np.cos(the2),\n",
    "    )\n",
    "\n",
    "'''\n",
    "# Tautochrome\n",
    "def get_x0y0x1y1x2y2(t, the1, the2):\n",
    "    return (np.cos(w*t),\n",
    "            0*t,\n",
    "            np.cos(w*t) + np.sin(2*the1)+2*the1,\n",
    "            -np.cos(2*the1),\n",
    "            np.cos(w*t) + np.sin(2*the1)+2*the1+ np.sin(2*the2)+2*the2,\n",
    "            -np.cos(2*the1)-np.cos(2*the2),\n",
    "    )\n",
    "'''\n",
    "\n",
    "x0, y0, x1, y1, x2, y2 = get_x0y0x1y1x2y2(t, ans.T[0], ans.T[2])"
   ]
  },
  {
   "cell_type": "markdown",
   "metadata": {},
   "source": [
    "Make an animation"
   ]
  },
  {
   "cell_type": "code",
   "execution_count": 320,
   "metadata": {},
   "outputs": [
    {
     "data": {
      "image/png": "[encoded data removed]",
      "text/plain": [
       "<Figure size 576x576 with 1 Axes>"
      ]
     },
     "metadata": {},
     "output_type": "display_data"
    }
   ],
   "source": [
    "def animate(i):\n",
    "    ln1.set_data([x0[::10][i], x1[::10][i], x2[::10][i]], [y0[::10][i], y1[::10][i], y2[::10][i]])\n",
    "    trail1 = 30            # length of motion trail of weight 1 \n",
    "    trail2 = 30             # length of motion trail of weight 2\n",
    "    ln2.set_data(x1[::10][i:max(1,i-trail1):-1], y1[::10][i:max(1,i-trail1):-1])   # marker + line of first weight\n",
    "    ln3.set_data(x2[::10][i:max(1,i-trail2):-1], y2[::10][i:max(1,i-trail2):-1])   # marker + line of the second weight\n",
    "    \n",
    "fig, ax = plt.subplots(1,1, figsize=(8,8))\n",
    "ax.set_facecolor('k')\n",
    "ax.get_xaxis().set_ticks([])    # enable this to hide x axis ticks\n",
    "ax.get_yaxis().set_ticks([])    # enable this to hide y axis ticks\n",
    "ln1, = plt.plot([], [], 'ro--', lw=3, markersize=8)\n",
    "ln2, = ax.plot([], [], 'ro-',markersize = 8, alpha=0.05)   # line for Earth\n",
    "ln3, = ax.plot([], [], 'ro-',markersize = 8,alpha=0.05)\n",
    "ax.set_ylim(-4,4)\n",
    "ax.set_xlim(-4,4)\n",
    "ani = animation.FuncAnimation(fig, animate, frames=2000, interval=50)\n",
    "ani.save('pen.gif',writer='pillow',fps=50)"
   ]
  }
 ],
 "metadata": {
  "kernelspec": {
   "display_name": "Python 3",
   "language": "python",
   "name": "python3"
  },
  "language_info": {
   "codemirror_mode": {
    "name": "ipython",
    "version": 3
   },
   "file_extension": ".py",
   "mimetype": "text/x-python",
   "name": "python",
   "nbconvert_exporter": "python",
   "pygments_lexer": "ipython3",
   "version": "3.8.5"
  }
 },
 "nbformat": 4,
 "nbformat_minor": 4
}
