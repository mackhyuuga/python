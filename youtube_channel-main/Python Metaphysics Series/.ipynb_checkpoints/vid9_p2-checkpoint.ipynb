{
 "cells": [
  {
   "cell_type": "code",
   "execution_count": null,
   "metadata": {},
   "outputs": [],
   "source": [
    "import numpy as np\n",
    "import matplotlib.pyplot as plt\n",
    "from matplotlib import animation\n",
    "from mpl_toolkits.mplot3d import Axes3D\n",
    "from matplotlib.animation import PillowWriter\n",
    "from matplotlib import cm\n",
    "from skimage import color\n",
    "from skimage import io\n",
    "import numba\n",
    "from numba import jit"
   ]
  },
  {
   "cell_type": "code",
   "execution_count": null,
   "metadata": {},
   "outputs": [],
   "source": [
    "coords = x, y, z = np.loadtxt('../../input/turk.txt', unpack=True, delimiter=',', dtype=int)"
   ]
  },
  {
   "cell_type": "code",
   "execution_count": null,
   "metadata": {},
   "outputs": [],
   "source": [
    "x_2d = x[z==10]\n",
    "y_2d = y[z==10]"
   ]
  },
  {
   "cell_type": "code",
   "execution_count": null,
   "metadata": {},
   "outputs": [],
   "source": [
    "plt.figure(figsize=(12,8))\n",
    "plt.scatter(x_2d, y_2d, s=4)"
   ]
  },
  {
   "cell_type": "code",
   "execution_count": null,
   "metadata": {},
   "outputs": [],
   "source": [
    "img = np.zeros([int(max(x)+1), int(max(y)+1), int(max(z)+1)])\n",
    "np.put(img, np.ravel_multi_index(coords, img.shape), 1)\n",
    "img = np.pad(img, pad_width=1, mode='constant',\n",
    "               constant_values=0)"
   ]
  },
  {
   "cell_type": "code",
   "execution_count": null,
   "metadata": {},
   "outputs": [],
   "source": [
    "turkey_bool = img>0.5"
   ]
  },
  {
   "cell_type": "code",
   "execution_count": null,
   "metadata": {},
   "outputs": [],
   "source": [
    "rawturk_temp = 273.15 + 25\n",
    "oven_temp = 273.15 + 165"
   ]
  },
  {
   "cell_type": "code",
   "execution_count": null,
   "metadata": {},
   "outputs": [],
   "source": [
    "init_heat = np.zeros(img.shape) + oven_temp\n",
    "init_heat[turkey_bool] = rawturk_temp"
   ]
  },
  {
   "cell_type": "code",
   "execution_count": null,
   "metadata": {},
   "outputs": [],
   "source": [
    "np.unique(init_heat)"
   ]
  },
  {
   "cell_type": "code",
   "execution_count": null,
   "metadata": {},
   "outputs": [],
   "source": [
    "times = 36000\n",
    "times_snapshot = 3600\n",
    "f = int(times/times_snapshot)\n",
    "heat_frames = np.zeros([times_snapshot, *img.shape])\n",
    "heat_frames[0] = init_heat"
   ]
  },
  {
   "cell_type": "code",
   "execution_count": null,
   "metadata": {},
   "outputs": [],
   "source": [
    "x = 0.3\n",
    "dx = x/img.shape[2]\n",
    "dy = dz = dx\n",
    "dt = 1\n",
    "a = 1.32e-7"
   ]
  },
  {
   "cell_type": "code",
   "execution_count": null,
   "metadata": {},
   "outputs": [],
   "source": [
    "a * dt / dx**2"
   ]
  },
  {
   "cell_type": "code",
   "execution_count": null,
   "metadata": {},
   "outputs": [],
   "source": [
    "@numba.jit(\"f8[:,:,:,:](f8[:,:,:,:], b1[:,:,:])\", nopython=True, nogil=True)\n",
    "def solve_heat(heatmap, is_turkey):\n",
    "    cs = heatmap[0].copy() #current state\n",
    "    lx, ly, lz = cs.shape\n",
    "    cf = 0 # current frame\n",
    "    for t in range(1,times):\n",
    "        ns = cs.copy() # new state\n",
    "        for i in range(1, lx-1):\n",
    "            for j in range(1, ly-1):\n",
    "                for k in range(lz-1):\n",
    "                    if is_turkey[k][j][i]:\n",
    "                        ns[k][j][i] = cs[k][j][i] + a*dt/dx**2 * (cs[k][j+1][i] + cs[k][j-1][i] +\\\n",
    "                                                        cs[k+1][j][i] + cs[k-1][j][i] +\\\n",
    "                                                        cs[k][j][i+1] + cs[k][j][i-1] -\\\n",
    "                                                        6*cs[k][j][i])\n",
    "        cs = ns.copy()\n",
    "        if t%f==0:\n",
    "            cf = cf + 1\n",
    "            heatmap[cf] = cs\n",
    "            \n",
    "    return heatmap"
   ]
  },
  {
   "cell_type": "code",
   "execution_count": null,
   "metadata": {},
   "outputs": [],
   "source": [
    "heat_frames = solve_heat(heat_frames, turkey_bool)"
   ]
  },
  {
   "cell_type": "code",
   "execution_count": null,
   "metadata": {},
   "outputs": [],
   "source": [
    "heat_frames -= 273.15"
   ]
  },
  {
   "cell_type": "code",
   "execution_count": null,
   "metadata": {},
   "outputs": [],
   "source": [
    "t = np.linspace(0, 10, len(heat_frames))"
   ]
  },
  {
   "cell_type": "code",
   "execution_count": null,
   "metadata": {},
   "outputs": [],
   "source": [
    "plt.imshow(heat_frames[-1][10])"
   ]
  },
  {
   "cell_type": "code",
   "execution_count": null,
   "metadata": {},
   "outputs": [],
   "source": [
    "avg_temp = np.array([heat_frame[turkey_bool].mean() for heat_frame in heat_frames]) \n",
    "min_temp = np.array([heat_frame[turkey_bool].min() for heat_frame in heat_frames]) \n",
    "std_temp = np.array([heat_frame[turkey_bool].std() for heat_frame in heat_frames]) "
   ]
  },
  {
   "cell_type": "code",
   "execution_count": null,
   "metadata": {},
   "outputs": [],
   "source": [
    "plt.plot(t, avg_temp, label='average')\n",
    "plt.plot(t, min_temp, label='average')\n",
    "plt.axhline(80, color='k', ls='--')\n",
    "plt.xlabel('Time[hours]')\n",
    "plt.ylabel('Temp [$^\\circ C$]')\n",
    "plt.grid()"
   ]
  }
 ],
 "metadata": {
  "kernelspec": {
   "display_name": "Python 3",
   "language": "python",
   "name": "python3"
  },
  "language_info": {
   "codemirror_mode": {
    "name": "ipython",
    "version": 3
   },
   "file_extension": ".py",
   "mimetype": "text/x-python",
   "name": "python",
   "nbconvert_exporter": "python",
   "pygments_lexer": "ipython3",
   "version": "3.8.5"
  }
 },
 "nbformat": 4,
 "nbformat_minor": 4
}
