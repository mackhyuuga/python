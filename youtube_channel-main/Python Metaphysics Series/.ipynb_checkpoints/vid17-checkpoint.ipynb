{
 "cells": [
  {
   "cell_type": "markdown",
   "id": "0d97474d-337d-4ec3-9d0f-30b47c260a38",
   "metadata": {},
   "source": [
    "# Technique 1: Finite Difference"
   ]
  },
  {
   "cell_type": "markdown",
   "id": "4e196326-647e-468a-a706-f8e16b29241b",
   "metadata": {},
   "source": [
    "$$ i \\frac{\\partial}{\\partial t} \\psi = -\\frac{1}{2}\\frac{\\partial^2}{\\partial x^2}\\psi + V(x) \\psi $$"
   ]
  },
  {
   "cell_type": "markdown",
   "id": "14d28a5f-3456-44c4-9a02-261f652c859b",
   "metadata": {},
   "source": [
    "$$i\\frac{\\psi_{j}^{m+1} - \\psi_{j}^{m}}{\\Delta t} = - \\frac{1}{2}\\frac{\\psi_{j+1}^{m} -2\\psi_j^m + \\psi_{j-1}^{m}}{\\Delta x^2} +V(x)\\psi_j^m$$ "
   ]
  },
  {
   "cell_type": "markdown",
   "id": "09fb291c-9ee2-4ef2-9bd4-67837c3ae95e",
   "metadata": {},
   "source": [
    "Choosing the units $\\text{mass}=\\hbar=1$ (this is WLOG since one simply needs to rescale everything afterwards)"
   ]
  },
  {
   "cell_type": "markdown",
   "id": "db41b98f-6b54-4e35-8028-422cc8d26509",
   "metadata": {},
   "source": [
    "$$\\psi_{j}^{m+1} = \\psi_j^m + \\frac{i}{2}\\frac{\\Delta t}{\\Delta x^2}\\left(\\psi_{j+1}^{m} -2\\psi_j^m + \\psi_{j-1}^{m}\\right) - i \\Delta tV(x)\\psi_j^m$$ "
   ]
  },
  {
   "cell_type": "markdown",
   "id": "5d0e1f6d-8602-4c88-ad3a-709b24ce9789",
   "metadata": {},
   "source": [
    "# Technique 2: Eigenstate Evolution"
   ]
  },
  {
   "cell_type": "markdown",
   "id": "d6ef03d7-24a6-443f-beab-acfb52202538",
   "metadata": {},
   "source": [
    "Find the $\\psi_j$ and $E_j$'s that satisfy\n",
    "\n",
    "$$ -\\frac{1}{2}\\frac{\\partial^2}{\\partial x^2}\\psi + V(x) \\psi = E\\psi$$"
   ]
  },
  {
   "cell_type": "markdown",
   "id": "3d10922b-d5b2-4f3a-ba4b-abfbf0a1f719",
   "metadata": {},
   "source": [
    "And then\n",
    "\n",
    "$$\\psi(x,t) = \\sum_{j=0}^\\infty c_j \\psi_j(x) e^{-i E_j t} \\hspace{20mm} c_j = \\int_{-\\infty}^{\\infty} \\psi(x, 0)\\psi_j^*(x) dx$$"
   ]
  },
  {
   "cell_type": "markdown",
   "id": "1f336202-85be-4a99-9e43-f2875c350bcd",
   "metadata": {},
   "source": [
    "# Technique 1"
   ]
  },
  {
   "cell_type": "code",
   "execution_count": 212,
   "id": "dd2fb8db-70e9-4be8-b7a6-c90b2c51efb4",
   "metadata": {},
   "outputs": [],
   "source": [
    "import numpy as np\n",
    "import matplotlib.pyplot as plt\n",
    "from matplotlib import animation\n",
    "from matplotlib.animation import PillowWriter\n",
    "import numba\n",
    "from numba import jit\n",
    "from scipy.linalg import eigh_tridiagonal"
   ]
  },
  {
   "cell_type": "code",
   "execution_count": 340,
   "id": "e1d467a1-1a6f-464d-82b1-cfacacba149d",
   "metadata": {},
   "outputs": [],
   "source": [
    "Nx = 501\n",
    "Nt = 50000\n",
    "L = 100\n",
    "dx = L/(Nx-1)\n",
    "dt=0.001\n",
    "x = np.linspace(0, L, Nx)\n",
    "psi0 = np.sqrt(2/L)*np.sin(np.pi*x/L)\n",
    "V = -np.exp(-(x-(L/2))**2/(2*(L/20)**2))"
   ]
  },
  {
   "cell_type": "code",
   "execution_count": 341,
   "id": "0547a1ee",
   "metadata": {},
   "outputs": [
    {
     "data": {
      "text/plain": [
       "1.0"
      ]
     },
     "execution_count": 341,
     "metadata": {},
     "output_type": "execute_result"
    }
   ],
   "source": [
    "np.sum(np.absolute(psi0)**2)*dx"
   ]
  },
  {
   "cell_type": "code",
   "execution_count": 342,
   "id": "671bd2f7-6557-4c7f-ac30-902396a94fda",
   "metadata": {},
   "outputs": [
    {
     "data": {
      "text/plain": [
       "0.024999999999999994"
      ]
     },
     "execution_count": 342,
     "metadata": {},
     "output_type": "execute_result"
    }
   ],
   "source": [
    "dt/dx**2"
   ]
  },
  {
   "cell_type": "code",
   "execution_count": 343,
   "id": "e9328daa-4cd6-48c1-acb7-9f4da4f2cebe",
   "metadata": {},
   "outputs": [
    {
     "data": {
      "text/plain": [
       "[<matplotlib.lines.Line2D at 0x7f100f1ab6a0>]"
      ]
     },
     "execution_count": 343,
     "metadata": {},
     "output_type": "execute_result"
    },
    {
     "data": {
      "image/png": "[encoded data removed]",
      "text/plain": [
       "<Figure size 432x288 with 1 Axes>"
      ]
     },
     "metadata": {
      "needs_background": "light"
     },
     "output_type": "display_data"
    }
   ],
   "source": [
    "plt.plot(x,V)\n",
    "plt.plot(x,psi0**2)"
   ]
  },
  {
   "cell_type": "code",
   "execution_count": 344,
   "id": "e4835a7f-4c92-4716-95f0-647df2a37e53",
   "metadata": {},
   "outputs": [],
   "source": [
    "@numba.jit(\"c16[:,:](c16[:,:])\", nopython=True, nogil=True)\n",
    "def compute_psi(psi):\n",
    "    for t in range(0, Nt-1):\n",
    "        for i in range(1, Nx-1):\n",
    "            psi[t+1][i] = psi[t][i] + 1j/2 * dt/dx**2 * (psi[t][i+1] - 2*psi[t][i] + psi[t][i-1]) - 1j*dt*V[i]*psi[t][i]\n",
    "        \n",
    "        normal = np.sum(np.absolute(psi[t+1])**2)*dx\n",
    "        for i in range(1, Nx-1):\n",
    "            psi[t+1][i] = psi[t+1][i]/normal\n",
    "        \n",
    "    return psi"
   ]
  },
  {
   "cell_type": "code",
   "execution_count": 345,
   "id": "d1a7ced4-c88e-4dc9-9e24-432cdc1a83b4",
   "metadata": {},
   "outputs": [],
   "source": [
    "psi = np.zeros([Nt,Nx])\n",
    "psi[0] = psi0\n",
    "psiasd = compute_psi(psi.astype(complex))"
   ]
  },
  {
   "cell_type": "code",
   "execution_count": 346,
   "id": "975b4c19-9570-4bb8-8dac-90c58fa8fe1a",
   "metadata": {},
   "outputs": [
    {
     "data": {
      "text/plain": [
       "0.999999999548909"
      ]
     },
     "execution_count": 346,
     "metadata": {},
     "output_type": "execute_result"
    },
    {
     "data": {
      "image/png": "[encoded data removed]",
      "text/plain": [
       "<Figure size 432x288 with 1 Axes>"
      ]
     },
     "metadata": {
      "needs_background": "light"
     },
     "output_type": "display_data"
    }
   ],
   "source": [
    "plt.plot(x, np.absolute(psiasd[10000])**2)\n",
    "np.sum(np.absolute(psiasd[10000])**2)*dx"
   ]
  },
  {
   "cell_type": "markdown",
   "id": "bdf6e374",
   "metadata": {},
   "source": [
    "# Technique 2"
   ]
  },
  {
   "cell_type": "code",
   "execution_count": 347,
   "id": "cfaaaeb7",
   "metadata": {},
   "outputs": [],
   "source": [
    "Nx = 1001\n",
    "L = 100\n",
    "dx = L/(Nx-1)\n",
    "x = np.linspace(0, L, Nx)\n",
    "psi0 = np.sqrt(2/L)*np.sin(np.pi*x/L)\n",
    "\n",
    "def V(x):\n",
    "    return -np.exp(-(x-L/2)**2/(2*(L/20)**2))"
   ]
  },
  {
   "cell_type": "code",
   "execution_count": 348,
   "id": "396df6a1",
   "metadata": {},
   "outputs": [],
   "source": [
    "d = 1/dx**2 + V(x)[1:-1]\n",
    "e = -1/(2*dx**2) * np.ones(len(d)-1)\n",
    "w, v = eigh_tridiagonal(d, e)"
   ]
  },
  {
   "cell_type": "code",
   "execution_count": 349,
   "id": "5b1788b6",
   "metadata": {},
   "outputs": [],
   "source": [
    "Es = w[0:70]\n",
    "psis = np.pad(v.T[0:70], [(0, 0), (1, 1)], mode='constant')\n",
    "cs = np.dot(psis, psi0)\n",
    "def psit(t):\n",
    "    return psis.T@(cs*np.exp(-1j*Es*t))"
   ]
  },
  {
   "cell_type": "code",
   "execution_count": 351,
   "id": "7322d761",
   "metadata": {},
   "outputs": [
    {
     "data": {
      "text/plain": [
       "[<matplotlib.lines.Line2D at 0x7f100ef28610>]"
      ]
     },
     "execution_count": 351,
     "metadata": {},
     "output_type": "execute_result"
    },
    {
     "data": {
      "image/png": "[encoded data removed]",
      "text/plain": [
       "<Figure size 432x288 with 1 Axes>"
      ]
     },
     "metadata": {
      "needs_background": "light"
     },
     "output_type": "display_data"
    }
   ],
   "source": [
    "plt.plot(x, psi0**2)\n",
    "plt.plot(x, np.absolute(psit(10000*dt))**2)"
   ]
  },
  {
   "cell_type": "code",
   "execution_count": null,
   "id": "0ee1a42e",
   "metadata": {},
   "outputs": [],
   "source": []
  }
 ],
 "metadata": {
  "kernelspec": {
   "display_name": "Python 3",
   "language": "python",
   "name": "python3"
  },
  "language_info": {
   "codemirror_mode": {
    "name": "ipython",
    "version": 3
   },
   "file_extension": ".py",
   "mimetype": "text/x-python",
   "name": "python",
   "nbconvert_exporter": "python",
   "pygments_lexer": "ipython3",
   "version": "3.8.8"
  }
 },
 "nbformat": 4,
 "nbformat_minor": 5
}
