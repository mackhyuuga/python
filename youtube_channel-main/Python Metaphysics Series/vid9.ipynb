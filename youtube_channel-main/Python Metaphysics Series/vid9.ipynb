{
 "cells": [
  {
   "cell_type": "code",
   "execution_count": 1,
   "metadata": {},
   "outputs": [],
   "source": [
    "import numpy as np\n",
    "import matplotlib.pyplot as plt\n",
    "from matplotlib import animation\n",
    "from mpl_toolkits.mplot3d import Axes3D\n",
    "from matplotlib.animation import PillowWriter\n",
    "from matplotlib import cm\n",
    "from skimage import color\n",
    "from skimage import io\n",
    "import numba\n",
    "from numba import jit"
   ]
  },
  {
   "cell_type": "markdown",
   "metadata": {},
   "source": [
    "The heat equation $$\\alpha \\nabla^2 u = \\frac{\\partial u}{ \\partial t}$$\n",
    "\n",
    "* $u$ is temperature\n",
    "* $\\alpha$ is the thermal diffusivity\n",
    "* $t$ is time\n",
    "\n",
    "in two dimensions and in discrete form, can be written as\n",
    "\n",
    "$$\\alpha \\left( \\frac{u_{i+1,j}^{(m)} -2u_{i,j}^{(m)} + u_{i-1,j}^{(m)}}{\\Delta x^2} + \\frac{u_{i,j+1}^{(m)} -2u_{i,j}^{(m)} + u_{i,j-1}^{(m)}}{\\Delta y^2}\\right) = \\frac{u_j^{(m+1)} - u_j^{(m)}}{\\Delta t} $$ \n",
    "\n",
    "Can rearrange to solve for $m+1$ \n",
    "\n",
    "$$ u_j^{(m+1)} = u_j^{(m)} + \\alpha \\frac{\\Delta t}{\\Delta x^2} \\left( u_{i+1,j}^{(m)} + u_{i-1,j}^{(m)} +  u_{i,j+1}^{(m)} + u_{i,j-1}^{(m)}  -4u_{i,j}^{(m)} \\right) $$"
   ]
  },
  {
   "cell_type": "code",
   "execution_count": 62,
   "metadata": {},
   "outputs": [],
   "source": [
    "edge = np.linspace(0, 1, 100)\n",
    "xv, yv = np.meshgrid(edge, edge)"
   ]
  },
  {
   "cell_type": "markdown",
   "metadata": {},
   "source": [
    "Load image. Find locations of the turkey pixels in boolean 2d array"
   ]
  },
  {
   "cell_type": "code",
   "execution_count": 63,
   "metadata": {},
   "outputs": [
    {
     "name": "stderr",
     "output_type": "stream",
     "text": [
      "<ipython-input-63-22f4b72dce9e>:1: FutureWarning: Non RGB image conversion is now deprecated. For RGBA images, please use rgb2gray(rgba2rgb(rgb)) instead. In version 0.19, a ValueError will be raised if input image last dimension length is not 3.\n",
      "  img = color.rgb2gray(io.imread('../../output/turkey.png'))\n"
     ]
    }
   ],
   "source": [
    "img = color.rgb2gray(io.imread('../../output/turkey.png'))\n",
    "img = np.flip(img, axis=0)"
   ]
  },
  {
   "cell_type": "code",
   "execution_count": 64,
   "metadata": {},
   "outputs": [
    {
     "data": {
      "text/plain": [
       "<matplotlib.contour.QuadContourSet at 0x1d1ad777280>"
      ]
     },
     "execution_count": 64,
     "metadata": {},
     "output_type": "execute_result"
    },
    {
     "data": {
      "image/png": "[encoded data removed]",
      "text/plain": [
       "<Figure size 432x288 with 1 Axes>"
      ]
     },
     "metadata": {
      "needs_background": "light"
     },
     "output_type": "display_data"
    }
   ],
   "source": [
    "plt.contourf(img)"
   ]
  },
  {
   "cell_type": "code",
   "execution_count": 65,
   "metadata": {},
   "outputs": [],
   "source": [
    "turkey_bool = img<0.9\n",
    "turkey_bool[30,:] = False "
   ]
  },
  {
   "cell_type": "markdown",
   "metadata": {},
   "source": [
    "Thermal diffusivity of the turkey:"
   ]
  },
  {
   "cell_type": "code",
   "execution_count": 66,
   "metadata": {},
   "outputs": [],
   "source": [
    "a_turk = 1.32e-7"
   ]
  },
  {
   "cell_type": "markdown",
   "metadata": {},
   "source": [
    "Oven and initial turkey temperature"
   ]
  },
  {
   "cell_type": "code",
   "execution_count": 67,
   "metadata": {},
   "outputs": [],
   "source": [
    "rawturk_temp = 273.15 + 25\n",
    "oven_temp = 273.15 + 165"
   ]
  },
  {
   "cell_type": "markdown",
   "metadata": {},
   "source": [
    "Set the turkey to the initial turkey temperature and the oven to the preheated oven temperature"
   ]
  },
  {
   "cell_type": "code",
   "execution_count": 68,
   "metadata": {},
   "outputs": [],
   "source": [
    "init_heat = np.zeros([100,100]) + oven_temp\n",
    "init_heat[turkey_bool] = rawturk_temp"
   ]
  },
  {
   "cell_type": "code",
   "execution_count": 69,
   "metadata": {},
   "outputs": [
    {
     "data": {
      "text/plain": [
       "<matplotlib.contour.QuadContourSet at 0x1d1cd9ef610>"
      ]
     },
     "execution_count": 69,
     "metadata": {},
     "output_type": "execute_result"
    },
    {
     "data": {
      "image/png": "[encoded data removed]",
      "text/plain": [
       "<Figure size 432x288 with 1 Axes>"
      ]
     },
     "metadata": {
      "needs_background": "light"
     },
     "output_type": "display_data"
    }
   ],
   "source": [
    "plt.contourf(init_heat)"
   ]
  },
  {
   "cell_type": "markdown",
   "metadata": {},
   "source": [
    "Get \n",
    "\n",
    "* Number of differential equation update iterations `times`\n",
    "* Number of snapshots we will take `times_snaphot`. \n",
    "* The array of snapshots we will take of the turkey\n"
   ]
  },
  {
   "cell_type": "code",
   "execution_count": 70,
   "metadata": {},
   "outputs": [],
   "source": [
    "times = 36000\n",
    "times_snapshot = 3600\n",
    "f = int(times/times_snapshot)\n",
    "heat_frames = np.zeros([times_snapshot, 100, 100])\n",
    "heat_frames[0] = init_heat"
   ]
  },
  {
   "cell_type": "code",
   "execution_count": 71,
   "metadata": {},
   "outputs": [
    {
     "data": {
      "text/plain": [
       "10"
      ]
     },
     "execution_count": 71,
     "metadata": {},
     "output_type": "execute_result"
    }
   ],
   "source": [
    "f"
   ]
  },
  {
   "cell_type": "markdown",
   "metadata": {},
   "source": [
    "Set the dimensions of the problem"
   ]
  },
  {
   "cell_type": "code",
   "execution_count": 72,
   "metadata": {},
   "outputs": [],
   "source": [
    "x = 0.5\n",
    "dx = 0.5/100\n",
    "dt = 1"
   ]
  },
  {
   "cell_type": "markdown",
   "metadata": {},
   "source": [
    "Compute $s = \\alpha \\Delta t / \\Delta x^2$. $s$ needs to be much less than 1/4 for this to work."
   ]
  },
  {
   "cell_type": "code",
   "execution_count": 73,
   "metadata": {},
   "outputs": [
    {
     "data": {
      "text/plain": [
       "0.005279999999999999"
      ]
     },
     "execution_count": 73,
     "metadata": {},
     "output_type": "execute_result"
    }
   ],
   "source": [
    "a_turk * dt / dx**2"
   ]
  },
  {
   "cell_type": "markdown",
   "metadata": {},
   "source": [
    "Set up numba function"
   ]
  },
  {
   "cell_type": "code",
   "execution_count": 74,
   "metadata": {},
   "outputs": [],
   "source": [
    "@numba.jit(\"f8[:,:,:](f8[:,:,:], b1[:,:])\", nopython=True, nogil=True)\n",
    "def solve_heat(heatmap, is_turkey):\n",
    "    cs = heatmap[0].copy() #current state\n",
    "    length = len(cs[0])\n",
    "    cf = 0 # current frame\n",
    "    for t in range(1,times):\n",
    "        ns = cs.copy() # new state\n",
    "        for i in range(1, length-1):\n",
    "            for j in range(1, length-1):\n",
    "                if is_turkey[j][i]:\n",
    "                    a = a_turk\n",
    "                    ns[j][i] = cs[j][i] + a*dt/dx**2 * (cs[j+1][i] + cs[j-1][i] +\\\n",
    "                                                    cs[j][i+1] + cs[j][i-1] -\\\n",
    "                                                    4*cs[j][i])\n",
    "        cs = ns.copy()\n",
    "        if t%f==0:\n",
    "            cf = cf + 1\n",
    "            heatmap[cf] = cs\n",
    "            \n",
    "    return heatmap"
   ]
  },
  {
   "cell_type": "markdown",
   "metadata": {},
   "source": [
    "Get heat snapshots (in Kelvin)"
   ]
  },
  {
   "cell_type": "code",
   "execution_count": 75,
   "metadata": {},
   "outputs": [],
   "source": [
    "heat_frames = solve_heat(heat_frames, turkey_bool)"
   ]
  },
  {
   "cell_type": "markdown",
   "metadata": {},
   "source": [
    "Convert to celcius"
   ]
  },
  {
   "cell_type": "code",
   "execution_count": 76,
   "metadata": {},
   "outputs": [],
   "source": [
    "heat_frames -= 273.15"
   ]
  },
  {
   "cell_type": "markdown",
   "metadata": {},
   "source": [
    "Make heat plot of final snapshot"
   ]
  },
  {
   "cell_type": "code",
   "execution_count": 47,
   "metadata": {},
   "outputs": [
    {
     "data": {
      "text/plain": [
       "<matplotlib.colorbar.Colorbar at 0x1d19f4bc3a0>"
      ]
     },
     "execution_count": 47,
     "metadata": {},
     "output_type": "execute_result"
    },
    {
     "data": {
      "image/png": "[encoded data removed]",
      "text/plain": [
       "<Figure size 576x576 with 2 Axes>"
      ]
     },
     "metadata": {
      "needs_background": "light"
     },
     "output_type": "display_data"
    }
   ],
   "source": [
    "my_cmap = plt.get_cmap('inferno')\n",
    "plt.figure(figsize=(8,8))\n",
    "a = plt.contourf(heat_frames[1000], 100, cmap=my_cmap, vmin=rawturk_temp-273.15, vmax=oven_temp-273.15)\n",
    "plt.colorbar(a)"
   ]
  },
  {
   "cell_type": "markdown",
   "metadata": {},
   "source": [
    "Make animation"
   ]
  },
  {
   "cell_type": "code",
   "execution_count": 1,
   "metadata": {},
   "outputs": [
    {
     "ename": "SyntaxError",
     "evalue": "invalid syntax (<ipython-input-1-bfe69c3dddc4>, line 1)",
     "output_type": "error",
     "traceback": [
      "\u001b[1;36m  File \u001b[1;32m\"<ipython-input-1-bfe69c3dddc4>\"\u001b[1;36m, line \u001b[1;32m1\u001b[0m\n\u001b[1;33m    def init()\u001b[0m\n\u001b[1;37m              ^\u001b[0m\n\u001b[1;31mSyntaxError\u001b[0m\u001b[1;31m:\u001b[0m invalid syntax\n"
     ]
    }
   ],
   "source": [
    "def animate(i):\n",
    "    ax.clear()\n",
    "    ax.contourf(heat_frames[10*i], 100, cmap=my_cmap, vmin=rawturk_temp-273.15, vmax = oven_temp-273.15)\n",
    "\n",
    "    return fig,\n",
    "\n",
    "fig, ax = plt.subplots(figsize=(8,6))\n",
    "ani = animation.FuncAnimation(fig, animate,\n",
    "                               frames=359, interval=50)\n",
    "ani.save('cooked.gif',writer='pillow',fps=30)"
   ]
  },
  {
   "cell_type": "markdown",
   "metadata": {},
   "source": [
    "Examine a few quantities"
   ]
  },
  {
   "cell_type": "code",
   "execution_count": 77,
   "metadata": {},
   "outputs": [],
   "source": [
    "t = np.linspace(0, 10, len(heat_frames))"
   ]
  },
  {
   "cell_type": "code",
   "execution_count": 78,
   "metadata": {},
   "outputs": [],
   "source": [
    "avg_temp = np.array([heat_frame[turkey_bool].mean() for heat_frame in heat_frames]) \n",
    "min_temp = np.array([heat_frame[turkey_bool].min() for heat_frame in heat_frames]) \n",
    "std_temp = np.array([heat_frame[turkey_bool].std() for heat_frame in heat_frames]) "
   ]
  },
  {
   "cell_type": "markdown",
   "metadata": {},
   "source": [
    "Plot"
   ]
  },
  {
   "cell_type": "code",
   "execution_count": 79,
   "metadata": {},
   "outputs": [
    {
     "data": {
      "image/png": "[encoded data removed]",
      "text/plain": [
       "<Figure size 432x288 with 1 Axes>"
      ]
     },
     "metadata": {
      "needs_background": "light"
     },
     "output_type": "display_data"
    }
   ],
   "source": [
    "plt.plot(t, avg_temp, label='average')\n",
    "plt.plot(t, min_temp, label='average')\n",
    "plt.axhline(80, color='k', ls='--')\n",
    "plt.xlabel('Time[hours]')\n",
    "plt.ylabel('Temp [$^\\circ C$]')\n",
    "plt.grid()"
   ]
  }
 ],
 "metadata": {
  "kernelspec": {
   "display_name": "Python 3",
   "language": "python",
   "name": "python3"
  },
  "language_info": {
   "codemirror_mode": {
    "name": "ipython",
    "version": 3
   },
   "file_extension": ".py",
   "mimetype": "text/x-python",
   "name": "python",
   "nbconvert_exporter": "python",
   "pygments_lexer": "ipython3",
   "version": "3.8.5"
  }
 },
 "nbformat": 4,
 "nbformat_minor": 4
}
