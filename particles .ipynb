{
 "cells": [
  {
   "cell_type": "code",
   "execution_count": 1,
   "id": "681de741",
   "metadata": {},
   "outputs": [],
   "source": [
    "import numpy as np\n",
    "import pandas as pd\n",
    "from sympy import *\n",
    "import sympy as sp\n",
    "from scipy.integrate import odeint\n",
    "from scipy.integrate import solve_ivp\n",
    "import matplotlib.pyplot as plt"
   ]
  },
  {
   "cell_type": "code",
   "execution_count": 2,
   "id": "3a59d32f",
   "metadata": {},
   "outputs": [
    {
     "ename": "ModuleNotFoundError",
     "evalue": "No module named 'bpy'",
     "output_type": "error",
     "traceback": [
      "\u001b[0;31m---------------------------------------------------------------------------\u001b[0m",
      "\u001b[0;31mModuleNotFoundError\u001b[0m                       Traceback (most recent call last)",
      "\u001b[0;32m/tmp/ipykernel_46559/2513501344.py\u001b[0m in \u001b[0;36m<module>\u001b[0;34m\u001b[0m\n\u001b[0;32m----> 1\u001b[0;31m \u001b[0;32mimport\u001b[0m \u001b[0mbpy\u001b[0m\u001b[0;34m\u001b[0m\u001b[0;34m\u001b[0m\u001b[0m\n\u001b[0m\u001b[1;32m      2\u001b[0m \u001b[0;32mimport\u001b[0m \u001b[0mmath\u001b[0m\u001b[0;34m\u001b[0m\u001b[0;34m\u001b[0m\u001b[0m\n\u001b[1;32m      3\u001b[0m \u001b[0;34m\u001b[0m\u001b[0m\n\u001b[1;32m      4\u001b[0m \u001b[0;34m\u001b[0m\u001b[0m\n\u001b[1;32m      5\u001b[0m \u001b[0;32mclass\u001b[0m \u001b[0mParticle\u001b[0m\u001b[0;34m(\u001b[0m\u001b[0;34m)\u001b[0m\u001b[0;34m:\u001b[0m\u001b[0;34m\u001b[0m\u001b[0;34m\u001b[0m\u001b[0m\n",
      "\u001b[0;31mModuleNotFoundError\u001b[0m: No module named 'bpy'"
     ]
    }
   ],
   "source": [
    "import bpy\n",
    "import math \n",
    "\n",
    "\n",
    "class Particle():\n",
    "    def __init__(self, name, position, momentum = None, charge = None):\n",
    "        self.name = name\n",
    "        self.position = position\n",
    "        self.momentum = momentum\n",
    "        self.charge = charge\n",
    "    \n",
    "    \n",
    "    \n",
    "    \n",
    "class Sphere(Particle):\n",
    "    def __init__(self, name, position, momentum = None, charge = None, scale = (1, 1, 1), radius = 1):\n",
    "        super().__init__(name, position, momentum, charge) \n",
    "        self.scale = scale\n",
    "        self.radius = radius\n",
    "        \n",
    "    \n",
    "    def create(self, location = (0,0,0)):\n",
    "        bpy.ops.mesh.primitive_uv_sphere_add(radius = self.radius, enter_editmode = False, align = 'WORLD', location = location, scale = self.scale)\n",
    "        bpy.context.object.name = self.name\n",
    "        \n",
    "        \n",
    "    def move(self, location = (0,0,0)):\n",
    "        bpy.data.objects[self.name].location = location\n",
    "        \n",
    "        \n",
    "    def keyframe(self,frame, data_path = 'location'):\n",
    "        bpy.data.objects[self.name].keyframe_insert(\n",
    "        data_path = data_path,\n",
    "        frame = frame\n",
    "    )\n",
    "                \n",
    "    \n",
    "    \n",
    "s1 = Sphere('allison', (0,0,0))\n",
    "s1.create(s1.position)\n",
    "s1.keyframe(0)\n",
    "s1.move((10,0,0))\n",
    "s1.keyframe(100)\n",
    "\n"
   ]
  },
  {
   "cell_type": "code",
   "execution_count": 5,
   "id": "5c5fade9",
   "metadata": {},
   "outputs": [
    {
     "ename": "NameError",
     "evalue": "name 'bpy' is not defined",
     "output_type": "error",
     "traceback": [
      "\u001b[0;31m---------------------------------------------------------------------------\u001b[0m",
      "\u001b[0;31mNameError\u001b[0m                                 Traceback (most recent call last)",
      "\u001b[0;32m/tmp/ipykernel_46385/2170712360.py\u001b[0m in \u001b[0;36m<module>\u001b[0;34m\u001b[0m\n\u001b[0;32m----> 1\u001b[0;31m \u001b[0mbpy\u001b[0m\u001b[0;34m.\u001b[0m\u001b[0mops\u001b[0m\u001b[0;34m.\u001b[0m\u001b[0mmesh\u001b[0m\u001b[0;34m.\u001b[0m\u001b[0mprimitive_cube_add\u001b[0m\u001b[0;34m(\u001b[0m\u001b[0;34m)\u001b[0m\u001b[0;34m\u001b[0m\u001b[0;34m\u001b[0m\u001b[0m\n\u001b[0m\u001b[1;32m      2\u001b[0m \u001b[0;34m\u001b[0m\u001b[0m\n\u001b[1;32m      3\u001b[0m \u001b[0mcube\u001b[0m \u001b[0;34m=\u001b[0m \u001b[0mbpy\u001b[0m\u001b[0;34m.\u001b[0m\u001b[0mcontext\u001b[0m\u001b[0;34m.\u001b[0m\u001b[0mobject\u001b[0m\u001b[0;34m\u001b[0m\u001b[0;34m\u001b[0m\u001b[0m\n\u001b[1;32m      4\u001b[0m \u001b[0;34m\u001b[0m\u001b[0m\n\u001b[1;32m      5\u001b[0m \u001b[0mprint\u001b[0m\u001b[0;34m(\u001b[0m\u001b[0mcube\u001b[0m\u001b[0;34m.\u001b[0m\u001b[0mlocation\u001b[0m\u001b[0;34m)\u001b[0m\u001b[0;34m\u001b[0m\u001b[0;34m\u001b[0m\u001b[0m\n",
      "\u001b[0;31mNameError\u001b[0m: name 'bpy' is not defined"
     ]
    }
   ],
   "source": [
    "bpy.ops.mesh.primitive_cube_add()\n",
    "\n",
    "cube = bpy.context.object\n",
    "\n",
    "print(cube.location)\n",
    "\n",
    "\n",
    "\n",
    "\n",
    "for i in range(3):\n",
    "    locals()[f'cube{i}']=i\n",
    "    \n",
    "print(cube2)\n",
    "\n",
    "\n",
    "\n",
    "\n",
    "\n",
    "import bpy\n",
    "\n",
    "for x in range(10):\n",
    "    bpy.ops.mesh.primitive_cube_add()\n",
    "    bpy.data.objects['Cube'].name = f'cubo{i}'\n",
    "    bpy.context.object.location = (2*x,0,0)\n",
    "\n",
    "    \n",
    "    \n",
    "import bpy\n",
    "from random import randint\n",
    "\n",
    "bpy.ops.mesh.primitive_cube_add()\n",
    "\n",
    "cena = bpy.context.scene\n",
    "cena.frame_start = 0\n",
    "cena.frame_end = 100\n",
    "\n",
    "cube = bpy.context.object\n",
    "for x in range(10):\n",
    "    cube.location.x = x\n",
    "    cube.location.y = x\n",
    "    cube.keyframe_insert(\n",
    "        data_path='location',\n",
    "        frame=x*10\n",
    "    )"
   ]
  },
  {
   "cell_type": "code",
   "execution_count": 3,
   "id": "3c84baaa",
   "metadata": {},
   "outputs": [
    {
     "data": {
      "text/html": [
       "<div>\n",
       "<style scoped>\n",
       "    .dataframe tbody tr th:only-of-type {\n",
       "        vertical-align: middle;\n",
       "    }\n",
       "\n",
       "    .dataframe tbody tr th {\n",
       "        vertical-align: top;\n",
       "    }\n",
       "\n",
       "    .dataframe thead th {\n",
       "        text-align: right;\n",
       "    }\n",
       "</style>\n",
       "<table border=\"1\" class=\"dataframe\">\n",
       "  <thead>\n",
       "    <tr style=\"text-align: right;\">\n",
       "      <th></th>\n",
       "      <th>r1x</th>\n",
       "      <th>r1y</th>\n",
       "      <th>r2x</th>\n",
       "      <th>r2y</th>\n",
       "      <th>r3x</th>\n",
       "      <th>r3y</th>\n",
       "      <th>t</th>\n",
       "    </tr>\n",
       "  </thead>\n",
       "  <tbody>\n",
       "    <tr>\n",
       "      <th>0</th>\n",
       "      <td>-1.000000</td>\n",
       "      <td>0.000000</td>\n",
       "      <td>1.254954</td>\n",
       "      <td>0.000000</td>\n",
       "      <td>2.745046</td>\n",
       "      <td>0.000000</td>\n",
       "      <td>0.00</td>\n",
       "    </tr>\n",
       "    <tr>\n",
       "      <th>1</th>\n",
       "      <td>-0.999993</td>\n",
       "      <td>-0.003660</td>\n",
       "      <td>1.254945</td>\n",
       "      <td>0.004594</td>\n",
       "      <td>2.745028</td>\n",
       "      <td>0.010048</td>\n",
       "      <td>0.01</td>\n",
       "    </tr>\n",
       "    <tr>\n",
       "      <th>2</th>\n",
       "      <td>-0.999973</td>\n",
       "      <td>-0.007321</td>\n",
       "      <td>1.254920</td>\n",
       "      <td>0.009187</td>\n",
       "      <td>2.744973</td>\n",
       "      <td>0.020095</td>\n",
       "      <td>0.02</td>\n",
       "    </tr>\n",
       "    <tr>\n",
       "      <th>3</th>\n",
       "      <td>-0.999940</td>\n",
       "      <td>-0.010981</td>\n",
       "      <td>1.254878</td>\n",
       "      <td>0.013780</td>\n",
       "      <td>2.744881</td>\n",
       "      <td>0.030143</td>\n",
       "      <td>0.03</td>\n",
       "    </tr>\n",
       "    <tr>\n",
       "      <th>4</th>\n",
       "      <td>-0.999893</td>\n",
       "      <td>-0.014641</td>\n",
       "      <td>1.254819</td>\n",
       "      <td>0.018374</td>\n",
       "      <td>2.744752</td>\n",
       "      <td>0.040190</td>\n",
       "      <td>0.04</td>\n",
       "    </tr>\n",
       "    <tr>\n",
       "      <th>...</th>\n",
       "      <td>...</td>\n",
       "      <td>...</td>\n",
       "      <td>...</td>\n",
       "      <td>...</td>\n",
       "      <td>...</td>\n",
       "      <td>...</td>\n",
       "      <td>...</td>\n",
       "    </tr>\n",
       "    <tr>\n",
       "      <th>1796</th>\n",
       "      <td>-0.958019</td>\n",
       "      <td>-0.286721</td>\n",
       "      <td>1.202313</td>\n",
       "      <td>0.359810</td>\n",
       "      <td>2.629762</td>\n",
       "      <td>0.787075</td>\n",
       "      <td>17.96</td>\n",
       "    </tr>\n",
       "    <tr>\n",
       "      <th>1797</th>\n",
       "      <td>-0.956963</td>\n",
       "      <td>-0.290226</td>\n",
       "      <td>1.200988</td>\n",
       "      <td>0.364208</td>\n",
       "      <td>2.626863</td>\n",
       "      <td>0.796695</td>\n",
       "      <td>17.97</td>\n",
       "    </tr>\n",
       "    <tr>\n",
       "      <th>1798</th>\n",
       "      <td>-0.955894</td>\n",
       "      <td>-0.293727</td>\n",
       "      <td>1.199647</td>\n",
       "      <td>0.368602</td>\n",
       "      <td>2.623929</td>\n",
       "      <td>0.806305</td>\n",
       "      <td>17.98</td>\n",
       "    </tr>\n",
       "    <tr>\n",
       "      <th>1799</th>\n",
       "      <td>-0.954813</td>\n",
       "      <td>-0.297224</td>\n",
       "      <td>1.198291</td>\n",
       "      <td>0.372990</td>\n",
       "      <td>2.620960</td>\n",
       "      <td>0.815905</td>\n",
       "      <td>17.99</td>\n",
       "    </tr>\n",
       "    <tr>\n",
       "      <th>1800</th>\n",
       "      <td>-0.953718</td>\n",
       "      <td>-0.300717</td>\n",
       "      <td>1.196918</td>\n",
       "      <td>0.377374</td>\n",
       "      <td>2.617955</td>\n",
       "      <td>0.825493</td>\n",
       "      <td>18.00</td>\n",
       "    </tr>\n",
       "  </tbody>\n",
       "</table>\n",
       "<p>1801 rows × 7 columns</p>\n",
       "</div>"
      ],
      "text/plain": [
       "           r1x       r1y       r2x       r2y       r3x       r3y      t\n",
       "0    -1.000000  0.000000  1.254954  0.000000  2.745046  0.000000   0.00\n",
       "1    -0.999993 -0.003660  1.254945  0.004594  2.745028  0.010048   0.01\n",
       "2    -0.999973 -0.007321  1.254920  0.009187  2.744973  0.020095   0.02\n",
       "3    -0.999940 -0.010981  1.254878  0.013780  2.744881  0.030143   0.03\n",
       "4    -0.999893 -0.014641  1.254819  0.018374  2.744752  0.040190   0.04\n",
       "...        ...       ...       ...       ...       ...       ...    ...\n",
       "1796 -0.958019 -0.286721  1.202313  0.359810  2.629762  0.787075  17.96\n",
       "1797 -0.956963 -0.290226  1.200988  0.364208  2.626863  0.796695  17.97\n",
       "1798 -0.955894 -0.293727  1.199647  0.368602  2.623929  0.806305  17.98\n",
       "1799 -0.954813 -0.297224  1.198291  0.372990  2.620960  0.815905  17.99\n",
       "1800 -0.953718 -0.300717  1.196918  0.377374  2.617955  0.825493  18.00\n",
       "\n",
       "[1801 rows x 7 columns]"
      ]
     },
     "execution_count": 3,
     "metadata": {},
     "output_type": "execute_result"
    }
   ],
   "source": [
    "df = pd.read_csv('/home/allison/Documents/facul/computacional/código/output_01.txt', delimiter = '\\s+')\n",
    "df"
   ]
  },
  {
   "cell_type": "code",
   "execution_count": 21,
   "id": "624ecb5d",
   "metadata": {},
   "outputs": [
    {
     "name": "stdout",
     "output_type": "stream",
     "text": [
      "ok\n"
     ]
    },
    {
     "data": {
      "text/plain": [
       "'eduardo'"
      ]
     },
     "execution_count": 21,
     "metadata": {},
     "output_type": "execute_result"
    }
   ],
   "source": [
    "class Particle():\n",
    "    def __init__(self, name, position = None, rotation = None, scale = None, momentum = None, charge = None):\n",
    "        self.name = name\n",
    "        self.position = position\n",
    "        self.rotation = rotation\n",
    "        self.scale = scale \n",
    "        self.momentum = momentum\n",
    "        self.charge = charge\n",
    "    \n",
    "    \n",
    "    \n",
    "    \n",
    "class Sphere(Particle):\n",
    "    def __init__(self, name, position = (1,1,1), momentum = None, charge = None, scale = (1, 1, 1), radius = 1):\n",
    "        super().__init__(name = name, position = position, scale = scale, momentum = momentum, charge = charge) \n",
    "        self.radius = radius\n",
    "        \n",
    "    \n",
    "particle1 = Sphere('allison', charge=5, momentum= 10)\n",
    "print(particle1.position)\n",
    "\n"
   ]
  },
  {
   "cell_type": "code",
   "execution_count": 5,
   "id": "1df1dc5a",
   "metadata": {},
   "outputs": [
    {
     "data": {
      "text/plain": [
       "array([-1.        , -0.9999933 , -0.9999732 , ..., -0.95589409,\n",
       "       -0.95481258, -0.95371829])"
      ]
     },
     "execution_count": 5,
     "metadata": {},
     "output_type": "execute_result"
    }
   ],
   "source": [
    "r1x = []\n",
    "for i in df['r1x']:\n",
    "    r1x = np.concatenate((r1x,[i]))\n",
    "    \n",
    "r1x"
   ]
  },
  {
   "cell_type": "code",
   "execution_count": 29,
   "id": "897ba433",
   "metadata": {},
   "outputs": [
    {
     "data": {
      "text/html": [
       "<div>\n",
       "<style scoped>\n",
       "    .dataframe tbody tr th:only-of-type {\n",
       "        vertical-align: middle;\n",
       "    }\n",
       "\n",
       "    .dataframe tbody tr th {\n",
       "        vertical-align: top;\n",
       "    }\n",
       "\n",
       "    .dataframe thead th {\n",
       "        text-align: right;\n",
       "    }\n",
       "</style>\n",
       "<table border=\"1\" class=\"dataframe\">\n",
       "  <thead>\n",
       "    <tr style=\"text-align: right;\">\n",
       "      <th></th>\n",
       "      <th>r1x</th>\n",
       "      <th>r1y</th>\n",
       "    </tr>\n",
       "  </thead>\n",
       "  <tbody>\n",
       "    <tr>\n",
       "      <th>0</th>\n",
       "      <td>-1.000000</td>\n",
       "      <td>0.000000</td>\n",
       "    </tr>\n",
       "    <tr>\n",
       "      <th>1</th>\n",
       "      <td>-0.999993</td>\n",
       "      <td>-0.003660</td>\n",
       "    </tr>\n",
       "    <tr>\n",
       "      <th>2</th>\n",
       "      <td>-0.999973</td>\n",
       "      <td>-0.007321</td>\n",
       "    </tr>\n",
       "    <tr>\n",
       "      <th>3</th>\n",
       "      <td>-0.999940</td>\n",
       "      <td>-0.010981</td>\n",
       "    </tr>\n",
       "    <tr>\n",
       "      <th>4</th>\n",
       "      <td>-0.999893</td>\n",
       "      <td>-0.014641</td>\n",
       "    </tr>\n",
       "    <tr>\n",
       "      <th>...</th>\n",
       "      <td>...</td>\n",
       "      <td>...</td>\n",
       "    </tr>\n",
       "    <tr>\n",
       "      <th>1796</th>\n",
       "      <td>-0.958019</td>\n",
       "      <td>-0.286721</td>\n",
       "    </tr>\n",
       "    <tr>\n",
       "      <th>1797</th>\n",
       "      <td>-0.956963</td>\n",
       "      <td>-0.290226</td>\n",
       "    </tr>\n",
       "    <tr>\n",
       "      <th>1798</th>\n",
       "      <td>-0.955894</td>\n",
       "      <td>-0.293727</td>\n",
       "    </tr>\n",
       "    <tr>\n",
       "      <th>1799</th>\n",
       "      <td>-0.954813</td>\n",
       "      <td>-0.297224</td>\n",
       "    </tr>\n",
       "    <tr>\n",
       "      <th>1800</th>\n",
       "      <td>-0.953718</td>\n",
       "      <td>-0.300717</td>\n",
       "    </tr>\n",
       "  </tbody>\n",
       "</table>\n",
       "<p>1801 rows × 2 columns</p>\n",
       "</div>"
      ],
      "text/plain": [
       "           r1x       r1y\n",
       "0    -1.000000  0.000000\n",
       "1    -0.999993 -0.003660\n",
       "2    -0.999973 -0.007321\n",
       "3    -0.999940 -0.010981\n",
       "4    -0.999893 -0.014641\n",
       "...        ...       ...\n",
       "1796 -0.958019 -0.286721\n",
       "1797 -0.956963 -0.290226\n",
       "1798 -0.955894 -0.293727\n",
       "1799 -0.954813 -0.297224\n",
       "1800 -0.953718 -0.300717\n",
       "\n",
       "[1801 rows x 2 columns]"
      ]
     },
     "execution_count": 29,
     "metadata": {},
     "output_type": "execute_result"
    }
   ],
   "source": [
    "df[['r1x', 'r1y']]"
   ]
  },
  {
   "cell_type": "code",
   "execution_count": 12,
   "id": "e04288ad",
   "metadata": {},
   "outputs": [
    {
     "name": "stdout",
     "output_type": "stream",
     "text": [
      "arg1:  0\n",
      "arg2:  4\n",
      "args:  (1, 2, 3)\n"
     ]
    }
   ],
   "source": [
    "def func_args2(arg1, *args, arg2):\n",
    "    print('arg1: ', arg1)\n",
    "    print('arg2: ', arg2)\n",
    "    print('args: ', args)\n",
    "\n",
    "# func_args2(0, 1, 2, 3, 4)\n",
    "# TypeError: func_args2() missing 1 required keyword-only argument: 'arg2'\n",
    "        \n",
    "func_args2(0, 1, 2, 3, arg2=4)\n",
    "# arg1:  0\n",
    "# arg2:  4\n",
    "# args:  (1, 2, 3)"
   ]
  },
  {
   "cell_type": "code",
   "execution_count": 19,
   "id": "b3248dd9",
   "metadata": {},
   "outputs": [
    {
     "data": {
      "text/plain": [
       "1801"
      ]
     },
     "execution_count": 19,
     "metadata": {},
     "output_type": "execute_result"
    }
   ],
   "source": [
    "df['t'].le"
   ]
  },
  {
   "cell_type": "code",
   "execution_count": 2,
   "id": "e86236b4",
   "metadata": {},
   "outputs": [
    {
     "ename": "NameError",
     "evalue": "name 'df' is not defined",
     "output_type": "error",
     "traceback": [
      "\u001b[0;31m---------------------------------------------------------------------------\u001b[0m",
      "\u001b[0;31mNameError\u001b[0m                                 Traceback (most recent call last)",
      "\u001b[0;32m/tmp/ipykernel_8953/180003004.py\u001b[0m in \u001b[0;36m<module>\u001b[0;34m\u001b[0m\n\u001b[0;32m----> 1\u001b[0;31m \u001b[0;32mfor\u001b[0m \u001b[0mi\u001b[0m \u001b[0;32min\u001b[0m \u001b[0mrange\u001b[0m\u001b[0;34m(\u001b[0m\u001b[0;36m2\u001b[0m\u001b[0;34m,\u001b[0m\u001b[0mdf\u001b[0m\u001b[0;34m[\u001b[0m\u001b[0;34m't'\u001b[0m\u001b[0;34m]\u001b[0m\u001b[0;34m.\u001b[0m\u001b[0msize\u001b[0m\u001b[0;34m)\u001b[0m\u001b[0;34m:\u001b[0m\u001b[0;34m\u001b[0m\u001b[0;34m\u001b[0m\u001b[0m\n\u001b[0m\u001b[1;32m      2\u001b[0m     \u001b[0mprint\u001b[0m\u001b[0;34m(\u001b[0m\u001b[0mi\u001b[0m\u001b[0;34m)\u001b[0m\u001b[0;34m\u001b[0m\u001b[0;34m\u001b[0m\u001b[0m\n",
      "\u001b[0;31mNameError\u001b[0m: name 'df' is not defined"
     ]
    }
   ],
   "source": [
    "for i in range(2,df['t'].size):\n",
    "    print(i)"
   ]
  },
  {
   "cell_type": "code",
   "execution_count": 11,
   "id": "cd62350a",
   "metadata": {},
   "outputs": [
    {
     "data": {
      "text/plain": [
       "12"
      ]
     },
     "execution_count": 11,
     "metadata": {},
     "output_type": "execute_result"
    }
   ],
   "source": [
    " \n",
    "        \n",
    "class Scene():\n",
    "    def __init__(self, format = 12, collection = 'Collection', position = None, rotation = None, scale = None, momentum = None, charge = None):\n",
    "        self.collection = collection \n",
    "        self.format = format\n",
    "        self.position = position\n",
    "        self.rotation = rotation\n",
    "        self.scale = scale \n",
    "        self.momentum = momentum\n",
    "        self.charge = charge\n",
    "        \n",
    "scene = Scene()\n",
    "scene.format"
   ]
  }
 ],
 "metadata": {
  "kernelspec": {
   "display_name": "Python 3 (ipykernel)",
   "language": "python",
   "name": "python3"
  },
  "language_info": {
   "codemirror_mode": {
    "name": "ipython",
    "version": 3
   },
   "file_extension": ".py",
   "mimetype": "text/x-python",
   "name": "python",
   "nbconvert_exporter": "python",
   "pygments_lexer": "ipython3",
   "version": "3.9.7"
  }
 },
 "nbformat": 4,
 "nbformat_minor": 5
}
